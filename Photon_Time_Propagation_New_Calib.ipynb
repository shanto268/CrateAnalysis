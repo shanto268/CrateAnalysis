{
 "cells": [
  {
   "cell_type": "markdown",
   "id": "reserved-transition",
   "metadata": {},
   "source": [
    "# TO DO:\n",
    "\n",
    "1. [X] Fix the y-coordinate flip \n",
    "2. [X] Recreate Plots\n",
    "3. [X] 'Accurate Peak Fitting Code'\n",
    "4. 'Explore TDC fit of X'\n",
    "\n",
    "## Ideas:\n",
    "\n",
    "Relate the meanTDC vs coordinate to space-time diagrams and understand platooning."
   ]
  },
  {
   "cell_type": "markdown",
   "id": "reasonable-african",
   "metadata": {
    "heading_collapsed": true
   },
   "source": [
    "# Study of TDC for Application in $\\mu$ Track Reconstruction"
   ]
  },
  {
   "cell_type": "markdown",
   "id": "reserved-registrar",
   "metadata": {
    "hidden": true
   },
   "source": [
    "Import the `MuDataFrame` Objects. Using the lead brick with gap as the `mdfo_lead` object."
   ]
  },
  {
   "cell_type": "code",
   "execution_count": 2,
   "id": "studied-glance",
   "metadata": {
    "cell_style": "split",
    "hidden": true
   },
   "outputs": [
    {
     "data": {
      "text/html": [
       "<div>\n",
       "<style scoped>\n",
       "    .dataframe tbody tr th:only-of-type {\n",
       "        vertical-align: middle;\n",
       "    }\n",
       "\n",
       "    .dataframe tbody tr th {\n",
       "        vertical-align: top;\n",
       "    }\n",
       "\n",
       "    .dataframe thead th {\n",
       "        text-align: right;\n",
       "    }\n",
       "</style>\n",
       "<table border=\"1\" class=\"dataframe\">\n",
       "  <thead>\n",
       "    <tr style=\"text-align: right;\">\n",
       "      <th></th>\n",
       "      <th>Unnamed: 0</th>\n",
       "      <th>index</th>\n",
       "      <th>event_num</th>\n",
       "      <th>event_time</th>\n",
       "      <th>deadtime</th>\n",
       "      <th>l1hit</th>\n",
       "      <th>l2hit</th>\n",
       "      <th>l3hit</th>\n",
       "      <th>l4hit</th>\n",
       "      <th>r1hit</th>\n",
       "      <th>...</th>\n",
       "      <th>z_angle</th>\n",
       "      <th>SmallCounter</th>\n",
       "      <th>speed</th>\n",
       "      <th>Run_Num</th>\n",
       "      <th>xx</th>\n",
       "      <th>yy</th>\n",
       "      <th>xx1</th>\n",
       "      <th>yy1</th>\n",
       "      <th>time_of_day</th>\n",
       "      <th>time</th>\n",
       "    </tr>\n",
       "  </thead>\n",
       "  <tbody>\n",
       "    <tr>\n",
       "      <th>0</th>\n",
       "      <td>0</td>\n",
       "      <td>0</td>\n",
       "      <td>0</td>\n",
       "      <td>2021-05-03 12:40:15.812760</td>\n",
       "      <td>0</td>\n",
       "      <td>1.0</td>\n",
       "      <td>1.0</td>\n",
       "      <td>1.0</td>\n",
       "      <td>1.0</td>\n",
       "      <td>1.0</td>\n",
       "      <td>...</td>\n",
       "      <td>13.455446</td>\n",
       "      <td>NaN</td>\n",
       "      <td>0.342978</td>\n",
       "      <td>622</td>\n",
       "      <td>-5.445887</td>\n",
       "      <td>-22.562492</td>\n",
       "      <td>-6.807692</td>\n",
       "      <td>-22.684615</td>\n",
       "      <td>day</td>\n",
       "      <td>0</td>\n",
       "    </tr>\n",
       "    <tr>\n",
       "      <th>1</th>\n",
       "      <td>1</td>\n",
       "      <td>1</td>\n",
       "      <td>1</td>\n",
       "      <td>2021-05-03 12:40:16.502963</td>\n",
       "      <td>0</td>\n",
       "      <td>1.0</td>\n",
       "      <td>1.0</td>\n",
       "      <td>1.0</td>\n",
       "      <td>1.0</td>\n",
       "      <td>1.0</td>\n",
       "      <td>...</td>\n",
       "      <td>12.002813</td>\n",
       "      <td>NaN</td>\n",
       "      <td>0.703353</td>\n",
       "      <td>622</td>\n",
       "      <td>-11.762760</td>\n",
       "      <td>-21.506829</td>\n",
       "      <td>-11.538462</td>\n",
       "      <td>-21.784615</td>\n",
       "      <td>day</td>\n",
       "      <td>690203</td>\n",
       "    </tr>\n",
       "    <tr>\n",
       "      <th>2</th>\n",
       "      <td>2</td>\n",
       "      <td>2</td>\n",
       "      <td>2</td>\n",
       "      <td>2021-05-03 12:40:16.672924</td>\n",
       "      <td>0</td>\n",
       "      <td>1.0</td>\n",
       "      <td>1.0</td>\n",
       "      <td>1.0</td>\n",
       "      <td>1.0</td>\n",
       "      <td>1.0</td>\n",
       "      <td>...</td>\n",
       "      <td>14.672630</td>\n",
       "      <td>NaN</td>\n",
       "      <td>0.210716</td>\n",
       "      <td>622</td>\n",
       "      <td>35.347122</td>\n",
       "      <td>13.620282</td>\n",
       "      <td>36.676923</td>\n",
       "      <td>14.884615</td>\n",
       "      <td>day</td>\n",
       "      <td>860164</td>\n",
       "    </tr>\n",
       "    <tr>\n",
       "      <th>3</th>\n",
       "      <td>3</td>\n",
       "      <td>3</td>\n",
       "      <td>3</td>\n",
       "      <td>2021-05-03 12:40:16.892987</td>\n",
       "      <td>0</td>\n",
       "      <td>1.0</td>\n",
       "      <td>1.0</td>\n",
       "      <td>1.0</td>\n",
       "      <td>1.0</td>\n",
       "      <td>1.0</td>\n",
       "      <td>...</td>\n",
       "      <td>15.284964</td>\n",
       "      <td>NaN</td>\n",
       "      <td>0.259347</td>\n",
       "      <td>622</td>\n",
       "      <td>24.903617</td>\n",
       "      <td>25.826667</td>\n",
       "      <td>27.746154</td>\n",
       "      <td>29.153846</td>\n",
       "      <td>day</td>\n",
       "      <td>1080227</td>\n",
       "    </tr>\n",
       "    <tr>\n",
       "      <th>4</th>\n",
       "      <td>4</td>\n",
       "      <td>4</td>\n",
       "      <td>4</td>\n",
       "      <td>2021-05-03 12:40:17.563102</td>\n",
       "      <td>0</td>\n",
       "      <td>1.0</td>\n",
       "      <td>1.0</td>\n",
       "      <td>1.0</td>\n",
       "      <td>1.0</td>\n",
       "      <td>1.0</td>\n",
       "      <td>...</td>\n",
       "      <td>4.253100</td>\n",
       "      <td>NaN</td>\n",
       "      <td>11.038012</td>\n",
       "      <td>622</td>\n",
       "      <td>6.978340</td>\n",
       "      <td>14.482143</td>\n",
       "      <td>7.676923</td>\n",
       "      <td>15.230769</td>\n",
       "      <td>day</td>\n",
       "      <td>1750342</td>\n",
       "    </tr>\n",
       "    <tr>\n",
       "      <th>...</th>\n",
       "      <td>...</td>\n",
       "      <td>...</td>\n",
       "      <td>...</td>\n",
       "      <td>...</td>\n",
       "      <td>...</td>\n",
       "      <td>...</td>\n",
       "      <td>...</td>\n",
       "      <td>...</td>\n",
       "      <td>...</td>\n",
       "      <td>...</td>\n",
       "      <td>...</td>\n",
       "      <td>...</td>\n",
       "      <td>...</td>\n",
       "      <td>...</td>\n",
       "      <td>...</td>\n",
       "      <td>...</td>\n",
       "      <td>...</td>\n",
       "      <td>...</td>\n",
       "      <td>...</td>\n",
       "      <td>...</td>\n",
       "      <td>...</td>\n",
       "    </tr>\n",
       "    <tr>\n",
       "      <th>2999995</th>\n",
       "      <td>2999995</td>\n",
       "      <td>99995</td>\n",
       "      <td>2999995</td>\n",
       "      <td>2021-05-20 13:18:30.375574</td>\n",
       "      <td>0</td>\n",
       "      <td>0.0</td>\n",
       "      <td>0.0</td>\n",
       "      <td>1.0</td>\n",
       "      <td>1.0</td>\n",
       "      <td>0.0</td>\n",
       "      <td>...</td>\n",
       "      <td>NaN</td>\n",
       "      <td>NaN</td>\n",
       "      <td>NaN</td>\n",
       "      <td>656</td>\n",
       "      <td>NaN</td>\n",
       "      <td>NaN</td>\n",
       "      <td>NaN</td>\n",
       "      <td>NaN</td>\n",
       "      <td>day</td>\n",
       "      <td>1077345562814</td>\n",
       "    </tr>\n",
       "    <tr>\n",
       "      <th>2999996</th>\n",
       "      <td>2999996</td>\n",
       "      <td>99996</td>\n",
       "      <td>2999996</td>\n",
       "      <td>2021-05-20 13:18:30.965416</td>\n",
       "      <td>0</td>\n",
       "      <td>1.0</td>\n",
       "      <td>1.0</td>\n",
       "      <td>1.0</td>\n",
       "      <td>1.0</td>\n",
       "      <td>1.0</td>\n",
       "      <td>...</td>\n",
       "      <td>6.035804</td>\n",
       "      <td>NaN</td>\n",
       "      <td>0.442759</td>\n",
       "      <td>656</td>\n",
       "      <td>12.892377</td>\n",
       "      <td>-12.244589</td>\n",
       "      <td>13.269231</td>\n",
       "      <td>-13.276923</td>\n",
       "      <td>day</td>\n",
       "      <td>1077346152656</td>\n",
       "    </tr>\n",
       "    <tr>\n",
       "      <th>2999997</th>\n",
       "      <td>2999997</td>\n",
       "      <td>99997</td>\n",
       "      <td>2999997</td>\n",
       "      <td>2021-05-20 13:18:31.405694</td>\n",
       "      <td>0</td>\n",
       "      <td>1.0</td>\n",
       "      <td>0.0</td>\n",
       "      <td>1.0</td>\n",
       "      <td>1.0</td>\n",
       "      <td>1.0</td>\n",
       "      <td>...</td>\n",
       "      <td>NaN</td>\n",
       "      <td>NaN</td>\n",
       "      <td>NaN</td>\n",
       "      <td>656</td>\n",
       "      <td>-25.480419</td>\n",
       "      <td>NaN</td>\n",
       "      <td>-27.830769</td>\n",
       "      <td>NaN</td>\n",
       "      <td>day</td>\n",
       "      <td>1077346592934</td>\n",
       "    </tr>\n",
       "    <tr>\n",
       "      <th>2999998</th>\n",
       "      <td>2999998</td>\n",
       "      <td>99998</td>\n",
       "      <td>2999998</td>\n",
       "      <td>2021-05-20 13:18:31.725719</td>\n",
       "      <td>0</td>\n",
       "      <td>1.0</td>\n",
       "      <td>1.0</td>\n",
       "      <td>0.0</td>\n",
       "      <td>0.0</td>\n",
       "      <td>1.0</td>\n",
       "      <td>...</td>\n",
       "      <td>NaN</td>\n",
       "      <td>NaN</td>\n",
       "      <td>NaN</td>\n",
       "      <td>656</td>\n",
       "      <td>NaN</td>\n",
       "      <td>NaN</td>\n",
       "      <td>NaN</td>\n",
       "      <td>NaN</td>\n",
       "      <td>day</td>\n",
       "      <td>1077346912959</td>\n",
       "    </tr>\n",
       "    <tr>\n",
       "      <th>2999999</th>\n",
       "      <td>2999999</td>\n",
       "      <td>99999</td>\n",
       "      <td>2999999</td>\n",
       "      <td>2021-05-20 13:18:32.575704</td>\n",
       "      <td>0</td>\n",
       "      <td>1.0</td>\n",
       "      <td>1.0</td>\n",
       "      <td>1.0</td>\n",
       "      <td>1.0</td>\n",
       "      <td>1.0</td>\n",
       "      <td>...</td>\n",
       "      <td>16.831888</td>\n",
       "      <td>NaN</td>\n",
       "      <td>0.294880</td>\n",
       "      <td>656</td>\n",
       "      <td>-30.771501</td>\n",
       "      <td>25.534568</td>\n",
       "      <td>-31.607692</td>\n",
       "      <td>26.453846</td>\n",
       "      <td>day</td>\n",
       "      <td>1077347762944</td>\n",
       "    </tr>\n",
       "  </tbody>\n",
       "</table>\n",
       "<p>3000000 rows × 74 columns</p>\n",
       "</div>"
      ],
      "text/plain": [
       "         Unnamed: 0  index  event_num                  event_time  deadtime  \\\n",
       "0                 0      0          0  2021-05-03 12:40:15.812760         0   \n",
       "1                 1      1          1  2021-05-03 12:40:16.502963         0   \n",
       "2                 2      2          2  2021-05-03 12:40:16.672924         0   \n",
       "3                 3      3          3  2021-05-03 12:40:16.892987         0   \n",
       "4                 4      4          4  2021-05-03 12:40:17.563102         0   \n",
       "...             ...    ...        ...                         ...       ...   \n",
       "2999995     2999995  99995    2999995  2021-05-20 13:18:30.375574         0   \n",
       "2999996     2999996  99996    2999996  2021-05-20 13:18:30.965416         0   \n",
       "2999997     2999997  99997    2999997  2021-05-20 13:18:31.405694         0   \n",
       "2999998     2999998  99998    2999998  2021-05-20 13:18:31.725719         0   \n",
       "2999999     2999999  99999    2999999  2021-05-20 13:18:32.575704         0   \n",
       "\n",
       "         l1hit  l2hit  l3hit  l4hit  r1hit  ...    z_angle  SmallCounter  \\\n",
       "0          1.0    1.0    1.0    1.0    1.0  ...  13.455446           NaN   \n",
       "1          1.0    1.0    1.0    1.0    1.0  ...  12.002813           NaN   \n",
       "2          1.0    1.0    1.0    1.0    1.0  ...  14.672630           NaN   \n",
       "3          1.0    1.0    1.0    1.0    1.0  ...  15.284964           NaN   \n",
       "4          1.0    1.0    1.0    1.0    1.0  ...   4.253100           NaN   \n",
       "...        ...    ...    ...    ...    ...  ...        ...           ...   \n",
       "2999995    0.0    0.0    1.0    1.0    0.0  ...        NaN           NaN   \n",
       "2999996    1.0    1.0    1.0    1.0    1.0  ...   6.035804           NaN   \n",
       "2999997    1.0    0.0    1.0    1.0    1.0  ...        NaN           NaN   \n",
       "2999998    1.0    1.0    0.0    0.0    1.0  ...        NaN           NaN   \n",
       "2999999    1.0    1.0    1.0    1.0    1.0  ...  16.831888           NaN   \n",
       "\n",
       "             speed  Run_Num         xx         yy        xx1        yy1  \\\n",
       "0         0.342978      622  -5.445887 -22.562492  -6.807692 -22.684615   \n",
       "1         0.703353      622 -11.762760 -21.506829 -11.538462 -21.784615   \n",
       "2         0.210716      622  35.347122  13.620282  36.676923  14.884615   \n",
       "3         0.259347      622  24.903617  25.826667  27.746154  29.153846   \n",
       "4        11.038012      622   6.978340  14.482143   7.676923  15.230769   \n",
       "...            ...      ...        ...        ...        ...        ...   \n",
       "2999995        NaN      656        NaN        NaN        NaN        NaN   \n",
       "2999996   0.442759      656  12.892377 -12.244589  13.269231 -13.276923   \n",
       "2999997        NaN      656 -25.480419        NaN -27.830769        NaN   \n",
       "2999998        NaN      656        NaN        NaN        NaN        NaN   \n",
       "2999999   0.294880      656 -30.771501  25.534568 -31.607692  26.453846   \n",
       "\n",
       "         time_of_day           time  \n",
       "0                day              0  \n",
       "1                day         690203  \n",
       "2                day         860164  \n",
       "3                day        1080227  \n",
       "4                day        1750342  \n",
       "...              ...            ...  \n",
       "2999995          day  1077345562814  \n",
       "2999996          day  1077346152656  \n",
       "2999997          day  1077346592934  \n",
       "2999998          day  1077346912959  \n",
       "2999999          day  1077347762944  \n",
       "\n",
       "[3000000 rows x 74 columns]"
      ]
     },
     "execution_count": 2,
     "metadata": {},
     "output_type": "execute_result"
    }
   ],
   "source": [
    "from MuDataFrame import *\n",
    "\n",
    "mdfo_calib = MuDataFrame(\"/Users/sc/Projects/Summer2021/Muons/dataFiles/calibration_new_set_up.csv\")\n",
    "\n",
    "mdf_calib = mdfo_calib.events_df\n",
    "\n",
    "mdfo_calib.og_df = mdf_calib.copy()\n",
    "mdfo_calib.show()"
   ]
  },
  {
   "cell_type": "markdown",
   "id": "incident-accounting",
   "metadata": {
    "hidden": true
   },
   "source": [
    "For a fixed $x$ coordinate (Tray 1) in top layer, we make cuts on different $y$ coordinates (Tray 2) and look into the TDC distribution on the **left channel of Tray 1**."
   ]
  },
  {
   "cell_type": "code",
   "execution_count": 2,
   "id": "nearby-father",
   "metadata": {
    "cell_style": "split",
    "hidden": true
   },
   "outputs": [
    {
     "data": {
      "image/png": "[encoded data removed]",
      "text/plain": [
       "<Figure size 432x288 with 4 Axes>"
      ]
     },
     "metadata": {
      "needs_background": "light"
     },
     "output_type": "display_data"
    }
   ],
   "source": [
    "mdfo_calib.reload()\n",
    "mdfo_calib.getChannelDiffPlots()"
   ]
  },
  {
   "cell_type": "code",
   "execution_count": 1,
   "id": "4b81f69e",
   "metadata": {},
   "outputs": [
    {
     "ename": "NameError",
     "evalue": "name 'mdfo_calib' is not defined",
     "output_type": "error",
     "traceback": [
      "\u001b[0;31m---------------------------------------------------------------------------\u001b[0m",
      "\u001b[0;31mNameError\u001b[0m                                 Traceback (most recent call last)",
      "\u001b[0;32m<ipython-input-1-44621e276891>\u001b[0m in \u001b[0;36m<module>\u001b[0;34m\u001b[0m\n\u001b[0;32m----> 1\u001b[0;31m \u001b[0mmdfo_calib\u001b[0m\u001b[0;34m.\u001b[0m\u001b[0mgetHistogram\u001b[0m\u001b[0;34m(\u001b[0m\u001b[0;34m\"z_angle\"\u001b[0m\u001b[0;34m)\u001b[0m\u001b[0;34m\u001b[0m\u001b[0;34m\u001b[0m\u001b[0m\n\u001b[0m",
      "\u001b[0;31mNameError\u001b[0m: name 'mdfo_calib' is not defined"
     ]
    }
   ],
   "source": [
    "mdfo_calib.getHistogram(\"z_angle\")"
   ]
  },
  {
   "cell_type": "code",
   "execution_count": 3,
   "id": "unlikely-postage",
   "metadata": {
    "cell_style": "split",
    "hidden": true
   },
   "outputs": [
    {
     "data": {
      "image/png": "[encoded data removed]",
      "text/plain": [
       "<Figure size 432x288 with 1 Axes>"
      ]
     },
     "metadata": {
      "needs_background": "light"
     },
     "output_type": "display_data"
    }
   ],
   "source": [
    "mdfo_calib.getHistogram(\"L1\",range=(0,200))"
   ]
  },
  {
   "cell_type": "markdown",
   "id": "italian-inquiry",
   "metadata": {
    "hidden": true
   },
   "source": [
    "The coordinates on Tray 1 ($x$) and Tray 2 ($y$) are as follows:"
   ]
  },
  {
   "cell_type": "code",
   "execution_count": 4,
   "id": "photographic-mitchell",
   "metadata": {
    "cell_style": "split",
    "hidden": true
   },
   "outputs": [
    {
     "data": {
      "image/png": "[encoded data removed]",
      "text/plain": [
       "<Figure size 432x288 with 1 Axes>"
      ]
     },
     "metadata": {
      "needs_background": "light"
     },
     "output_type": "display_data"
    }
   ],
   "source": [
    "mdfo_calib.getHistogram(\"diffL1\",range=(-75,75),nbins=50)"
   ]
  },
  {
   "cell_type": "code",
   "execution_count": 5,
   "id": "vertical-initial",
   "metadata": {
    "cell_style": "split",
    "hidden": true
   },
   "outputs": [
    {
     "data": {
      "image/png": "[encoded data removed]",
      "text/plain": [
       "<Figure size 432x288 with 1 Axes>"
      ]
     },
     "metadata": {
      "needs_background": "light"
     },
     "output_type": "display_data"
    }
   ],
   "source": [
    "mdfo_calib.getHistogram(\"diffL2\",range=(-75,75),nbins=50)"
   ]
  },
  {
   "cell_type": "markdown",
   "id": "present-louisiana",
   "metadata": {
    "cell_style": "center",
    "hidden": true
   },
   "source": [
    "Making the cut on x."
   ]
  },
  {
   "cell_type": "code",
   "execution_count": 90,
   "id": "thrown-remainder",
   "metadata": {
    "cell_style": "center",
    "hidden": true
   },
   "outputs": [],
   "source": [
    "mdfo_calib.reload()\n",
    "mdfo_calib.keepEvents(\"diffL1\",-57,\"<=\")"
   ]
  },
  {
   "cell_type": "code",
   "execution_count": 91,
   "id": "textile-congress",
   "metadata": {
    "cell_style": "split",
    "hidden": true
   },
   "outputs": [
    {
     "data": {
      "image/png": "[encoded data removed]",
      "text/plain": [
       "<Figure size 432x288 with 1 Axes>"
      ]
     },
     "metadata": {
      "needs_background": "light"
     },
     "output_type": "display_data"
    }
   ],
   "source": [
    "mdfo_calib.getHistogram(\"diffL1\",range=(-75,75),nbins=50)"
   ]
  },
  {
   "cell_type": "code",
   "execution_count": 92,
   "id": "worthy-walker",
   "metadata": {
    "cell_style": "split",
    "hidden": true
   },
   "outputs": [
    {
     "data": {
      "image/png": "[encoded data removed]",
      "text/plain": [
       "<Figure size 432x288 with 1 Axes>"
      ]
     },
     "metadata": {
      "needs_background": "light"
     },
     "output_type": "display_data"
    }
   ],
   "source": [
    "mdfo_calib.getHistogram(\"diffL2\",range=(-75,75),nbins=50)"
   ]
  },
  {
   "cell_type": "markdown",
   "id": "blank-partition",
   "metadata": {
    "hidden": true
   },
   "source": [
    "Going from left to right on the y-coordinate system."
   ]
  },
  {
   "cell_type": "code",
   "execution_count": 93,
   "id": "white-rolling",
   "metadata": {
    "cell_style": "split",
    "hidden": true
   },
   "outputs": [],
   "source": [
    "mdfo_calib.keepEvents(\"diffL2\",57,\">=\")"
   ]
  },
  {
   "cell_type": "code",
   "execution_count": 94,
   "id": "selective-production",
   "metadata": {
    "cell_style": "split",
    "hidden": true
   },
   "outputs": [
    {
     "data": {
      "image/png": "[encoded data removed]",
      "text/plain": [
       "<Figure size 432x288 with 1 Axes>"
      ]
     },
     "metadata": {
      "needs_background": "light"
     },
     "output_type": "display_data"
    }
   ],
   "source": [
    "x1_1 = mdfo_calib.get(\"L1\")\n",
    "mdfo_calib.getHistogram(\"L1\",range=(0,200))"
   ]
  },
  {
   "cell_type": "markdown",
   "id": "behind-fleece",
   "metadata": {
    "hidden": true
   },
   "source": [
    "Doing similar analyses for the other $y$ coordinates."
   ]
  },
  {
   "cell_type": "code",
   "execution_count": 95,
   "id": "necessary-replica",
   "metadata": {
    "cell_style": "split",
    "hidden": true
   },
   "outputs": [],
   "source": [
    "mdfo_calib.reload()\n",
    "mdfo_calib.keepEvents(\"diffL1\",-57,\"<=\")\n",
    "mdfo_calib.keepEvents(\"diffL2\",43,\">=\")\n",
    "mdfo_calib.keepEvents(\"diffL2\",59,\"<=\")"
   ]
  },
  {
   "cell_type": "code",
   "execution_count": 96,
   "id": "formal-technical",
   "metadata": {
    "cell_style": "split",
    "hidden": true
   },
   "outputs": [
    {
     "data": {
      "image/png": "[encoded data removed]",
      "text/plain": [
       "<Figure size 432x288 with 1 Axes>"
      ]
     },
     "metadata": {
      "needs_background": "light"
     },
     "output_type": "display_data"
    }
   ],
   "source": [
    "x1_2 = mdfo_calib.get(\"L1\")\n",
    "mdfo_calib.getHistogram(\"L1\",range=(0,200))"
   ]
  },
  {
   "cell_type": "code",
   "execution_count": 97,
   "id": "enclosed-backup",
   "metadata": {
    "cell_style": "split",
    "hidden": true
   },
   "outputs": [
    {
     "data": {
      "image/png": "[encoded data removed]",
      "text/plain": [
       "<Figure size 432x288 with 1 Axes>"
      ]
     },
     "metadata": {
      "needs_background": "light"
     },
     "output_type": "display_data"
    }
   ],
   "source": [
    "mdfo_calib.reload()\n",
    "mdfo_calib.keepEvents(\"diffL1\",-57,\"<=\")\n",
    "\n",
    "mdfo_calib.keepEvents(\"diffL2\",34,\">=\")\n",
    "mdfo_calib.keepEvents(\"diffL2\",42,\"<=\")\n",
    "mdfo_calib.getHistogram(\"diffL2\",range=(-75,75),nbins=50)"
   ]
  },
  {
   "cell_type": "code",
   "execution_count": 66,
   "id": "isolated-jumping",
   "metadata": {
    "cell_style": "split",
    "hidden": true
   },
   "outputs": [
    {
     "data": {
      "image/png": "[encoded data removed]",
      "text/plain": [
       "<Figure size 432x288 with 1 Axes>"
      ]
     },
     "metadata": {
      "needs_background": "light"
     },
     "output_type": "display_data"
    }
   ],
   "source": [
    "x1_3 = mdfo_calib.get(\"L1\")\n",
    "mdfo_calib.getHistogram(\"L1\",range=(0,200))"
   ]
  },
  {
   "cell_type": "code",
   "execution_count": 67,
   "id": "harmful-utility",
   "metadata": {
    "cell_style": "split",
    "hidden": true
   },
   "outputs": [
    {
     "data": {
      "image/png": "[encoded data removed]",
      "text/plain": [
       "<Figure size 432x288 with 1 Axes>"
      ]
     },
     "metadata": {
      "needs_background": "light"
     },
     "output_type": "display_data"
    }
   ],
   "source": [
    "mdfo_calib.reload()\n",
    "mdfo_calib.keepEvents(\"diffL1\",-57,\"<=\")\n",
    "\n",
    "mdfo_calib.keepEvents(\"diffL2\",21,\">=\")\n",
    "mdfo_calib.keepEvents(\"diffL2\",30,\"<=\")\n",
    "mdfo_calib.getHistogram(\"diffL2\",range=(-75,75),nbins=50)"
   ]
  },
  {
   "cell_type": "code",
   "execution_count": 68,
   "id": "orange-wisdom",
   "metadata": {
    "cell_style": "split",
    "hidden": true
   },
   "outputs": [
    {
     "data": {
      "image/png": "[encoded data removed]",
      "text/plain": [
       "<Figure size 432x288 with 1 Axes>"
      ]
     },
     "metadata": {
      "needs_background": "light"
     },
     "output_type": "display_data"
    }
   ],
   "source": [
    "x1_4 = mdfo_calib.get(\"L1\")\n",
    "mdfo_calib.getHistogram(\"L1\",range=(0,200))"
   ]
  },
  {
   "cell_type": "code",
   "execution_count": 69,
   "id": "military-stick",
   "metadata": {
    "cell_style": "split",
    "hidden": true
   },
   "outputs": [],
   "source": [
    "mdfo_calib.reload()\n",
    "mdfo_calib.keepEvents(\"diffL1\",-57,\"<=\")\n",
    "\n",
    "mdfo_calib.keepEvents(\"diffL2\",11,\">=\")\n",
    "mdfo_calib.keepEvents(\"diffL2\",19,\"<=\")"
   ]
  },
  {
   "cell_type": "code",
   "execution_count": 70,
   "id": "incorrect-bearing",
   "metadata": {
    "cell_style": "split",
    "hidden": true
   },
   "outputs": [
    {
     "data": {
      "image/png": "[encoded data removed]",
      "text/plain": [
       "<Figure size 432x288 with 1 Axes>"
      ]
     },
     "metadata": {
      "needs_background": "light"
     },
     "output_type": "display_data"
    }
   ],
   "source": [
    "x1_5 = mdfo_calib.get(\"L1\")\n",
    "mdfo_calib.getHistogram(\"L1\",range=(0,200))"
   ]
  },
  {
   "cell_type": "code",
   "execution_count": 75,
   "id": "chubby-andrew",
   "metadata": {
    "cell_style": "split",
    "hidden": true
   },
   "outputs": [],
   "source": [
    "mdfo_calib.reload()\n",
    "mdfo_calib.keepEvents(\"diffL1\",-57,\"<=\")\n",
    "\n",
    "mdfo_calib.keepEvents(\"diffL2\",-5,\">=\")\n",
    "mdfo_calib.keepEvents(\"diffL2\",5,\"<=\")"
   ]
  },
  {
   "cell_type": "code",
   "execution_count": 76,
   "id": "emotional-crown",
   "metadata": {
    "cell_style": "split",
    "hidden": true
   },
   "outputs": [
    {
     "data": {
      "image/png": "[encoded data removed]",
      "text/plain": [
       "<Figure size 432x288 with 1 Axes>"
      ]
     },
     "metadata": {
      "needs_background": "light"
     },
     "output_type": "display_data"
    }
   ],
   "source": [
    "x1_6 = mdfo_calib.get(\"L1\")\n",
    "mdfo_calib.getHistogram(\"L1\",range=(0,200))"
   ]
  },
  {
   "cell_type": "code",
   "execution_count": 79,
   "id": "intense-worst",
   "metadata": {
    "cell_style": "split",
    "hidden": true
   },
   "outputs": [],
   "source": [
    "mdfo_calib.reload()\n",
    "mdfo_calib.keepEvents(\"diffL1\",-57,\"<=\")\n",
    "\n",
    "mdfo_calib.keepEvents(\"diffL2\",-17,\">=\")\n",
    "mdfo_calib.keepEvents(\"diffL2\",-10,\"<=\")"
   ]
  },
  {
   "cell_type": "code",
   "execution_count": 80,
   "id": "departmental-mortgage",
   "metadata": {
    "cell_style": "split",
    "hidden": true
   },
   "outputs": [
    {
     "data": {
      "image/png": "[encoded data removed]",
      "text/plain": [
       "<Figure size 432x288 with 1 Axes>"
      ]
     },
     "metadata": {
      "needs_background": "light"
     },
     "output_type": "display_data"
    }
   ],
   "source": [
    "x1_7 = mdfo_calib.get(\"L1\")\n",
    "mdfo_calib.getHistogram(\"L1\",range=(0,200))"
   ]
  },
  {
   "cell_type": "code",
   "execution_count": 81,
   "id": "strange-ghost",
   "metadata": {
    "cell_style": "split",
    "hidden": true
   },
   "outputs": [],
   "source": [
    "mdfo_calib.reload()\n",
    "mdfo_calib.keepEvents(\"diffL1\",-57,\"<=\")\n",
    "\n",
    "mdfo_calib.keepEvents(\"diffL2\",-30,\">=\")\n",
    "mdfo_calib.keepEvents(\"diffL2\",-20,\"<=\")"
   ]
  },
  {
   "cell_type": "code",
   "execution_count": 82,
   "id": "contained-communications",
   "metadata": {
    "cell_style": "split",
    "hidden": true
   },
   "outputs": [
    {
     "data": {
      "image/png": "[encoded data removed]",
      "text/plain": [
       "<Figure size 432x288 with 1 Axes>"
      ]
     },
     "metadata": {
      "needs_background": "light"
     },
     "output_type": "display_data"
    }
   ],
   "source": [
    "x1_8 = mdfo_calib.get(\"L1\")\n",
    "mdfo_calib.getHistogram(\"L1\",range=(0,200))"
   ]
  },
  {
   "cell_type": "code",
   "execution_count": 83,
   "id": "institutional-market",
   "metadata": {
    "cell_style": "split",
    "hidden": true
   },
   "outputs": [],
   "source": [
    "mdfo_calib.reload()\n",
    "mdfo_calib.keepEvents(\"diffL1\",-57,\"<=\")\n",
    "\n",
    "mdfo_calib.keepEvents(\"diffL2\",-38,\">=\")\n",
    "mdfo_calib.keepEvents(\"diffL2\",-32,\"<=\")"
   ]
  },
  {
   "cell_type": "code",
   "execution_count": 84,
   "id": "concrete-mountain",
   "metadata": {
    "cell_style": "split",
    "hidden": true
   },
   "outputs": [
    {
     "data": {
      "image/png": "[encoded data removed]",
      "text/plain": [
       "<Figure size 432x288 with 1 Axes>"
      ]
     },
     "metadata": {
      "needs_background": "light"
     },
     "output_type": "display_data"
    }
   ],
   "source": [
    "x1_9 = mdfo_calib.get(\"L1\")\n",
    "mdfo_calib.getHistogram(\"L1\",range=(0,200))"
   ]
  },
  {
   "cell_type": "code",
   "execution_count": 85,
   "id": "filled-detection",
   "metadata": {
    "cell_style": "split",
    "hidden": true
   },
   "outputs": [],
   "source": [
    "mdfo_calib.reload()\n",
    "mdfo_calib.keepEvents(\"diffL1\",-57,\"<=\")\n",
    "\n",
    "mdfo_calib.keepEvents(\"diffL2\",-51,\">=\")\n",
    "mdfo_calib.keepEvents(\"diffL2\",-45,\"<=\")"
   ]
  },
  {
   "cell_type": "code",
   "execution_count": 86,
   "id": "wireless-rendering",
   "metadata": {
    "cell_style": "split",
    "hidden": true
   },
   "outputs": [
    {
     "data": {
      "image/png": "[encoded data removed]",
      "text/plain": [
       "<Figure size 432x288 with 1 Axes>"
      ]
     },
     "metadata": {
      "needs_background": "light"
     },
     "output_type": "display_data"
    }
   ],
   "source": [
    "x1_10 = mdfo_calib.get(\"L1\")\n",
    "mdfo_calib.getHistogram(\"L1\",range=(0,200))"
   ]
  },
  {
   "cell_type": "code",
   "execution_count": 87,
   "id": "stock-fellowship",
   "metadata": {
    "cell_style": "split",
    "hidden": true
   },
   "outputs": [],
   "source": [
    "mdfo_calib.reload()\n",
    "mdfo_calib.keepEvents(\"diffL1\",-57,\"<=\")\n",
    "\n",
    "mdfo_calib.keepEvents(\"diffL2\",-51,\"<\")"
   ]
  },
  {
   "cell_type": "code",
   "execution_count": 88,
   "id": "dutch-guess",
   "metadata": {
    "cell_style": "split",
    "hidden": true
   },
   "outputs": [
    {
     "data": {
      "image/png": "[encoded data removed]",
      "text/plain": [
       "<Figure size 432x288 with 1 Axes>"
      ]
     },
     "metadata": {
      "needs_background": "light"
     },
     "output_type": "display_data"
    }
   ],
   "source": [
    "x1_11 = mdfo_calib.get(\"L1\")\n",
    "mdfo_calib.getHistogram(\"L1\",range=(0,200))"
   ]
  },
  {
   "cell_type": "markdown",
   "id": "complete-recorder",
   "metadata": {
    "hidden": true
   },
   "source": [
    "Comparing all the distributions."
   ]
  },
  {
   "cell_type": "code",
   "execution_count": 98,
   "id": "mature-marker",
   "metadata": {
    "hidden": true
   },
   "outputs": [
    {
     "data": {
      "image/png": "[encoded data removed]",
      "text/plain": [
       "<Figure size 432x288 with 1 Axes>"
      ]
     },
     "metadata": {
      "needs_background": "light"
     },
     "output_type": "display_data"
    }
   ],
   "source": [
    "import seaborn as sns\n",
    "\n",
    "sns.color_palette(\"Spectral\")\n",
    "bins = 50\n",
    "range = (60,110)\n",
    "xval = 1\n",
    "\n",
    "plt.hist(x1_1,label=\"1\",bins=bins,range=range,histtype=\"step\",color=\"red\")\n",
    "plt.hist(x1_2,label=\"2\",bins=bins,range=range,histtype=\"step\",color=\"blue\")\n",
    "plt.hist(x1_3,label=\"3\",bins=bins,range=range,histtype=\"step\",color=\"green\")\n",
    "plt.hist(x1_4,label=\"4\",bins=bins,range=range,histtype=\"step\",color=\"lawngreen\")\n",
    "plt.hist(x1_5,label=\"5\",bins=bins,range=range,histtype=\"step\",color=\"sienna\")\n",
    "plt.hist(x1_6,label=\"6\",bins=bins,range=range,histtype=\"step\",color=\"gold\")\n",
    "plt.hist(x1_7,label=\"7\",bins=bins,range=range,histtype=\"step\",color=\"black\")\n",
    "plt.hist(x1_8,label=\"8\",bins=bins,range=range,histtype=\"step\",color=\"maroon\")\n",
    "plt.hist(x1_9,label=\"9\",bins=bins,range=range,histtype=\"step\",color=\"olive\")\n",
    "plt.hist(x1_10,label=\"10\",bins=bins,range=range,histtype=\"step\",color=\"cyan\")\n",
    "plt.hist(x1_11,label=\"11\",bins=bins,range=range,histtype=\"step\",color=\"fuchsia\")\n",
    "plt.legend()\n",
    "plt.xlabel(\"TDC (Left Channel)\")\n",
    "plt.title(\"Tray 1 (x = {})\".format(xval))\n",
    "#plt.savefig(\"tdc_hist_1.pdf\")\n",
    "plt.show()"
   ]
  },
  {
   "cell_type": "code",
   "execution_count": 99,
   "id": "medical-bernard",
   "metadata": {
    "hidden": true
   },
   "outputs": [],
   "source": [
    "data_x = [x1_1,x1_2,x1_3,x1_4,x1_5,x1_6,x1_7,x1_8,x1_9,x1_10,x1_11]\n",
    "data_x_means = [np.mean(i) for i in data_x]\n",
    "data_x_stds = [np.std(i) for i in data_x]\n",
    "yvals = np.linspace(1,11,11)"
   ]
  },
  {
   "cell_type": "code",
   "execution_count": 100,
   "id": "settled-limitation",
   "metadata": {
    "hidden": true
   },
   "outputs": [
    {
     "data": {
      "image/png": "[encoded data removed]",
      "text/plain": [
       "<Figure size 432x288 with 1 Axes>"
      ]
     },
     "metadata": {
      "needs_background": "light"
     },
     "output_type": "display_data"
    }
   ],
   "source": [
    "plt.errorbar(x=yvals, y=data_x_means, marker='x', yerr=data_x_stds,\n",
    "             mec='red', ms=9, capsize=5) #solid_capstyle='projecting'\n",
    "plt.xlabel(\"y coordinates\")\n",
    "plt.ylabel(\"Mean of TDC\")\n",
    "plt.title(\"Tray 1 (x = {})\".format(1))\n",
    "plt.savefig(\"tdc_dist_1.pdf\")"
   ]
  },
  {
   "cell_type": "markdown",
   "id": "express-mississippi",
   "metadata": {
    "heading_collapsed": true
   },
   "source": [
    "# Peak Fitting\n",
    "\n",
    "Fit the peaks from TDC Diff data and retrieve the means and stds associated with the peaks."
   ]
  },
  {
   "cell_type": "code",
   "execution_count": null,
   "id": "proper-lawrence",
   "metadata": {
    "hidden": true
   },
   "outputs": [],
   "source": [
    "from scipy.signal import find_peaks, peak_prominences, peak_widths\n",
    "\n",
    "def getHisto(term,df,bins,bw=0.01,range=(-75,75)):\n",
    "    df[term].plot.hist(bins=bins,range=range)\n",
    "    plt.title(term)\n",
    "    plt.show()\n",
    "    \n",
    "def getNPHist(df, term, bins, range=(-75,75)):\n",
    "    values = df[term]\n",
    "    hist, bin_edges = np.histogram(values, bins, range=range)\n",
    "    bin_edges = bin_edges[1:]\n",
    "    return hist, bin_edges\n",
    "\n",
    "\n",
    "def getPeaks(x, prmc, wdth):\n",
    "    peaks, properties = find_peaks(x, prominence=prmc, width=wdth)\n",
    "    properties[\"prominences\"], properties[\"widths\"]\n",
    "    \n",
    "    width = peak_widths(x, peaks, rel_height=0.5)\n",
    "    \n",
    "    plt.plot(x)\n",
    "    plt.plot(peaks, x[peaks], \"x\")\n",
    "\n",
    "    plt.vlines(x=peaks,\n",
    "           ymin=x[peaks] - properties[\"prominences\"],\n",
    "           ymax=x[peaks],\n",
    "           color=\"C1\")\n",
    "\n",
    "    plt.hlines(y=properties[\"width_heights\"],\n",
    "           xmin=properties[\"left_ips\"],\n",
    "           xmax=properties[\"right_ips\"],\n",
    "           color=\"C1\")\n",
    "    plt.show()"
   ]
  },
  {
   "cell_type": "code",
   "execution_count": null,
   "id": "suburban-elizabeth",
   "metadata": {
    "hidden": true
   },
   "outputs": [],
   "source": [
    "from scipy.signal import chirp, find_peaks, peak_widths\n",
    "\n",
    "def getFitStats(mdfo,term,bins,range):\n",
    "    values = mdfo.get(term)\n",
    "    hist, bin_edges = np.histogram(values, bins, range=range)\n",
    "    return bin_edges[1:],hist\n",
    "\n",
    "def getMeanAndWidth(mdfo,term,bins,range,relHeight=0.9,doPlot=True):\n",
    "    x,y = getFitStats(mdfo,term,bins,range)\n",
    "    peaks, _ = find_peaks(y)\n",
    "    results_full = peak_widths(y, peaks, rel_height=relHeight)\n",
    "    if doPlot:\n",
    "        plt.plot(y)\n",
    "        plt.plot(peaks, y[peaks], \"x\")\n",
    "        plt.hlines(*results_full[1:], color=\"C3\")\n",
    "        plt.show()\n",
    "    spread = results_full[0]\n",
    "    x = matcher(x,y,y[peaks])\n",
    "    return x, y[peaks], spread\n",
    "\n",
    "def matcher(xall,yall,yvals):\n",
    "    coordinates = zip(xall,yall)\n",
    "    good_coordinates = []\n",
    "    for cd in list(coordinates):\n",
    "        if cd[1] in yvals:\n",
    "            good_coordinates.append(cd[0])\n",
    "    return good_coordinates"
   ]
  },
  {
   "cell_type": "code",
   "execution_count": null,
   "id": "intermediate-viewer",
   "metadata": {
    "hidden": true
   },
   "outputs": [],
   "source": [
    "range = (-75,75)\n",
    "bins = 50\n",
    "thresh = 18000\n",
    "sfactor = 1.3\n",
    "offset = -1.5\n",
    "\n",
    "x,y = getFitStats(mdfo_calib,\"diffL1\",bins,range)\n",
    "domain, means,spread = getMeanAndWidth(mdfo_calib,\"diffL1\",bins,range, relHeight=0.93, doPlot=False)\n",
    "domain = np.array(domain) + offset\n",
    "plt.plot(domain, means, 'x',label=\"mean\")\n",
    "#plt.plot(x,y,'--')\n",
    "plt.hlines(domain+thresh, np.array(domain)-spread*sfactor, np.array(domain)+spread*sfactor,label=\"spread\")\n",
    "plt.hist(mdfo_calib.get(\"diffL1\"),range=range,bins=bins,alpha=0.4)\n",
    "plt.legend()\n",
    "plt.show()"
   ]
  },
  {
   "cell_type": "code",
   "execution_count": null,
   "id": "joint-obligation",
   "metadata": {
    "hidden": true
   },
   "outputs": [],
   "source": [
    "range = (-75,75)\n",
    "bins = 50\n",
    "thresh = 18000\n",
    "sfactor = 1.3\n",
    "offset = -1.5\n",
    "\n",
    "x,y = getFitStats(mdfo_calib,\"diffL2\",bins,range)\n",
    "domain, means,spread = getMeanAndWidth(mdfo_calib,\"diffL2\",bins,range, relHeight=0.9, doPlot=False)\n",
    "domain = np.array(domain) + offset\n",
    "plt.plot(domain, means, 'x',label=\"mean\")\n",
    "#plt.plot(x,y,'--')\n",
    "plt.hlines(domain+thresh, np.array(domain)-spread*sfactor, np.array(domain)+spread*sfactor,label=\"spread\")\n",
    "plt.hist(mdfo_calib.get(\"diffL1\"),range=range,bins=bins,alpha=0.4)\n",
    "plt.legend()\n",
    "plt.show()\n"
   ]
  },
  {
   "cell_type": "markdown",
   "id": "floral-builder",
   "metadata": {
    "heading_collapsed": true,
    "hidden": true
   },
   "source": [
    "## Gaussian Fit\n",
    "\n",
    "1. Try getting info from scipy\n",
    "\n",
    "2. Use signal module to find peak and width.\n",
    "\n",
    "3. Raw logic"
   ]
  },
  {
   "cell_type": "code",
   "execution_count": null,
   "id": "elementary-cedar",
   "metadata": {
    "hidden": true
   },
   "outputs": [],
   "source": [
    "from scipy.stats import gaussian_kde\n",
    "\n",
    "mdfo_calib.reload()\n",
    "mdfo_calib.keep4by4Events()\n",
    "\n",
    "data = mdfo_calib.get(\"diffL2\")\n",
    "bandwidth = 0.009\n",
    "\n",
    "density1 = gaussian_kde(data, bw_method=bandwidth)\n",
    "xs = np.linspace(-75,75,150)\n",
    "plt.plot(xs,density1(xs))\n",
    "#plt.hist(data,density=True,alpha=0.3,range=(-75,75),bins=150)\n",
    "plt.hlines(0.002,xs[0],xs[-1])\n",
    "plt.show()"
   ]
  },
  {
   "cell_type": "code",
   "execution_count": null,
   "id": "clean-galaxy",
   "metadata": {
    "hidden": true
   },
   "outputs": [],
   "source": [
    "import scipy.interpolate, scipy.optimize\n",
    "\n",
    "x  = xs\n",
    "y1 = density1(xs)\n",
    "y2 = len(y1)*[0.002]\n",
    "\n",
    "plt.plot(x, y1, marker='o', mec='none', ms=4, lw=1, label='y1')\n",
    "plt.plot(x, y2, marker='o', mec='none', ms=4, lw=1, label='y2')\n",
    "\n",
    "idx = np.argwhere(np.diff(np.sign(y1 - y2)) != 0)\n",
    "\n",
    "plt.plot(x[idx], y1[idx], 'ms', ms=7, label='Nearest data-point method')\n",
    "\n",
    "interp1 = scipy.interpolate.InterpolatedUnivariateSpline(x, y1)\n",
    "interp2 = scipy.interpolate.InterpolatedUnivariateSpline(x, y2)\n",
    "\n",
    "new_x = np.linspace(x.min(), x.max(), 100)\n",
    "new_y1 = interp1(new_x)\n",
    "new_y2 = interp2(new_x)\n",
    "idx = np.argwhere(np.diff(np.sign(new_y1 - new_y2)) != 0)\n",
    "plt.plot(new_x[idx], new_y1[idx], 'ro', ms=7, label='Nearest data-point method, with re-interpolated data')\n",
    "\n",
    "def difference(x):\n",
    "    return np.abs(interp1(x) - interp2(x))\n",
    "\n",
    "x_at_crossing = scipy.optimize.fsolve(difference, x0=3.0)\n",
    "plt.plot(x_at_crossing, interp1(x_at_crossing), 'cd', ms=7, label='fsolve method')\n",
    "\n",
    "plt.legend(frameon=False, fontsize=10, numpoints=1, loc='lower left')\n",
    "plt.show()"
   ]
  },
  {
   "cell_type": "code",
   "execution_count": null,
   "id": "light-tennessee",
   "metadata": {
    "hidden": true
   },
   "outputs": [],
   "source": [
    "def getIntersections(t, curve1, curve2, doPlot=True):\n",
    "    intersections = []\n",
    "    xvals = []\n",
    "    prev_dif = 0\n",
    "    t0, prev_c1, prev_c2 = None, None, None\n",
    "    for t1, c1, c2 in zip(t, curve1, curve2):\n",
    "        new_dif = c2 - c1\n",
    "        if np.abs(new_dif) < 1e-12:  # found an exact zero, this is very unprobable\n",
    "            intersections.append((t1, c1))\n",
    "        elif new_dif * prev_dif < 0:\n",
    "            denom = prev_dif - new_dif\n",
    "            xvals.append((-new_dif * t0 + prev_dif * t1) / denom)\n",
    "            intersections.append(((-new_dif * t0 + prev_dif * t1) / denom,\n",
    "                                  (c1 * prev_c2 - c2 * prev_c1) / denom))\n",
    "        t0, prev_c1, prev_c2, prev_dif = t1, c1, c2, new_dif\n",
    "\n",
    "    if doPlot:\n",
    "        fig, ax = plt.subplots()\n",
    "        ax.plot(t, curve1, 'b-')\n",
    "        ax.plot(t, curve2, 'r-')\n",
    "        ax.plot(*zip(*intersections), 'go', alpha=0.7, ms=10)\n",
    "        plt.show()\n",
    "    \n",
    "    \n",
    "    return np.diff(xvals)"
   ]
  },
  {
   "cell_type": "code",
   "execution_count": null,
   "id": "disciplinary-visiting",
   "metadata": {
    "hidden": true
   },
   "outputs": [],
   "source": [
    "mdfo_calib.reload()\n",
    "mdfo_calib.keep4by4Events()\n",
    "\n",
    "data = mdfo_calib.get(\"diffL2\")\n",
    "bandwidth = 0.009\n",
    "\n",
    "density1 = gaussian_kde(data, bw_method=bandwidth)\n",
    "xs = np.linspace(-75,75,150)\n",
    "\n",
    "t = xs\n",
    "curve1 = density1(xs)\n",
    "curve2 = len(curve1) * [0.002]\n",
    "\n",
    "vals = getIntersections(t, curve1, curve2)"
   ]
  },
  {
   "cell_type": "code",
   "execution_count": null,
   "id": "processed-bankruptcy",
   "metadata": {
    "hidden": true
   },
   "outputs": [],
   "source": [
    "vals"
   ]
  },
  {
   "cell_type": "markdown",
   "id": "cubic-question",
   "metadata": {},
   "source": [
    "# Accurate Peak Fitting Code"
   ]
  },
  {
   "cell_type": "code",
   "execution_count": 101,
   "id": "wireless-arrival",
   "metadata": {},
   "outputs": [
    {
     "data": {
      "text/html": [
       "<div>\n",
       "<style scoped>\n",
       "    .dataframe tbody tr th:only-of-type {\n",
       "        vertical-align: middle;\n",
       "    }\n",
       "\n",
       "    .dataframe tbody tr th {\n",
       "        vertical-align: top;\n",
       "    }\n",
       "\n",
       "    .dataframe thead th {\n",
       "        text-align: right;\n",
       "    }\n",
       "</style>\n",
       "<table border=\"1\" class=\"dataframe\">\n",
       "  <thead>\n",
       "    <tr style=\"text-align: right;\">\n",
       "      <th></th>\n",
       "      <th>Unnamed: 0</th>\n",
       "      <th>index</th>\n",
       "      <th>event_num</th>\n",
       "      <th>event_time</th>\n",
       "      <th>deadtime</th>\n",
       "      <th>l1hit</th>\n",
       "      <th>l2hit</th>\n",
       "      <th>l3hit</th>\n",
       "      <th>l4hit</th>\n",
       "      <th>r1hit</th>\n",
       "      <th>...</th>\n",
       "      <th>z_angle</th>\n",
       "      <th>SmallCounter</th>\n",
       "      <th>speed</th>\n",
       "      <th>Run_Num</th>\n",
       "      <th>xx</th>\n",
       "      <th>yy</th>\n",
       "      <th>xx1</th>\n",
       "      <th>yy1</th>\n",
       "      <th>time_of_day</th>\n",
       "      <th>time</th>\n",
       "    </tr>\n",
       "  </thead>\n",
       "  <tbody>\n",
       "    <tr>\n",
       "      <th>0</th>\n",
       "      <td>0</td>\n",
       "      <td>0</td>\n",
       "      <td>0</td>\n",
       "      <td>2021-05-03 12:40:15.812760</td>\n",
       "      <td>0</td>\n",
       "      <td>1.0</td>\n",
       "      <td>1.0</td>\n",
       "      <td>1.0</td>\n",
       "      <td>1.0</td>\n",
       "      <td>1.0</td>\n",
       "      <td>...</td>\n",
       "      <td>13.455446</td>\n",
       "      <td>NaN</td>\n",
       "      <td>0.342978</td>\n",
       "      <td>622</td>\n",
       "      <td>-5.445887</td>\n",
       "      <td>-22.562492</td>\n",
       "      <td>-6.807692</td>\n",
       "      <td>-22.684615</td>\n",
       "      <td>day</td>\n",
       "      <td>0</td>\n",
       "    </tr>\n",
       "    <tr>\n",
       "      <th>1</th>\n",
       "      <td>1</td>\n",
       "      <td>1</td>\n",
       "      <td>1</td>\n",
       "      <td>2021-05-03 12:40:16.502963</td>\n",
       "      <td>0</td>\n",
       "      <td>1.0</td>\n",
       "      <td>1.0</td>\n",
       "      <td>1.0</td>\n",
       "      <td>1.0</td>\n",
       "      <td>1.0</td>\n",
       "      <td>...</td>\n",
       "      <td>12.002813</td>\n",
       "      <td>NaN</td>\n",
       "      <td>0.703353</td>\n",
       "      <td>622</td>\n",
       "      <td>-11.762760</td>\n",
       "      <td>-21.506829</td>\n",
       "      <td>-11.538462</td>\n",
       "      <td>-21.784615</td>\n",
       "      <td>day</td>\n",
       "      <td>690203</td>\n",
       "    </tr>\n",
       "    <tr>\n",
       "      <th>2</th>\n",
       "      <td>2</td>\n",
       "      <td>2</td>\n",
       "      <td>2</td>\n",
       "      <td>2021-05-03 12:40:16.672924</td>\n",
       "      <td>0</td>\n",
       "      <td>1.0</td>\n",
       "      <td>1.0</td>\n",
       "      <td>1.0</td>\n",
       "      <td>1.0</td>\n",
       "      <td>1.0</td>\n",
       "      <td>...</td>\n",
       "      <td>14.672630</td>\n",
       "      <td>NaN</td>\n",
       "      <td>0.210716</td>\n",
       "      <td>622</td>\n",
       "      <td>35.347122</td>\n",
       "      <td>13.620282</td>\n",
       "      <td>36.676923</td>\n",
       "      <td>14.884615</td>\n",
       "      <td>day</td>\n",
       "      <td>860164</td>\n",
       "    </tr>\n",
       "    <tr>\n",
       "      <th>3</th>\n",
       "      <td>3</td>\n",
       "      <td>3</td>\n",
       "      <td>3</td>\n",
       "      <td>2021-05-03 12:40:16.892987</td>\n",
       "      <td>0</td>\n",
       "      <td>1.0</td>\n",
       "      <td>1.0</td>\n",
       "      <td>1.0</td>\n",
       "      <td>1.0</td>\n",
       "      <td>1.0</td>\n",
       "      <td>...</td>\n",
       "      <td>15.284964</td>\n",
       "      <td>NaN</td>\n",
       "      <td>0.259347</td>\n",
       "      <td>622</td>\n",
       "      <td>24.903617</td>\n",
       "      <td>25.826667</td>\n",
       "      <td>27.746154</td>\n",
       "      <td>29.153846</td>\n",
       "      <td>day</td>\n",
       "      <td>1080227</td>\n",
       "    </tr>\n",
       "    <tr>\n",
       "      <th>4</th>\n",
       "      <td>4</td>\n",
       "      <td>4</td>\n",
       "      <td>4</td>\n",
       "      <td>2021-05-03 12:40:17.563102</td>\n",
       "      <td>0</td>\n",
       "      <td>1.0</td>\n",
       "      <td>1.0</td>\n",
       "      <td>1.0</td>\n",
       "      <td>1.0</td>\n",
       "      <td>1.0</td>\n",
       "      <td>...</td>\n",
       "      <td>4.253100</td>\n",
       "      <td>NaN</td>\n",
       "      <td>11.038012</td>\n",
       "      <td>622</td>\n",
       "      <td>6.978340</td>\n",
       "      <td>14.482143</td>\n",
       "      <td>7.676923</td>\n",
       "      <td>15.230769</td>\n",
       "      <td>day</td>\n",
       "      <td>1750342</td>\n",
       "    </tr>\n",
       "    <tr>\n",
       "      <th>...</th>\n",
       "      <td>...</td>\n",
       "      <td>...</td>\n",
       "      <td>...</td>\n",
       "      <td>...</td>\n",
       "      <td>...</td>\n",
       "      <td>...</td>\n",
       "      <td>...</td>\n",
       "      <td>...</td>\n",
       "      <td>...</td>\n",
       "      <td>...</td>\n",
       "      <td>...</td>\n",
       "      <td>...</td>\n",
       "      <td>...</td>\n",
       "      <td>...</td>\n",
       "      <td>...</td>\n",
       "      <td>...</td>\n",
       "      <td>...</td>\n",
       "      <td>...</td>\n",
       "      <td>...</td>\n",
       "      <td>...</td>\n",
       "      <td>...</td>\n",
       "    </tr>\n",
       "    <tr>\n",
       "      <th>2999995</th>\n",
       "      <td>2999995</td>\n",
       "      <td>99995</td>\n",
       "      <td>2999995</td>\n",
       "      <td>2021-05-20 13:18:30.375574</td>\n",
       "      <td>0</td>\n",
       "      <td>0.0</td>\n",
       "      <td>0.0</td>\n",
       "      <td>1.0</td>\n",
       "      <td>1.0</td>\n",
       "      <td>0.0</td>\n",
       "      <td>...</td>\n",
       "      <td>NaN</td>\n",
       "      <td>NaN</td>\n",
       "      <td>NaN</td>\n",
       "      <td>656</td>\n",
       "      <td>NaN</td>\n",
       "      <td>NaN</td>\n",
       "      <td>NaN</td>\n",
       "      <td>NaN</td>\n",
       "      <td>day</td>\n",
       "      <td>1077345562814</td>\n",
       "    </tr>\n",
       "    <tr>\n",
       "      <th>2999996</th>\n",
       "      <td>2999996</td>\n",
       "      <td>99996</td>\n",
       "      <td>2999996</td>\n",
       "      <td>2021-05-20 13:18:30.965416</td>\n",
       "      <td>0</td>\n",
       "      <td>1.0</td>\n",
       "      <td>1.0</td>\n",
       "      <td>1.0</td>\n",
       "      <td>1.0</td>\n",
       "      <td>1.0</td>\n",
       "      <td>...</td>\n",
       "      <td>6.035804</td>\n",
       "      <td>NaN</td>\n",
       "      <td>0.442759</td>\n",
       "      <td>656</td>\n",
       "      <td>12.892377</td>\n",
       "      <td>-12.244589</td>\n",
       "      <td>13.269231</td>\n",
       "      <td>-13.276923</td>\n",
       "      <td>day</td>\n",
       "      <td>1077346152656</td>\n",
       "    </tr>\n",
       "    <tr>\n",
       "      <th>2999997</th>\n",
       "      <td>2999997</td>\n",
       "      <td>99997</td>\n",
       "      <td>2999997</td>\n",
       "      <td>2021-05-20 13:18:31.405694</td>\n",
       "      <td>0</td>\n",
       "      <td>1.0</td>\n",
       "      <td>0.0</td>\n",
       "      <td>1.0</td>\n",
       "      <td>1.0</td>\n",
       "      <td>1.0</td>\n",
       "      <td>...</td>\n",
       "      <td>NaN</td>\n",
       "      <td>NaN</td>\n",
       "      <td>NaN</td>\n",
       "      <td>656</td>\n",
       "      <td>-25.480419</td>\n",
       "      <td>NaN</td>\n",
       "      <td>-27.830769</td>\n",
       "      <td>NaN</td>\n",
       "      <td>day</td>\n",
       "      <td>1077346592934</td>\n",
       "    </tr>\n",
       "    <tr>\n",
       "      <th>2999998</th>\n",
       "      <td>2999998</td>\n",
       "      <td>99998</td>\n",
       "      <td>2999998</td>\n",
       "      <td>2021-05-20 13:18:31.725719</td>\n",
       "      <td>0</td>\n",
       "      <td>1.0</td>\n",
       "      <td>1.0</td>\n",
       "      <td>0.0</td>\n",
       "      <td>0.0</td>\n",
       "      <td>1.0</td>\n",
       "      <td>...</td>\n",
       "      <td>NaN</td>\n",
       "      <td>NaN</td>\n",
       "      <td>NaN</td>\n",
       "      <td>656</td>\n",
       "      <td>NaN</td>\n",
       "      <td>NaN</td>\n",
       "      <td>NaN</td>\n",
       "      <td>NaN</td>\n",
       "      <td>day</td>\n",
       "      <td>1077346912959</td>\n",
       "    </tr>\n",
       "    <tr>\n",
       "      <th>2999999</th>\n",
       "      <td>2999999</td>\n",
       "      <td>99999</td>\n",
       "      <td>2999999</td>\n",
       "      <td>2021-05-20 13:18:32.575704</td>\n",
       "      <td>0</td>\n",
       "      <td>1.0</td>\n",
       "      <td>1.0</td>\n",
       "      <td>1.0</td>\n",
       "      <td>1.0</td>\n",
       "      <td>1.0</td>\n",
       "      <td>...</td>\n",
       "      <td>16.831888</td>\n",
       "      <td>NaN</td>\n",
       "      <td>0.294880</td>\n",
       "      <td>656</td>\n",
       "      <td>-30.771501</td>\n",
       "      <td>25.534568</td>\n",
       "      <td>-31.607692</td>\n",
       "      <td>26.453846</td>\n",
       "      <td>day</td>\n",
       "      <td>1077347762944</td>\n",
       "    </tr>\n",
       "  </tbody>\n",
       "</table>\n",
       "<p>3000000 rows × 74 columns</p>\n",
       "</div>"
      ],
      "text/plain": [
       "         Unnamed: 0  index  event_num                  event_time  deadtime  \\\n",
       "0                 0      0          0  2021-05-03 12:40:15.812760         0   \n",
       "1                 1      1          1  2021-05-03 12:40:16.502963         0   \n",
       "2                 2      2          2  2021-05-03 12:40:16.672924         0   \n",
       "3                 3      3          3  2021-05-03 12:40:16.892987         0   \n",
       "4                 4      4          4  2021-05-03 12:40:17.563102         0   \n",
       "...             ...    ...        ...                         ...       ...   \n",
       "2999995     2999995  99995    2999995  2021-05-20 13:18:30.375574         0   \n",
       "2999996     2999996  99996    2999996  2021-05-20 13:18:30.965416         0   \n",
       "2999997     2999997  99997    2999997  2021-05-20 13:18:31.405694         0   \n",
       "2999998     2999998  99998    2999998  2021-05-20 13:18:31.725719         0   \n",
       "2999999     2999999  99999    2999999  2021-05-20 13:18:32.575704         0   \n",
       "\n",
       "         l1hit  l2hit  l3hit  l4hit  r1hit  ...    z_angle  SmallCounter  \\\n",
       "0          1.0    1.0    1.0    1.0    1.0  ...  13.455446           NaN   \n",
       "1          1.0    1.0    1.0    1.0    1.0  ...  12.002813           NaN   \n",
       "2          1.0    1.0    1.0    1.0    1.0  ...  14.672630           NaN   \n",
       "3          1.0    1.0    1.0    1.0    1.0  ...  15.284964           NaN   \n",
       "4          1.0    1.0    1.0    1.0    1.0  ...   4.253100           NaN   \n",
       "...        ...    ...    ...    ...    ...  ...        ...           ...   \n",
       "2999995    0.0    0.0    1.0    1.0    0.0  ...        NaN           NaN   \n",
       "2999996    1.0    1.0    1.0    1.0    1.0  ...   6.035804           NaN   \n",
       "2999997    1.0    0.0    1.0    1.0    1.0  ...        NaN           NaN   \n",
       "2999998    1.0    1.0    0.0    0.0    1.0  ...        NaN           NaN   \n",
       "2999999    1.0    1.0    1.0    1.0    1.0  ...  16.831888           NaN   \n",
       "\n",
       "             speed  Run_Num         xx         yy        xx1        yy1  \\\n",
       "0         0.342978      622  -5.445887 -22.562492  -6.807692 -22.684615   \n",
       "1         0.703353      622 -11.762760 -21.506829 -11.538462 -21.784615   \n",
       "2         0.210716      622  35.347122  13.620282  36.676923  14.884615   \n",
       "3         0.259347      622  24.903617  25.826667  27.746154  29.153846   \n",
       "4        11.038012      622   6.978340  14.482143   7.676923  15.230769   \n",
       "...            ...      ...        ...        ...        ...        ...   \n",
       "2999995        NaN      656        NaN        NaN        NaN        NaN   \n",
       "2999996   0.442759      656  12.892377 -12.244589  13.269231 -13.276923   \n",
       "2999997        NaN      656 -25.480419        NaN -27.830769        NaN   \n",
       "2999998        NaN      656        NaN        NaN        NaN        NaN   \n",
       "2999999   0.294880      656 -30.771501  25.534568 -31.607692  26.453846   \n",
       "\n",
       "         time_of_day           time  \n",
       "0                day              0  \n",
       "1                day         690203  \n",
       "2                day         860164  \n",
       "3                day        1080227  \n",
       "4                day        1750342  \n",
       "...              ...            ...  \n",
       "2999995          day  1077345562814  \n",
       "2999996          day  1077346152656  \n",
       "2999997          day  1077346592934  \n",
       "2999998          day  1077346912959  \n",
       "2999999          day  1077347762944  \n",
       "\n",
       "[3000000 rows x 74 columns]"
      ]
     },
     "execution_count": 101,
     "metadata": {},
     "output_type": "execute_result"
    }
   ],
   "source": [
    "from MuDataFrame import *\n",
    "\n",
    "mdfo_calib = MuDataFrame(\"/Users/sc/Projects/Summer2021/Muons/dataFiles/calibration_new_set_up.csv\")\n",
    "\n",
    "mdf_calib = mdfo_calib.events_df\n",
    "\n",
    "mdfo_calib.og_df = mdf_calib.copy()\n",
    "mdfo_calib.show()"
   ]
  },
  {
   "cell_type": "code",
   "execution_count": 127,
   "id": "smaller-biography",
   "metadata": {},
   "outputs": [],
   "source": [
    "from scipy.stats import gaussian_kde\n",
    "\n",
    "def getIntersections(t, curve1, curve2, doPlot=True):\n",
    "    intersections = []\n",
    "    xvals = []\n",
    "    prev_dif = 0\n",
    "    t0, prev_c1, prev_c2 = None, None, None\n",
    "    for t1, c1, c2 in zip(t, curve1, curve2):\n",
    "        new_dif = c2 - c1\n",
    "        if np.abs(new_dif) < 1e-12:  # found an exact zero, this is very unprobable\n",
    "            intersections.append((t1, c1))\n",
    "        elif new_dif * prev_dif < 0:\n",
    "            denom = prev_dif - new_dif\n",
    "            xvals.append((-new_dif * t0 + prev_dif * t1) / denom)\n",
    "            intersections.append(((-new_dif * t0 + prev_dif * t1) / denom,\n",
    "                                  (c1 * prev_c2 - c2 * prev_c1) / denom))\n",
    "        t0, prev_c1, prev_c2, prev_dif = t1, c1, c2, new_dif\n",
    "\n",
    "    if doPlot:\n",
    "        fig, ax = plt.subplots()\n",
    "        ax.plot(t, curve1, 'b-')\n",
    "        ax.plot(t, curve2, 'r-')\n",
    "        ax.plot(*zip(*intersections), 'kx', ms=5)\n",
    "        plt.show()\n",
    "    \n",
    "    diffs = np.diff(xvals)\n",
    "    return xvals\n",
    "\n",
    "\n",
    "def TDCHisto(i, j, tdc_hist, bins, range, colors):\n",
    "    if i == 9:\n",
    "        range = (120, 170)\n",
    "    elif i >= 7:\n",
    "        range = (120, 160)\n",
    "    elif i >= 6:\n",
    "        range = (100, 150)\n",
    "    elif i >= 4:\n",
    "        range = (90, 140)\n",
    "    else:\n",
    "        range = (70, 120)\n",
    "    plt.hist(tdc_hist, label=str(j+1), bins=bins,\n",
    "             range=range, histtype=\"step\", color=colors[j])\n",
    "    plt.legend()\n",
    "    plt.xlabel(\"TDC (Left Channel)\")\n",
    "    plt.title(\"Tray 1 (x = {})\".format(i+2))\n",
    "    \n",
    "\n",
    "def TDCMean_og(i, tdc_hist):\n",
    "    data_x = tdc_hist\n",
    "    data_x_means = [np.mean(i) for i in data_x]\n",
    "    data_x_stds = [np.std(i) for i in data_x]\n",
    "    yvals = np.linspace(1, 11, 11)\n",
    "    plt.scatter(yvals, data_x_means)\n",
    "    plt.xlabel(\"y coordinates\")\n",
    "    plt.ylabel(\"Mean of TDC\")\n",
    "    plt.title(\"Tray 1 (x = {})\".format(i+2))\n",
    "    plt.show()\n",
    "    plt.scatter(yvals, data_x_stds)\n",
    "    plt.xlabel(\"y coordinates\")\n",
    "    plt.ylabel(\"Std of TDC\")\n",
    "    plt.title(\"Tray 1 (x = {})\".format(i+2))\n",
    "    plt.show()\n",
    "\n",
    "\n",
    "def TDCMean(i, tdc_hist,name=\"\"):\n",
    "    data_x = tdc_hist\n",
    "    data_x_means = [np.mean(i) for i in data_x]\n",
    "    data_x_stds = [np.std(i) for i in data_x]\n",
    "    yvals = np.linspace(1, 11, 11)\n",
    "    plt.errorbar(x=yvals, y=data_x_means, marker='x', yerr=data_x_stds, mec='red', ms=9, capsize=5)#solid_capstyle='projecting'\n",
    "    plt.xlabel(\"y coordinates\")\n",
    "    plt.ylabel(\"Mean of TDC\")\n",
    "    plt.title(\"Tray 1 (x = {})\".format(i+2))\n",
    "    plt.savefig(\"tdc_dist_{}_{}.pdf\".format(i+2,name))\n",
    "    plt.clf()\n",
    "  #  plt.show()\n",
    "\n",
    "def getTDCInfo(i, tdc_hist):\n",
    "    data_x = tdc_hist\n",
    "    data_x_means = [np.mean(i) for i in data_x]\n",
    "    data_x_stds = [np.std(i) for i in data_x]\n",
    "    return data_x_means,data_x_stds\n",
    "\n",
    "def getIndividualPeaks(mdfo,\n",
    "                       coord,\n",
    "                       thresh=0.002,\n",
    "                       bw=0.009,\n",
    "                       axes=[-75, 75],\n",
    "                       N=150,\n",
    "                       doPlot=True):\n",
    "    data = mdfo.get(coord)\n",
    "\n",
    "    density1 = gaussian_kde(data, bw_method=bw)\n",
    "    xs = np.linspace(axes[0], axes[1], N)\n",
    "\n",
    "    t = xs\n",
    "    curve1 = density1(xs)\n",
    "    curve2 = len(curve1) * [thresh]\n",
    "    vals = getIntersections(t, curve1, curve2,doPlot=doPlot)\n",
    "    vals = np.reshape(vals,[11,2])\n",
    "    return vals"
   ]
  },
  {
   "cell_type": "code",
   "execution_count": 128,
   "id": "adopted-interface",
   "metadata": {},
   "outputs": [
    {
     "data": {
      "image/png": "[encoded data removed]",
      "text/plain": [
       "<Figure size 432x288 with 1 Axes>"
      ]
     },
     "metadata": {
      "needs_background": "light"
     },
     "output_type": "display_data"
    }
   ],
   "source": [
    "from scipy.stats import gaussian_kde\n",
    "\n",
    "mdfo_calib.reload()\n",
    "mdfo_calib.keep4by4Events()\n",
    "\n",
    "data = mdfo_calib.get(\"diffL2\")\n",
    "#bandwidth = 0.9\n",
    "\n",
    "density1 = gaussian_kde(data)\n",
    "xs = np.linspace(-75,75,150)\n",
    "plt.plot(xs,density1(xs))\n",
    "plt.hist(data,density=True,alpha=0.3,range=(-75,75),bins=150)\n",
    "plt.hlines(0.002,xs[0],xs[-1])\n",
    "plt.show()"
   ]
  },
  {
   "cell_type": "code",
   "execution_count": 113,
   "id": "egyptian-limitation",
   "metadata": {},
   "outputs": [
    {
     "data": {
      "image/png": "[encoded data removed]",
      "text/plain": [
       "<Figure size 432x288 with 1 Axes>"
      ]
     },
     "metadata": {
      "needs_background": "light"
     },
     "output_type": "display_data"
    }
   ],
   "source": [
    "mdfo_calib.reload()\n",
    "mdfo_calib.keep4by4Events()\n",
    "data = mdfo_calib.get(\"diffL2\")\n",
    "bandwidth = 0.03\n",
    "density1 = gaussian_kde(data, bw_method=bandwidth)\n",
    "xs = np.linspace(-75,75,150)\n",
    "t = xs\n",
    "curve1 = density1(xs)\n",
    "curve2 = len(curve1) * [0.002]\n",
    "vals = getIntersections(t, curve1, curve2)"
   ]
  },
  {
   "cell_type": "code",
   "execution_count": 114,
   "id": "solar-given",
   "metadata": {},
   "outputs": [
    {
     "data": {
      "text/plain": [
       "array([[-65.77684894, -59.45548525],\n",
       "       [-54.57257411, -44.48214352],\n",
       "       [-41.47196787, -33.45674206],\n",
       "       [-29.23721378, -19.82229486],\n",
       "       [-17.79894116,  -7.87123436],\n",
       "       [ -4.35676442,   2.47370176],\n",
       "       [  6.30463382,  16.76725075],\n",
       "       [ 18.53501085,  27.72201872],\n",
       "       [ 32.38944944,  40.83525639],\n",
       "       [ 44.39489004,  53.59576872],\n",
       "       [ 58.00035882,  64.5655992 ]])"
      ]
     },
     "execution_count": 114,
     "metadata": {},
     "output_type": "execute_result"
    }
   ],
   "source": [
    "L1 = np.reshape(vals,[11,2])\n",
    "L1"
   ]
  },
  {
   "cell_type": "code",
   "execution_count": 123,
   "id": "frequent-movie",
   "metadata": {},
   "outputs": [],
   "source": [
    "i = 1\n",
    "TDCS_L1 = []\n",
    "\n",
    "for peak in L1:\n",
    "    if i != 1: #not using the first peak as analysis already done in Section 1\n",
    "    # isolate the peaks\n",
    "        mdfo_calib.reload()\n",
    "        mdfo_calib.keep4by4Events()\n",
    "        mdfo_calib.keepEvents(\"diffL1\",peak[1],\"<=\")\n",
    "        mdfo_calib.keepEvents(\"diffL1\",peak[0],\">=\")\n",
    "    # generate the L2 peaks\n",
    "        L2 = getIndividualPeaks(mdfo_calib, \"diffL2\",thresh=0.002,bw=0.03,doPlot=False)\n",
    "        for each_peak in L2:\n",
    "            mdfo_calib.reload()\n",
    "            mdfo_calib.keep4by4Events()\n",
    "            mdfo_calib.keepEvents(\"diffL1\",peak[1],\"<=\")\n",
    "            mdfo_calib.keepEvents(\"diffL1\",peak[0],\">=\")\n",
    "            \n",
    "            mdfo_calib.keepEvents(\"diffL2\",each_peak[1],\"<=\")\n",
    "            mdfo_calib.keepEvents(\"diffL2\",each_peak[0],\">=\")\n",
    "            # store the tdcs\n",
    "            TDCS_L1.append(mdfo_calib.get(\"L1\"))\n",
    "            #mdfo_calib.getHistogram(\"L1\",range=(0,200))            \n",
    "            #mdfo_calib.getHistogram(\"diffL2\",range=(-75,75),nbins=50)\n",
    "    i+=1"
   ]
  },
  {
   "cell_type": "code",
   "execution_count": 124,
   "id": "parliamentary-thong",
   "metadata": {},
   "outputs": [
    {
     "data": {
      "text/plain": [
       "110"
      ]
     },
     "execution_count": 124,
     "metadata": {},
     "output_type": "execute_result"
    }
   ],
   "source": [
    "len(TDCS_L1)"
   ]
  },
  {
   "cell_type": "code",
   "execution_count": 125,
   "id": "julian-sheep",
   "metadata": {},
   "outputs": [
    {
     "data": {
      "text/plain": [
       "array([[array([85., 87., 93., ..., 87., 84., 85.]),\n",
       "        array([85., 89., 84., ..., 87., 97., 88.]),\n",
       "        array([83., 86., 84., ..., 80., 87., 83.]),\n",
       "        array([87., 90., 82., ..., 91., 86., 83.]),\n",
       "        array([75., 87., 83., ..., 84., 86., 80.]),\n",
       "        array([83., 87., 83., ..., 83., 87., 86.]),\n",
       "        array([89., 84., 86., ..., 83., 87., 91.]),\n",
       "        array([91., 93., 90., ..., 89., 89., 88.]),\n",
       "        array([93., 90., 91., ..., 91., 93., 88.]),\n",
       "        array([89., 94., 90., ..., 93., 91., 89.]),\n",
       "        array([92., 86., 94., ..., 98., 91., 89.])],\n",
       "       [array([102., 102.,  98., ...,  97.,  96.,  94.]),\n",
       "        array([ 91.,  90., 101., ...,  93., 108.,  94.]),\n",
       "        array([90., 94., 95., ..., 95., 92., 99.]),\n",
       "        array([94., 94., 94., ..., 93., 91., 90.]),\n",
       "        array([88., 92., 87., ..., 91., 90., 89.]),\n",
       "        array([89., 89., 91., ..., 87., 90., 92.]),\n",
       "        array([90., 91., 87., ..., 91., 86., 94.]),\n",
       "        array([85., 89., 86., ..., 83., 93., 86.]),\n",
       "        array([96., 99., 93., ..., 92., 86., 86.]),\n",
       "        array([103., 102.,  89., ...,  94.,  97.,  98.]),\n",
       "        array([96., 93., 99., ..., 86., 99., 98.])],\n",
       "       [array([107., 101., 101., ..., 101., 101.,  99.]),\n",
       "        array([ 97.,  98.,  99., ..., 102.,  95., 107.]),\n",
       "        array([94., 96., 98., ..., 99., 98., 98.]),\n",
       "        array([100., 104.,  96., ..., 103.,  98., 102.]),\n",
       "        array([98., 96., 96., ..., 96., 99., 95.]),\n",
       "        array([92., 91., 92., ..., 92., 93., 97.]),\n",
       "        array([ 96.,  93., 113., ...,  92.,  87.,  93.]),\n",
       "        array([ 97., 105.,  92., ...,  90.,  98.,  89.]),\n",
       "        array([ 87.,  95., 100., ...,  92.,  92., 101.]),\n",
       "        array([ 91., 104.,  91., ...,  98.,  94.,  99.]),\n",
       "        array([102., 102., 101., ..., 101., 106., 101.])],\n",
       "       [array([105., 111., 109., ..., 102., 102., 104.]),\n",
       "        array([101., 104., 100., ..., 102., 103., 101.]),\n",
       "        array([107.,  98., 102., ..., 102., 102., 104.]),\n",
       "        array([104., 103., 102., ..., 115., 100., 109.]),\n",
       "        array([100.,  97., 102., ..., 107., 102.,  99.]),\n",
       "        array([103., 101.,  98., ...,  98.,  97., 101.]),\n",
       "        array([111.,  97.,  97., ..., 104.,  96., 111.]),\n",
       "        array([ 95.,  99.,  91., ...,  96., 105., 105.]),\n",
       "        array([ 96.,  93.,  96., ...,  88., 105.,  99.]),\n",
       "        array([102., 104.,  94., ...,  98.,  91., 103.]),\n",
       "        array([106.,  96., 103., ..., 102., 103.,  96.])],\n",
       "       [array([112., 113., 116., ..., 111., 115., 112.]),\n",
       "        array([110., 115., 117., ..., 110., 111., 111.]),\n",
       "        array([109., 110., 111., ..., 110., 111., 111.]),\n",
       "        array([114., 108., 110., ..., 107., 106., 110.]),\n",
       "        array([113., 108., 106., ..., 111., 107., 113.]),\n",
       "        array([102., 103., 101., ..., 117., 106., 105.]),\n",
       "        array([103., 100., 105., ..., 116., 106., 102.]),\n",
       "        array([ 95., 106., 114., ...,  97., 122., 108.]),\n",
       "        array([106.,  98.,  95., ..., 109., 103.,  99.]),\n",
       "        array([102., 108., 105., ..., 107.,  95., 106.]),\n",
       "        array([ 99., 106., 112., ..., 110., 102., 109.])],\n",
       "       [array([126., 124., 128., ..., 117., 120., 116.]),\n",
       "        array([115., 121., 119., ..., 115., 115., 124.]),\n",
       "        array([105., 111., 116., ..., 115., 114., 115.]),\n",
       "        array([115., 114., 124., ..., 112., 116., 111.]),\n",
       "        array([114., 117., 114., ..., 117., 110., 122.]),\n",
       "        array([111., 108., 106., ..., 110., 112., 112.]),\n",
       "        array([109., 107., 129., ..., 107., 111., 107.]),\n",
       "        array([114., 108., 110., ..., 119., 106., 108.]),\n",
       "        array([131., 101., 114., ..., 109., 120., 119.]),\n",
       "        array([112., 121., 113., ..., 119., 108., 103.]),\n",
       "        array([122., 103., 121., ..., 109., 111., 113.])],\n",
       "       [array([125., 122., 124., ..., 131., 127., 124.]),\n",
       "        array([123., 125., 123., ..., 123., 127., 124.]),\n",
       "        array([115., 122., 122., ..., 129., 121., 124.]),\n",
       "        array([117., 121., 119., ..., 123., 124., 121.]),\n",
       "        array([118., 115., 127., ..., 120., 127., 110.]),\n",
       "        array([113., 117., 115., ..., 111., 123., 122.]),\n",
       "        array([123., 117., 116., ..., 116., 115., 116.]),\n",
       "        array([113., 116., 114., ..., 127., 124., 116.]),\n",
       "        array([121., 124., 123., ..., 129., 113., 123.]),\n",
       "        array([126., 123., 120., ..., 124., 125., 122.]),\n",
       "        array([125., 129., 131., ..., 127., 128., 124.])],\n",
       "       [array([129., 132., 131., ..., 131., 131., 129.]),\n",
       "        array([136., 132., 125., ..., 134., 132., 132.]),\n",
       "        array([127., 131., 132., ..., 136., 129., 126.]),\n",
       "        array([130., 133., 127., ..., 130., 128., 124.]),\n",
       "        array([159., 126., 136., ..., 131., 129., 134.]),\n",
       "        array([133., 127., 124., ..., 128., 120., 127.]),\n",
       "        array([125., 123., 123., ..., 124., 127., 123.]),\n",
       "        array([126., 135., 131., ..., 133., 131., 133.]),\n",
       "        array([138., 133., 131., ..., 131., 131., 131.]),\n",
       "        array([131., 128., 130., ..., 124., 132., 136.]),\n",
       "        array([130., 131., 133., ..., 131., 130., 133.])],\n",
       "       [array([138., 137., 135., ..., 144., 139., 136.]),\n",
       "        array([134., 136., 135., ..., 138., 143., 134.]),\n",
       "        array([137., 138., 137., ..., 136., 135., 136.]),\n",
       "        array([132., 134., 133., ..., 138., 137., 136.]),\n",
       "        array([135., 134., 135., ..., 134., 140., 135.]),\n",
       "        array([138., 137., 144., ..., 138., 141., 140.]),\n",
       "        array([139., 136., 138., ..., 140., 137., 131.]),\n",
       "        array([142., 133., 135., ..., 142., 141., 139.]),\n",
       "        array([139., 141., 140., ..., 130., 144., 135.]),\n",
       "        array([145., 138., 145., ..., 140., 132., 144.]),\n",
       "        array([141., 141., 141., ..., 141., 134., 134.])],\n",
       "       [array([144., 149., 144., ..., 145., 142., 142.]),\n",
       "        array([139., 140., 153., ..., 137., 148., 143.]),\n",
       "        array([138., 140., 138., ..., 140., 141., 142.]),\n",
       "        array([141., 140., 142., ..., 144., 142., 144.]),\n",
       "        array([138., 141., 141., ..., 143., 140., 141.]),\n",
       "        array([144., 145., 141., ..., 148., 141., 143.]),\n",
       "        array([144., 144., 150., ..., 144., 141., 143.]),\n",
       "        array([144., 143., 146., ..., 142., 142., 138.]),\n",
       "        array([149., 141., 145., ..., 134., 147., 147.]),\n",
       "        array([141., 141., 145., ..., 143., 148., 144.]),\n",
       "        array([140., 145., 142., ..., 147., 149., 149.])]], dtype=object)"
      ]
     },
     "execution_count": 125,
     "metadata": {},
     "output_type": "execute_result"
    }
   ],
   "source": [
    "TDCS_L1 = np.reshape(TDCS_L1,[10,11])\n",
    "TDCS_L1"
   ]
  },
  {
   "cell_type": "code",
   "execution_count": 129,
   "id": "banner-graduate",
   "metadata": {},
   "outputs": [
    {
     "data": {
      "text/plain": [
       "<Figure size 432x288 with 0 Axes>"
      ]
     },
     "metadata": {},
     "output_type": "display_data"
    },
    {
     "data": {
      "text/plain": [
       "<Figure size 432x288 with 0 Axes>"
      ]
     },
     "metadata": {},
     "output_type": "display_data"
    },
    {
     "data": {
      "text/plain": [
       "<Figure size 432x288 with 0 Axes>"
      ]
     },
     "metadata": {},
     "output_type": "display_data"
    },
    {
     "data": {
      "text/plain": [
       "<Figure size 432x288 with 0 Axes>"
      ]
     },
     "metadata": {},
     "output_type": "display_data"
    },
    {
     "data": {
      "text/plain": [
       "<Figure size 432x288 with 0 Axes>"
      ]
     },
     "metadata": {},
     "output_type": "display_data"
    },
    {
     "data": {
      "text/plain": [
       "<Figure size 432x288 with 0 Axes>"
      ]
     },
     "metadata": {},
     "output_type": "display_data"
    },
    {
     "data": {
      "text/plain": [
       "<Figure size 432x288 with 0 Axes>"
      ]
     },
     "metadata": {},
     "output_type": "display_data"
    },
    {
     "data": {
      "text/plain": [
       "<Figure size 432x288 with 0 Axes>"
      ]
     },
     "metadata": {},
     "output_type": "display_data"
    },
    {
     "data": {
      "text/plain": [
       "<Figure size 432x288 with 0 Axes>"
      ]
     },
     "metadata": {},
     "output_type": "display_data"
    },
    {
     "data": {
      "text/plain": [
       "<Figure size 432x288 with 0 Axes>"
      ]
     },
     "metadata": {},
     "output_type": "display_data"
    }
   ],
   "source": [
    "import seaborn as sns\n",
    "\n",
    "sns.color_palette(\"Spectral\")\n",
    "bins = 50\n",
    "\n",
    "colors = [\"red\",\"blue\",\"green\",\"lawngreen\",\"sienna\",\"gold\",\"black\",\"maroon\",\"olive\",\"cyan\",\"fuchsia\"]\n",
    "\n",
    "info_tdc = []\n",
    "\n",
    "for i, tdc_hists in enumerate(TDCS_L1):\n",
    "    TDCMean(i, tdc_hists)\n",
    "    info_tdc.append(getTDCInfo(i, tdc_hists))\n",
    "\n",
    "    \n",
    "    for j,tdc_hist in enumerate(tdc_hists):\n",
    "        TDCHisto(i,j,tdc_hist,bins,range,colors)\n",
    "    plt.savefig(\"tdc_hist_{}.pdf\".format(i+2))\n",
    "    plt.clf()\n",
    "    plt.show()\n"
   ]
  },
  {
   "cell_type": "code",
   "execution_count": 130,
   "id": "rising-tension",
   "metadata": {},
   "outputs": [],
   "source": [
    "x1_y_l1 = (data_x_means, data_x_stds)\n",
    "\n",
    "info_tdc.insert(0,x1_y_l1)"
   ]
  },
  {
   "cell_type": "markdown",
   "id": "nutritional-gregory",
   "metadata": {},
   "source": [
    "# Understanding the Trends\n",
    "\n",
    "\n",
    "$$ T(y_j) = T_c(x_i) + T_p(x_i,y_i) - T_t(x_i,y_i) $$\n",
    "\n",
    "**fix flipped**"
   ]
  },
  {
   "cell_type": "code",
   "execution_count": null,
   "id": "otherwise-custody",
   "metadata": {},
   "outputs": [],
   "source": [
    "def getMeansPlot(data):\n",
    "    k = 1\n",
    "    colors = [\"red\",\"blue\",\"green\",\"lawngreen\",\"sienna\",\"gold\",\"black\",\"maroon\",\"olive\",\"cyan\",\"fuchsia\"]\n",
    "    for i in data:\n",
    "        plt.plot(-np.array(i[0]),label=\"{}\".format(k),color=colors[k-1])\n",
    "        k+=1\n",
    "        plt.legend()\n",
    "        plt.ylabel(\"Means of TDC\")\n",
    "        plt.xlabel(\"Y coordinate\")\n",
    "    plt.show()\n",
    "    \n",
    "def getStdPlot(data):\n",
    "    k = 1\n",
    "    colors = [\"red\",\"blue\",\"green\",\"lawngreen\",\"sienna\",\"gold\",\"black\",\"maroon\",\"olive\",\"cyan\",\"fuchsia\"]\n",
    "    for i in data:\n",
    "        plt.plot(-np.array(i[1]),label=\"{}\".format(k),color=colors[k-1])\n",
    "        k+=1\n",
    "        plt.legend()\n",
    "        plt.ylabel(\"Std of TDC\")\n",
    "        plt.xlabel(\"Y coordinate\")\n",
    "    plt.show()\n",
    "    \n",
    "#getMeansPlot(info_tdc)\n",
    "#getStdPlot(info_tdc)"
   ]
  },
  {
   "cell_type": "code",
   "execution_count": null,
   "id": "faced-speaker",
   "metadata": {
    "cell_style": "split"
   },
   "outputs": [],
   "source": [
    "from scipy import stats\n",
    "\n",
    "def getSlope(data):\n",
    "    k = 1\n",
    "    slopes = []\n",
    "    coorel = []\n",
    "    pvals = []\n",
    "    intercepts = []\n",
    "    means = []\n",
    "    y_coord = [(i+1)*5 for i in range(11)]\n",
    "    colors = [\"red\",\"blue\",\"green\",\"lawngreen\",\"sienna\",\"gold\",\"black\",\"maroon\",\"olive\",\"cyan\",\"fuchsia\"]\n",
    "    for i in data:\n",
    "        slope, intercept, r_value, p_value, std_err = stats.linregress(y_coord,-np.array(i[0]))\n",
    "        plt.plot(y_coord, -np.array(i[0]),label=\"{}\".format(k),color=colors[k-1])\n",
    "        plt.plot(y_coord,slope*np.array(y_coord)+intercept,'--k',alpha=0.5)\n",
    "        k+=1\n",
    "        slopes.append(slope)\n",
    "        coorel.append(r_value)\n",
    "        pvals.append(p_value)\n",
    "        intercepts.append(abs(intercept))\n",
    "        means.append(np.mean(i[0]))\n",
    "        plt.legend( bbox_to_anchor=(1.05, 1), loc='upper left')\n",
    "        plt.title(\"Linear Fit of TDC Means\",fontsize=15)\n",
    "        plt.ylabel(\"Means of TDC\")\n",
    "        plt.xlabel(\"Y (cm)\")\n",
    "    plt.show()\n",
    "    return slopes, coorel, means, pvals\n",
    "    \n",
    "slopes, correl, means, pvals = getSlope(info_tdc)"
   ]
  },
  {
   "cell_type": "code",
   "execution_count": null,
   "id": "damaged-pension",
   "metadata": {
    "cell_style": "split"
   },
   "outputs": [],
   "source": [
    "plt.plot([i+1 for i in range(11)], slopes)\n",
    "plt.ylabel(\"Slope (TDC/cm)\")\n",
    "plt.xlabel(\"X Coordinate\")\n",
    "plt.grid()\n",
    "plt.show()"
   ]
  },
  {
   "cell_type": "markdown",
   "id": "abroad-batman",
   "metadata": {},
   "source": [
    "---\n",
    "\n",
    "**Some Statistics Refreshers:**\n",
    "\n",
    "R-square value tells you how much variation is explained by your model. So 0.1 R-square means that your model explains 10% of variation within the data. The greater R-square the better the model. Whereas p-value tells you about the F statistic hypothesis testing of the \"fit of the intercept-only model and your model are equal\". So if the p-value is less than the significance level (usually 0.05) then your model fits the data well.\n",
    "Thus you have four scenarios:\n",
    "\n",
    "1) low R-square and low p-value (p-value <= 0.05)\n",
    "\n",
    "2) low R-square and high p-value (p-value > 0.05)\n",
    "\n",
    "3) high R-square and low p-value\n",
    "\n",
    "4) high R-square and high p-value\n",
    "\n",
    "Interpretation:\n",
    "\n",
    "1) means that your model doesn't explain much of variation of the data but it is significant (better than not having a model)\n",
    "\n",
    "2) means that your model doesn't explain much of variation of the data and it is not significant (worst scenario)\n",
    "\n",
    "3) means your model explains a lot of variation within the data and is significant (best scenario)\n",
    "\n",
    "4) means that your model explains a lot of variation within the data but is not significant (model is worthless)\n",
    "\n",
    "---"
   ]
  },
  {
   "cell_type": "code",
   "execution_count": null,
   "id": "minimal-grounds",
   "metadata": {
    "cell_style": "split",
    "scrolled": true
   },
   "outputs": [],
   "source": [
    "plt.plot([i+1 for i in range(11)], correl,'--o',markersize=12)\n",
    "plt.ylabel(\"Correlation (linear fit)\")\n",
    "plt.xlabel(\"X Coordinate\")\n",
    "plt.title(\"R - Value\")\n",
    "plt.grid()\n",
    "plt.show()"
   ]
  },
  {
   "cell_type": "code",
   "execution_count": null,
   "id": "fossil-gateway",
   "metadata": {
    "cell_style": "split"
   },
   "outputs": [],
   "source": [
    "plt.plot([i+1 for i in range(11)], pvals,'--o',markersize=12)\n",
    "plt.ylabel(\"Correlation (linear fit)\")\n",
    "plt.xlabel(\"X Coordinate\")\n",
    "plt.title(\"P - Value\")\n",
    "plt.grid()\n",
    "plt.show()"
   ]
  },
  {
   "cell_type": "markdown",
   "id": "appreciated-copyright",
   "metadata": {},
   "source": [
    "## The effect of statistics\n",
    "\n",
    "We know the distribution of the muon flux on our system is Gaussian. This means that most hits are located within $\\{5 \\le x \\ge 7\\} \\cup \\{5 \\le y \\ge 7\\}$. This higher statistics explains why we see a better fit and the linear TDC pattern for this class of events.\n",
    "\n",
    "The p-value plot also shows that the edge cases are statistically significant, I, as of now, still can't explain this..."
   ]
  },
  {
   "cell_type": "markdown",
   "id": "contained-applicant",
   "metadata": {},
   "source": [
    "## Investigating the effect of delay cables"
   ]
  },
  {
   "cell_type": "code",
   "execution_count": null,
   "id": "instrumental-meeting",
   "metadata": {},
   "outputs": [],
   "source": [
    "slope, intercept, r_value, p_value, std_err = stats.linregress([i+1 for i in range(11)],means)\n",
    "plt.plot([i+1 for i in range(11)], means)\n",
    "plt.ylabel(\"Mean TDC\")\n",
    "plt.xlabel(\"X Coordinate\")\n",
    "plt.title(\"TDC = {}x + {} [r={}]]\".format(round(slope,2),round(intercept,2),round(r_value,2)))\n",
    "plt.grid()\n",
    "plt.show()"
   ]
  },
  {
   "cell_type": "markdown",
   "id": "separated-silicon",
   "metadata": {},
   "source": [
    "Each X coordinate adds $3.11$ ns delay which is expected due to our scheme (i.e. the effect of $T_c(x_i)$).\n",
    "\n",
    "## Investigating Effect of Trigger:\n",
    "\n",
    "See Section 8."
   ]
  },
  {
   "cell_type": "markdown",
   "id": "wireless-needle",
   "metadata": {},
   "source": [
    "# Photon Propagation Speed"
   ]
  },
  {
   "cell_type": "code",
   "execution_count": null,
   "id": "disabled-destruction",
   "metadata": {},
   "outputs": [],
   "source": [
    "c = 299792458\n",
    "speed_scint = c/1.58\n",
    "speed_scint"
   ]
  },
  {
   "cell_type": "code",
   "execution_count": null,
   "id": "varying-rebecca",
   "metadata": {},
   "outputs": [],
   "source": [
    "photo_speed = (2/np.array(slopes))*10**7\n",
    "\n",
    "fig = plt.figure()\n",
    "ax = fig.add_subplot(111)\n",
    "\n",
    "\n",
    "plt.plot([i+1 for i in range(11)],photo_speed,'--x',label=\"measured\")\n",
    "plt.plot(12*[speed_scint],'--',label=\"expected\")\n",
    "plt.plot(12*[c],'--',label=\"c\")\n",
    "\n",
    "for i, v in enumerate(photo_speed):\n",
    "    ax.text(i, v, str(round(correl[i], 2)),ha=\"left\",va=\"bottom\",size=\"small\")\n",
    "\n",
    "plt.legend()\n",
    "plt.title(\"Photon Propagation Speed\",fontsize=15)\n",
    "plt.ylabel(\"Photon speed (m/s)\")\n",
    "plt.xlabel(\"X Coordinate\")\n",
    "plt.grid()\n",
    "plt.show()"
   ]
  },
  {
   "cell_type": "markdown",
   "id": "freelance-button",
   "metadata": {},
   "source": [
    "## Refraction Index Calculation"
   ]
  },
  {
   "cell_type": "code",
   "execution_count": null,
   "id": "visible-mitchell",
   "metadata": {},
   "outputs": [],
   "source": [
    "eta_scint = c/np.mean(photo_speed[4:6])\n",
    "eta_scint"
   ]
  },
  {
   "cell_type": "markdown",
   "id": "reduced-simple",
   "metadata": {},
   "source": [
    "The value we expect is $1.58$ and the value we calculate is 3.12. An error of $97\\%$. I may be not doing this correctly as well...."
   ]
  },
  {
   "cell_type": "markdown",
   "id": "romantic-internet",
   "metadata": {},
   "source": [
    "# TDC Fit of X"
   ]
  },
  {
   "cell_type": "code",
   "execution_count": 135,
   "id": "ambient-wound",
   "metadata": {},
   "outputs": [
    {
     "ename": "TypeError",
     "evalue": "'tuple' object is not callable",
     "output_type": "error",
     "traceback": [
      "\u001b[0;31m---------------------------------------------------------------------------\u001b[0m",
      "\u001b[0;31mTypeError\u001b[0m                                 Traceback (most recent call last)",
      "\u001b[0;32m<ipython-input-135-1fbf0434fb1b>\u001b[0m in \u001b[0;36m<module>\u001b[0;34m\u001b[0m\n\u001b[1;32m     27\u001b[0m \u001b[0;34m\u001b[0m\u001b[0m\n\u001b[1;32m     28\u001b[0m \u001b[0mtdc_means_L1\u001b[0m \u001b[0;34m=\u001b[0m \u001b[0;34m[\u001b[0m\u001b[0mi\u001b[0m\u001b[0;34m[\u001b[0m\u001b[0;36m0\u001b[0m\u001b[0;34m]\u001b[0m \u001b[0;32mfor\u001b[0m \u001b[0mi\u001b[0m \u001b[0;32min\u001b[0m \u001b[0minfo_tdc\u001b[0m\u001b[0;34m]\u001b[0m\u001b[0;34m\u001b[0m\u001b[0;34m\u001b[0m\u001b[0m\n\u001b[0;32m---> 29\u001b[0;31m \u001b[0mslopesY\u001b[0m\u001b[0;34m,\u001b[0m \u001b[0mcorrelY\u001b[0m \u001b[0;34m=\u001b[0m \u001b[0mgetSlopeY\u001b[0m\u001b[0;34m(\u001b[0m\u001b[0mtdc_means_L1\u001b[0m\u001b[0;34m)\u001b[0m\u001b[0;34m\u001b[0m\u001b[0;34m\u001b[0m\u001b[0m\n\u001b[0m",
      "\u001b[0;32m<ipython-input-135-1fbf0434fb1b>\u001b[0m in \u001b[0;36mgetSlopeY\u001b[0;34m(data)\u001b[0m\n\u001b[1;32m      1\u001b[0m \u001b[0;32mdef\u001b[0m \u001b[0mgetSlopeY\u001b[0m\u001b[0;34m(\u001b[0m\u001b[0mdata\u001b[0m\u001b[0;34m)\u001b[0m\u001b[0;34m:\u001b[0m\u001b[0;34m\u001b[0m\u001b[0;34m\u001b[0m\u001b[0m\n\u001b[0;32m----> 2\u001b[0;31m     \u001b[0mdata\u001b[0m \u001b[0;34m=\u001b[0m \u001b[0mgetXTDCMeans\u001b[0m\u001b[0;34m(\u001b[0m\u001b[0mdata\u001b[0m\u001b[0;34m)\u001b[0m\u001b[0;34m\u001b[0m\u001b[0;34m\u001b[0m\u001b[0m\n\u001b[0m\u001b[1;32m      3\u001b[0m     \u001b[0mk\u001b[0m \u001b[0;34m=\u001b[0m \u001b[0;36m1\u001b[0m\u001b[0;34m\u001b[0m\u001b[0;34m\u001b[0m\u001b[0m\n\u001b[1;32m      4\u001b[0m     \u001b[0mslopes\u001b[0m \u001b[0;34m=\u001b[0m \u001b[0;34m[\u001b[0m\u001b[0;34m]\u001b[0m\u001b[0;34m\u001b[0m\u001b[0;34m\u001b[0m\u001b[0m\n\u001b[1;32m      5\u001b[0m     \u001b[0mcoorel\u001b[0m \u001b[0;34m=\u001b[0m \u001b[0;34m[\u001b[0m\u001b[0;34m]\u001b[0m\u001b[0;34m\u001b[0m\u001b[0;34m\u001b[0m\u001b[0m\n",
      "\u001b[0;32m<ipython-input-135-1fbf0434fb1b>\u001b[0m in \u001b[0;36mgetXTDCMeans\u001b[0;34m(data)\u001b[0m\n\u001b[1;32m     22\u001b[0m \u001b[0;32mdef\u001b[0m \u001b[0mgetXTDCMeans\u001b[0m\u001b[0;34m(\u001b[0m\u001b[0mdata\u001b[0m\u001b[0;34m)\u001b[0m\u001b[0;34m:\u001b[0m\u001b[0;34m\u001b[0m\u001b[0;34m\u001b[0m\u001b[0m\n\u001b[1;32m     23\u001b[0m     \u001b[0mxmeans\u001b[0m \u001b[0;34m=\u001b[0m \u001b[0;34m[\u001b[0m\u001b[0;34m]\u001b[0m\u001b[0;34m\u001b[0m\u001b[0;34m\u001b[0m\u001b[0m\n\u001b[0;32m---> 24\u001b[0;31m     \u001b[0;32mfor\u001b[0m \u001b[0mi\u001b[0m \u001b[0;32min\u001b[0m \u001b[0mrange\u001b[0m\u001b[0;34m(\u001b[0m\u001b[0mlen\u001b[0m\u001b[0;34m(\u001b[0m\u001b[0mdata\u001b[0m\u001b[0;34m)\u001b[0m\u001b[0;34m)\u001b[0m\u001b[0;34m:\u001b[0m\u001b[0;34m\u001b[0m\u001b[0;34m\u001b[0m\u001b[0m\n\u001b[0m\u001b[1;32m     25\u001b[0m         \u001b[0mxmeans\u001b[0m\u001b[0;34m.\u001b[0m\u001b[0mappend\u001b[0m\u001b[0;34m(\u001b[0m\u001b[0;34m[\u001b[0m\u001b[0mx\u001b[0m\u001b[0;34m[\u001b[0m\u001b[0mi\u001b[0m\u001b[0;34m]\u001b[0m \u001b[0;32mfor\u001b[0m \u001b[0mx\u001b[0m \u001b[0;32min\u001b[0m \u001b[0mdata\u001b[0m\u001b[0;34m]\u001b[0m\u001b[0;34m)\u001b[0m\u001b[0;34m\u001b[0m\u001b[0;34m\u001b[0m\u001b[0m\n\u001b[1;32m     26\u001b[0m     \u001b[0;32mreturn\u001b[0m \u001b[0mxmeans\u001b[0m\u001b[0;34m\u001b[0m\u001b[0;34m\u001b[0m\u001b[0m\n",
      "\u001b[0;31mTypeError\u001b[0m: 'tuple' object is not callable"
     ]
    }
   ],
   "source": [
    "def getSlopeY(data):\n",
    "    data = getXTDCMeans(data)\n",
    "    k = 1\n",
    "    slopes = []\n",
    "    coorel = []\n",
    "    y_coord = [i+1 for i in range(11)]\n",
    "    colors = [\"red\",\"blue\",\"green\",\"lawngreen\",\"sienna\",\"gold\",\"black\",\"maroon\",\"olive\",\"cyan\",\"fuchsia\"]\n",
    "    for i in data:\n",
    "        slope, intercept, r_value, p_value, std_err = stats.linregress(y_coord,-np.array(i))\n",
    "        plt.plot(y_coord, -np.array(i),label=\"{}\".format(k),color=colors[k-1])\n",
    "    #    plt.plot(y_coord,slope*np.array(y_coord)+intercept,'--k',alpha=0.5)\n",
    "        k+=1\n",
    "        slopes.append(slope)\n",
    "        coorel.append(r_value)\n",
    "        plt.legend( bbox_to_anchor=(1.05, 1), loc='upper left')\n",
    "        plt.title(\"Linear Fit of TDC Means\",fontsize=15)\n",
    "        plt.ylabel(\"Means of TDC\")\n",
    "        plt.xlabel(\"X coordinate\")\n",
    "    plt.show()\n",
    "    return slopes, coorel\n",
    "\n",
    "def getXTDCMeans(data):\n",
    "    xmeans = []\n",
    "    for i in range(len(data)):\n",
    "        xmeans.append([x[i] for x in data])\n",
    "    return xmeans\n",
    "\n",
    "tdc_means_L1 = [i[0] for i in info_tdc]\n",
    "slopesY, correlY = getSlopeY(tdc_means_L1)"
   ]
  },
  {
   "cell_type": "code",
   "execution_count": null,
   "id": "determined-mumbai",
   "metadata": {
    "cell_style": "split"
   },
   "outputs": [],
   "source": [
    "plt.plot([i+1 for i in range(11)], slopesY)\n",
    "plt.ylabel(\"Slope (linear fit)\")\n",
    "plt.xlabel(\"Y Coordinate\")\n",
    "plt.grid()\n",
    "plt.show()"
   ]
  },
  {
   "cell_type": "code",
   "execution_count": null,
   "id": "chemical-register",
   "metadata": {
    "cell_style": "split"
   },
   "outputs": [],
   "source": [
    "plt.plot([i+1 for i in range(11)], correlY)\n",
    "plt.ylabel(\"Correlation (linear fit)\")\n",
    "plt.xlabel(\"Y Coordinate\")\n",
    "plt.title(\"R - Value\")\n",
    "plt.grid()\n",
    "plt.show()"
   ]
  },
  {
   "cell_type": "markdown",
   "id": "earned-antigua",
   "metadata": {},
   "source": [
    "# Trigger Analysis\n"
   ]
  },
  {
   "cell_type": "markdown",
   "id": "modern-chain",
   "metadata": {},
   "source": [
    "## Making Cuts on Peaks\n",
    "\n",
    "We know,\n",
    "\n",
    "$$T_r = (T_c + T_p - T_t)*0.5 $$\n",
    "\n",
    "Here, $T_r$ is the time in ns of the readout from the channel. $T_c$ is the **constant delay** due to cables, $T_p$ is the **photon propagation time** and $T_t$ is the **trigger time**.    \n",
    "\n",
    "The trigger time distribution is as follows:"
   ]
  },
  {
   "cell_type": "code",
   "execution_count": null,
   "id": "sunset-stone",
   "metadata": {},
   "outputs": [],
   "source": [
    "mdfo_calib.reload()\n",
    "mdfo_calib.getCounterPlots()"
   ]
  },
  {
   "cell_type": "code",
   "execution_count": null,
   "id": "superior-creator",
   "metadata": {},
   "outputs": [],
   "source": [
    "def getIndividualPeaks(mdfo,\n",
    "                       coord,\n",
    "                       thresh=0.002,\n",
    "                       bw=0.009,\n",
    "                       axes=[-75, 75],\n",
    "                       N=150,\n",
    "                       doPlot=True):\n",
    "    data = mdfo.get(coord)\n",
    "\n",
    "    density1 = gaussian_kde(data, bw_method=bw)\n",
    "    xs = np.linspace(axes[0], axes[1], N)\n",
    "\n",
    "    t = xs\n",
    "    curve1 = density1(xs)\n",
    "    curve2 = len(curve1) * [thresh]\n",
    "    vals = getIntersections(t, curve1, curve2,doPlot=doPlot)\n",
    "    vals = np.reshape(vals,[11,2])\n",
    "    return vals"
   ]
  },
  {
   "cell_type": "code",
   "execution_count": null,
   "id": "binding-kuwait",
   "metadata": {},
   "outputs": [],
   "source": [
    "mdfo_calib.reload()\n",
    "mdfo_calib.keep4by4Events()\n",
    "mdfo_calib.keepEvents(\"TopCounter\", 95, \"<=\")\n",
    "mdfo_calib.keepEvents(\"BottomCounter\", 85, \"<=\")\n",
    "\n",
    "data = mdfo_calib.get(\"diffL1\")\n",
    "bandwidth = 0.009\n",
    "\n",
    "density1 = gaussian_kde(data, bw_method=bandwidth)\n",
    "xs = np.linspace(-75,75,150)\n",
    "\n",
    "t = xs\n",
    "curve1 = density1(xs)\n",
    "curve2 = len(curve1) * [0.002]\n",
    "\n",
    "vals = getIntersections(t, curve1, curve2, doPlot=True)"
   ]
  },
  {
   "cell_type": "code",
   "execution_count": null,
   "id": "bright-designation",
   "metadata": {},
   "outputs": [],
   "source": [
    "L1 = np.reshape(vals,[11,2])"
   ]
  },
  {
   "cell_type": "code",
   "execution_count": null,
   "id": "prompt-friendship",
   "metadata": {},
   "outputs": [],
   "source": [
    "i = 1\n",
    "TDCS_L1 = []\n",
    "\n",
    "for peak in L1:\n",
    "    if i != 1: #not using the first peak as analysis already done in Section 1\n",
    "    # isolate the peaks\n",
    "        mdfo_calib.reload()\n",
    "        mdfo_calib.keep4by4Events()\n",
    "        mdfo_calib.keepEvents(\"TopCounter\", 95, \"<=\")\n",
    "        mdfo_calib.keepEvents(\"BottomCounter\", 85, \"<=\")\n",
    "        mdfo_calib.keepEvents(\"diffL1\",peak[1],\"<=\")\n",
    "        mdfo_calib.keepEvents(\"diffL1\",peak[0],\">=\")\n",
    "    # generate the L2 peaks\n",
    "        L2 = getIndividualPeaks(mdfo_calib, \"diffL2\",thresh=0.002,bw=0.03,doPlot=True)\n",
    "        for each_peak in L2:\n",
    "            mdfo_calib.reload()\n",
    "            mdfo_calib.keep4by4Events()\n",
    "            mdfo_calib.keepEvents(\"TopCounter\", 95, \"<=\")\n",
    "            mdfo_calib.keepEvents(\"BottomCounter\", 85, \"<=\")\n",
    "            \n",
    "            mdfo_calib.keepEvents(\"diffL1\",peak[1],\"<=\")\n",
    "            mdfo_calib.keepEvents(\"diffL1\",peak[0],\">=\")\n",
    "            \n",
    "            mdfo_calib.keepEvents(\"diffL2\",each_peak[1],\"<=\")\n",
    "            mdfo_calib.keepEvents(\"diffL2\",each_peak[0],\">=\")\n",
    "        \n",
    "            # store the tdcs\n",
    "            TDCS_L1.append(mdfo_calib.get(\"L1\"))\n",
    "           # mdfo_calib.getHistogram(\"L1\",range=(0,200))            \n",
    "         #   mdfo_calib.getHistogram(\"diffL2\",range=(-75,75),nbins=50)\n",
    "    i+=1"
   ]
  },
  {
   "cell_type": "code",
   "execution_count": null,
   "id": "compound-durham",
   "metadata": {},
   "outputs": [],
   "source": [
    "TDCS_L1 = np.reshape(TDCS_L1,[10,11])"
   ]
  },
  {
   "cell_type": "code",
   "execution_count": null,
   "id": "senior-recipe",
   "metadata": {},
   "outputs": [],
   "source": [
    "import seaborn as sns\n",
    "\n",
    "sns.color_palette(\"Spectral\")\n",
    "bins = 50\n",
    "\n",
    "colors = [\"red\",\"blue\",\"green\",\"lawngreen\",\"sienna\",\"gold\",\"black\",\"maroon\",\"olive\",\"cyan\",\"fuchsia\"]\n",
    "\n",
    "info_tdc = []\n",
    "\n",
    "for i, tdc_hists in enumerate(TDCS_L1):\n",
    "    TDCMean(i, tdc_hists)\n",
    "    info_tdc.append(getTDCInfo(i, tdc_hists))\n",
    "   # for j,tdc_hist in enumerate(tdc_hists):\n",
    "   #     TDCHisto(i,j,tdc_hist,bins,range,colors)\n",
    "   # plt.savefig(\"tdc_hist_{}_2.pdf\".format(i+2))\n",
    "   # plt.clf()\n",
    "  #  plt.show()\n"
   ]
  },
  {
   "cell_type": "code",
   "execution_count": null,
   "id": "secret-separate",
   "metadata": {},
   "outputs": [],
   "source": [
    "def getMeansPlot(data):\n",
    "    k = 1\n",
    "    colors = [\"red\",\"blue\",\"green\",\"lawngreen\",\"sienna\",\"gold\",\"black\",\"maroon\",\"olive\",\"cyan\",\"fuchsia\"]\n",
    "    for i in data:\n",
    "        plt.plot(i[0],label=\"{}\".format(k),color=colors[k-1])\n",
    "        k+=1\n",
    "        plt.legend()\n",
    "        plt.ylabel(\"Means of TDC\")\n",
    "        plt.xlabel(\"Y coordinate\")\n",
    "    plt.show()\n",
    "    \n",
    "def getStdPlot(data):\n",
    "    k = 1\n",
    "    colors = [\"red\",\"blue\",\"green\",\"lawngreen\",\"sienna\",\"gold\",\"black\",\"maroon\",\"olive\",\"cyan\",\"fuchsia\"]\n",
    "    for i in data:\n",
    "        plt.plot(i[1],label=\"{}\".format(k),color=colors[k-1])\n",
    "        k+=1\n",
    "        plt.legend()\n",
    "        plt.ylabel(\"Std of TDC\")\n",
    "        plt.xlabel(\"Y coordinate\")\n",
    "    plt.show()\n"
   ]
  },
  {
   "cell_type": "code",
   "execution_count": null,
   "id": "rural-membership",
   "metadata": {
    "cell_style": "split"
   },
   "outputs": [],
   "source": [
    "from scipy import stats\n",
    "\n",
    "def getSlope(data):\n",
    "    k = 1\n",
    "    slopes = []\n",
    "    coorel = []\n",
    "    pvals = []\n",
    "    y_coord = [(i+1)*5 for i in range(11)]\n",
    "    colors = [\"red\",\"blue\",\"green\",\"lawngreen\",\"sienna\",\"gold\",\"black\",\"maroon\",\"olive\",\"cyan\",\"fuchsia\"]\n",
    "    for i in data:\n",
    "        slope, intercept, r_value, p_value, std_err = stats.linregress(y_coord,-np.array(i[0]))\n",
    "        plt.plot(y_coord, -np.array(i[0]),label=\"{}\".format(k),color=colors[k-1])\n",
    "        plt.plot(y_coord,slope*np.array(y_coord)+intercept,'--k',alpha=0.5)\n",
    "        k+=1\n",
    "        slopes.append(slope)\n",
    "        coorel.append(r_value)\n",
    "        pvals.append(p_value)\n",
    "        plt.legend( bbox_to_anchor=(1.05, 1), loc='upper left')\n",
    "        plt.title(\"Linear Fit of TDC Means\",fontsize=15)\n",
    "        plt.ylabel(\"Means of TDC\")\n",
    "        plt.xlabel(\"Y (cm)\")\n",
    "    plt.show()\n",
    "    return slopes, coorel\n",
    "    \n",
    "slopes, correl = getSlope(info_tdc)"
   ]
  },
  {
   "cell_type": "code",
   "execution_count": null,
   "id": "identified-supplement",
   "metadata": {
    "cell_style": "split"
   },
   "outputs": [],
   "source": [
    "getStdPlot(info_tdc)"
   ]
  },
  {
   "cell_type": "code",
   "execution_count": null,
   "id": "absolute-tuesday",
   "metadata": {
    "cell_style": "split"
   },
   "outputs": [],
   "source": [
    "plt.plot([i+1 for i in range(10)], slopes)\n",
    "plt.ylabel(\"Slope (TDC/cm)\")\n",
    "plt.xlabel(\"X Coordinate\")\n",
    "plt.grid()\n",
    "plt.show()"
   ]
  },
  {
   "cell_type": "code",
   "execution_count": null,
   "id": "extended-evidence",
   "metadata": {
    "scrolled": true
   },
   "outputs": [],
   "source": [
    "plt.plot([i+1 for i in range(10)], correl)\n",
    "plt.ylabel(\"R-Value\")\n",
    "plt.xlabel(\"X Coordinate\")\n",
    "plt.grid()\n",
    "plt.show()"
   ]
  },
  {
   "cell_type": "markdown",
   "id": "least-david",
   "metadata": {},
   "source": [
    "## Looking at Trigger Distributions for each Grid\n",
    "\n",
    "Look at how the trigger data changes for each $(x,y)$ cell and test if the equation holds.\n",
    "\n",
    "Need help: trigger eqn? (bottom - top)?"
   ]
  },
  {
   "cell_type": "markdown",
   "id": "dominant-windsor",
   "metadata": {},
   "source": [
    "# Fixing Y-Coordinate and Changing X"
   ]
  },
  {
   "cell_type": "code",
   "execution_count": null,
   "id": "supposed-reward",
   "metadata": {},
   "outputs": [],
   "source": [
    "mdfo_calib.reload()\n",
    "mdfo_calib.keep4by4Events()\n",
    "\n",
    "data = mdfo_calib.get(\"diffL2\")\n",
    "bandwidth = 0.009\n",
    "\n",
    "density1 = gaussian_kde(data, bw_method=bandwidth)\n",
    "xs = np.linspace(-75,75,150)\n",
    "\n",
    "t = xs\n",
    "curve1 = density1(xs)\n",
    "curve2 = len(curve1) * [0.002]\n",
    "\n",
    "vals = getIntersections(t, curve1, curve2)"
   ]
  },
  {
   "cell_type": "code",
   "execution_count": null,
   "id": "expired-guard",
   "metadata": {},
   "outputs": [],
   "source": [
    "L1 = np.reshape(vals,[11,2])\n",
    "L1"
   ]
  },
  {
   "cell_type": "code",
   "execution_count": null,
   "id": "coordinated-transmission",
   "metadata": {},
   "outputs": [],
   "source": [
    "i = 1\n",
    "TDCS_L1 = []\n",
    "\n",
    "for peak in L1:\n",
    "    if i != 1: #not using the first peak as analysis already done in Section 1\n",
    "    # isolate the peaks\n",
    "        mdfo_calib.reload()\n",
    "        mdfo_calib.keep4by4Events()\n",
    "        mdfo_calib.keepEvents(\"diffL1\",peak[1],\"<=\")\n",
    "        mdfo_calib.keepEvents(\"diffL1\",peak[0],\">=\")\n",
    "    # generate the L2 peaks\n",
    "        L2 = getIndividualPeaks(mdfo_calib, \"diffL2\",thresh=0.002,bw=0.03,doPlot=True)\n",
    "        for each_peak in L2:\n",
    "            mdfo_calib.reload()\n",
    "            mdfo_calib.keep4by4Events()\n",
    "            mdfo_calib.keepEvents(\"diffL1\",peak[1],\"<=\")\n",
    "            mdfo_calib.keepEvents(\"diffL1\",peak[0],\">=\")\n",
    "            \n",
    "            mdfo_calib.keepEvents(\"diffL2\",each_peak[1],\"<=\")\n",
    "            mdfo_calib.keepEvents(\"diffL2\",each_peak[0],\">=\")\n",
    "            # store the tdcs\n",
    "            TDCS_L1.append(mdfo_calib.get(\"L1\"))\n",
    "           # mdfo_calib.getHistogram(\"L1\",range=(0,200))            \n",
    "         #   mdfo_calib.getHistogram(\"diffL2\",range=(-75,75),nbins=50)\n",
    "    i+=1"
   ]
  },
  {
   "cell_type": "code",
   "execution_count": null,
   "id": "wound-healthcare",
   "metadata": {},
   "outputs": [],
   "source": [
    "TDCS_L1 = np.reshape(TDCS_L1,[10,11])\n",
    "TDCS_L1"
   ]
  },
  {
   "cell_type": "code",
   "execution_count": null,
   "id": "emotional-botswana",
   "metadata": {},
   "outputs": [],
   "source": [
    "import seaborn as sns\n",
    "\n",
    "sns.color_palette(\"Spectral\")\n",
    "bins = 50\n",
    "\n",
    "colors = [\"red\",\"blue\",\"green\",\"lawngreen\",\"sienna\",\"gold\",\"black\",\"maroon\",\"olive\",\"cyan\",\"fuchsia\"]\n",
    "\n",
    "info_tdc = []\n",
    "\n",
    "for i, tdc_hists in enumerate(TDCS_L1):\n",
    "    #TDCMean(i, tdc_hists,name=\"l2\")\n",
    "    info_tdc.append(getTDCInfo(i, tdc_hists))\n",
    "\n",
    "    \"\"\"\n",
    "    for j,tdc_hist in enumerate(tdc_hists):\n",
    "        TDCHisto(i,j,tdc_hist,bins,range,colors)\n",
    "    plt.savefig(\"tdc_hist_{}_l2.pdf\".format(i+2))\n",
    "    plt.clf()\n",
    "    plt.show()\n",
    "    \"\"\"    "
   ]
  },
  {
   "cell_type": "code",
   "execution_count": null,
   "id": "electrical-friendly",
   "metadata": {},
   "outputs": [],
   "source": [
    "from scipy import stats\n",
    "\n",
    "def getSlope(data):\n",
    "    k = 1\n",
    "    slopes = []\n",
    "    coorel = []\n",
    "    pvals = []\n",
    "    y_coord = [(i+1)*5 for i in range(11)]\n",
    "    colors = [\"red\",\"blue\",\"green\",\"lawngreen\",\"sienna\",\"gold\",\"black\",\"maroon\",\"olive\",\"cyan\",\"fuchsia\"]\n",
    "    for i in data:\n",
    "        slope, intercept, r_value, p_value, std_err = stats.linregress(y_coord,-np.array(i[0]))\n",
    "        plt.plot(y_coord, -np.array(i[0]),label=\"{}\".format(k),color=colors[k-1])\n",
    "        plt.plot(y_coord,slope*np.array(y_coord)+intercept,'--k',alpha=0.5)\n",
    "        k+=1\n",
    "        slopes.append(slope)\n",
    "        coorel.append(r_value)\n",
    "        pvals.append(p_value)\n",
    "        plt.legend( bbox_to_anchor=(1.05, 1), loc='upper left')\n",
    "        plt.title(\"Linear Fit of TDC Means\",fontsize=15)\n",
    "        plt.ylabel(\"Means of TDC\")\n",
    "        plt.xlabel(\"X (cm)\")\n",
    "    plt.show()\n",
    "    return slopes, coorel\n",
    "    \n",
    "slopes, correl = getSlope(info_tdc)"
   ]
  },
  {
   "cell_type": "code",
   "execution_count": null,
   "id": "extensive-preliminary",
   "metadata": {
    "cell_style": "split"
   },
   "outputs": [],
   "source": [
    "plt.plot([i+1 for i in range(11)], slopesY)\n",
    "plt.ylabel(\"Slope (linear fit)\")\n",
    "plt.xlabel(\"X Coordinate\")\n",
    "plt.grid()\n",
    "plt.show()"
   ]
  },
  {
   "cell_type": "code",
   "execution_count": null,
   "id": "hungarian-person",
   "metadata": {
    "cell_style": "split"
   },
   "outputs": [],
   "source": [
    "plt.plot([i+1 for i in range(11)], correlY)\n",
    "plt.ylabel(\"Correlation (linear fit)\")\n",
    "plt.xlabel(\"X Coordinate\")\n",
    "plt.title(\"R - Value\")\n",
    "plt.grid()\n",
    "plt.show()"
   ]
  },
  {
   "cell_type": "code",
   "execution_count": null,
   "id": "continental-peninsula",
   "metadata": {},
   "outputs": [],
   "source": []
  }
 ],
 "metadata": {
  "hide_input": false,
  "kernelspec": {
   "display_name": "Python 3",
   "language": "python",
   "name": "python3"
  },
  "language_info": {
   "codemirror_mode": {
    "name": "ipython",
    "version": 3
   },
   "file_extension": ".py",
   "mimetype": "text/x-python",
   "name": "python",
   "nbconvert_exporter": "python",
   "pygments_lexer": "ipython3",
   "version": "3.7.5"
  },
  "toc": {
   "base_numbering": 1,
   "nav_menu": {},
   "number_sections": true,
   "sideBar": true,
   "skip_h1_title": false,
   "title_cell": "Table of Contents",
   "title_sidebar": "Contents",
   "toc_cell": false,
   "toc_position": {},
   "toc_section_display": true,
   "toc_window_display": false
  },
  "varInspector": {
   "cols": {
    "lenName": 16,
    "lenType": 16,
    "lenVar": 40
   },
   "kernels_config": {
    "python": {
     "delete_cmd_postfix": "",
     "delete_cmd_prefix": "del ",
     "library": "var_list.py",
     "varRefreshCmd": "print(var_dic_list())"
    },
    "r": {
     "delete_cmd_postfix": ") ",
     "delete_cmd_prefix": "rm(",
     "library": "var_list.r",
     "varRefreshCmd": "cat(var_dic_list()) "
    }
   },
   "types_to_exclude": [
    "module",
    "function",
    "builtin_function_or_method",
    "instance",
    "_Feature"
   ],
   "window_display": false
  }
 },
 "nbformat": 4,
 "nbformat_minor": 5
}
