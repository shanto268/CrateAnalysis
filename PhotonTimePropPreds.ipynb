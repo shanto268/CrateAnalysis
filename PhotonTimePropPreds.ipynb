{
 "cells": [
  {
   "cell_type": "code",
   "execution_count": 1,
   "id": "c99a5a22",
   "metadata": {},
   "outputs": [],
   "source": [
    "import matplotlib\n",
    "import matplotlib.pyplot as plt\n",
    "from matplotlib.backends.backend_pdf import PdfPages\n",
    "from sklearn.linear_model import LinearRegression\n",
    "from sklearn import linear_model"
   ]
  },
  {
   "cell_type": "code",
   "execution_count": 2,
   "id": "5fccbdb9",
   "metadata": {},
   "outputs": [
    {
     "data": {
      "text/html": [
       "<div>\n",
       "<style scoped>\n",
       "    .dataframe tbody tr th:only-of-type {\n",
       "        vertical-align: middle;\n",
       "    }\n",
       "\n",
       "    .dataframe tbody tr th {\n",
       "        vertical-align: top;\n",
       "    }\n",
       "\n",
       "    .dataframe thead th {\n",
       "        text-align: right;\n",
       "    }\n",
       "</style>\n",
       "<table border=\"1\" class=\"dataframe\">\n",
       "  <thead>\n",
       "    <tr style=\"text-align: right;\">\n",
       "      <th></th>\n",
       "      <th>Unnamed: 0</th>\n",
       "      <th>index</th>\n",
       "      <th>event_num</th>\n",
       "      <th>event_time</th>\n",
       "      <th>deadtime</th>\n",
       "      <th>l1hit</th>\n",
       "      <th>l2hit</th>\n",
       "      <th>l3hit</th>\n",
       "      <th>l4hit</th>\n",
       "      <th>r1hit</th>\n",
       "      <th>...</th>\n",
       "      <th>z_angle</th>\n",
       "      <th>SmallCounter</th>\n",
       "      <th>speed</th>\n",
       "      <th>Run_Num</th>\n",
       "      <th>xx</th>\n",
       "      <th>yy</th>\n",
       "      <th>xx1</th>\n",
       "      <th>yy1</th>\n",
       "      <th>time_of_day</th>\n",
       "      <th>time</th>\n",
       "    </tr>\n",
       "  </thead>\n",
       "  <tbody>\n",
       "    <tr>\n",
       "      <th>0</th>\n",
       "      <td>0</td>\n",
       "      <td>0</td>\n",
       "      <td>0</td>\n",
       "      <td>2021-05-03 12:40:15.812760</td>\n",
       "      <td>0</td>\n",
       "      <td>1.0</td>\n",
       "      <td>1.0</td>\n",
       "      <td>1.0</td>\n",
       "      <td>1.0</td>\n",
       "      <td>1.0</td>\n",
       "      <td>...</td>\n",
       "      <td>13.455446</td>\n",
       "      <td>NaN</td>\n",
       "      <td>0.342978</td>\n",
       "      <td>622</td>\n",
       "      <td>-5.445887</td>\n",
       "      <td>-22.562492</td>\n",
       "      <td>-6.807692</td>\n",
       "      <td>-22.684615</td>\n",
       "      <td>day</td>\n",
       "      <td>0</td>\n",
       "    </tr>\n",
       "    <tr>\n",
       "      <th>1</th>\n",
       "      <td>1</td>\n",
       "      <td>1</td>\n",
       "      <td>1</td>\n",
       "      <td>2021-05-03 12:40:16.502963</td>\n",
       "      <td>0</td>\n",
       "      <td>1.0</td>\n",
       "      <td>1.0</td>\n",
       "      <td>1.0</td>\n",
       "      <td>1.0</td>\n",
       "      <td>1.0</td>\n",
       "      <td>...</td>\n",
       "      <td>12.002813</td>\n",
       "      <td>NaN</td>\n",
       "      <td>0.703353</td>\n",
       "      <td>622</td>\n",
       "      <td>-11.762760</td>\n",
       "      <td>-21.506829</td>\n",
       "      <td>-11.538462</td>\n",
       "      <td>-21.784615</td>\n",
       "      <td>day</td>\n",
       "      <td>690203</td>\n",
       "    </tr>\n",
       "    <tr>\n",
       "      <th>2</th>\n",
       "      <td>2</td>\n",
       "      <td>2</td>\n",
       "      <td>2</td>\n",
       "      <td>2021-05-03 12:40:16.672924</td>\n",
       "      <td>0</td>\n",
       "      <td>1.0</td>\n",
       "      <td>1.0</td>\n",
       "      <td>1.0</td>\n",
       "      <td>1.0</td>\n",
       "      <td>1.0</td>\n",
       "      <td>...</td>\n",
       "      <td>14.672630</td>\n",
       "      <td>NaN</td>\n",
       "      <td>0.210716</td>\n",
       "      <td>622</td>\n",
       "      <td>35.347122</td>\n",
       "      <td>13.620282</td>\n",
       "      <td>36.676923</td>\n",
       "      <td>14.884615</td>\n",
       "      <td>day</td>\n",
       "      <td>860164</td>\n",
       "    </tr>\n",
       "    <tr>\n",
       "      <th>3</th>\n",
       "      <td>3</td>\n",
       "      <td>3</td>\n",
       "      <td>3</td>\n",
       "      <td>2021-05-03 12:40:16.892987</td>\n",
       "      <td>0</td>\n",
       "      <td>1.0</td>\n",
       "      <td>1.0</td>\n",
       "      <td>1.0</td>\n",
       "      <td>1.0</td>\n",
       "      <td>1.0</td>\n",
       "      <td>...</td>\n",
       "      <td>15.284964</td>\n",
       "      <td>NaN</td>\n",
       "      <td>0.259347</td>\n",
       "      <td>622</td>\n",
       "      <td>24.903617</td>\n",
       "      <td>25.826667</td>\n",
       "      <td>27.746154</td>\n",
       "      <td>29.153846</td>\n",
       "      <td>day</td>\n",
       "      <td>1080227</td>\n",
       "    </tr>\n",
       "    <tr>\n",
       "      <th>4</th>\n",
       "      <td>4</td>\n",
       "      <td>4</td>\n",
       "      <td>4</td>\n",
       "      <td>2021-05-03 12:40:17.563102</td>\n",
       "      <td>0</td>\n",
       "      <td>1.0</td>\n",
       "      <td>1.0</td>\n",
       "      <td>1.0</td>\n",
       "      <td>1.0</td>\n",
       "      <td>1.0</td>\n",
       "      <td>...</td>\n",
       "      <td>4.253100</td>\n",
       "      <td>NaN</td>\n",
       "      <td>11.038012</td>\n",
       "      <td>622</td>\n",
       "      <td>6.978340</td>\n",
       "      <td>14.482143</td>\n",
       "      <td>7.676923</td>\n",
       "      <td>15.230769</td>\n",
       "      <td>day</td>\n",
       "      <td>1750342</td>\n",
       "    </tr>\n",
       "    <tr>\n",
       "      <th>...</th>\n",
       "      <td>...</td>\n",
       "      <td>...</td>\n",
       "      <td>...</td>\n",
       "      <td>...</td>\n",
       "      <td>...</td>\n",
       "      <td>...</td>\n",
       "      <td>...</td>\n",
       "      <td>...</td>\n",
       "      <td>...</td>\n",
       "      <td>...</td>\n",
       "      <td>...</td>\n",
       "      <td>...</td>\n",
       "      <td>...</td>\n",
       "      <td>...</td>\n",
       "      <td>...</td>\n",
       "      <td>...</td>\n",
       "      <td>...</td>\n",
       "      <td>...</td>\n",
       "      <td>...</td>\n",
       "      <td>...</td>\n",
       "      <td>...</td>\n",
       "    </tr>\n",
       "    <tr>\n",
       "      <th>2999995</th>\n",
       "      <td>2999995</td>\n",
       "      <td>99995</td>\n",
       "      <td>2999995</td>\n",
       "      <td>2021-05-20 13:18:30.375574</td>\n",
       "      <td>0</td>\n",
       "      <td>0.0</td>\n",
       "      <td>0.0</td>\n",
       "      <td>1.0</td>\n",
       "      <td>1.0</td>\n",
       "      <td>0.0</td>\n",
       "      <td>...</td>\n",
       "      <td>NaN</td>\n",
       "      <td>NaN</td>\n",
       "      <td>NaN</td>\n",
       "      <td>656</td>\n",
       "      <td>NaN</td>\n",
       "      <td>NaN</td>\n",
       "      <td>NaN</td>\n",
       "      <td>NaN</td>\n",
       "      <td>day</td>\n",
       "      <td>1077345562814</td>\n",
       "    </tr>\n",
       "    <tr>\n",
       "      <th>2999996</th>\n",
       "      <td>2999996</td>\n",
       "      <td>99996</td>\n",
       "      <td>2999996</td>\n",
       "      <td>2021-05-20 13:18:30.965416</td>\n",
       "      <td>0</td>\n",
       "      <td>1.0</td>\n",
       "      <td>1.0</td>\n",
       "      <td>1.0</td>\n",
       "      <td>1.0</td>\n",
       "      <td>1.0</td>\n",
       "      <td>...</td>\n",
       "      <td>6.035804</td>\n",
       "      <td>NaN</td>\n",
       "      <td>0.442759</td>\n",
       "      <td>656</td>\n",
       "      <td>12.892377</td>\n",
       "      <td>-12.244589</td>\n",
       "      <td>13.269231</td>\n",
       "      <td>-13.276923</td>\n",
       "      <td>day</td>\n",
       "      <td>1077346152656</td>\n",
       "    </tr>\n",
       "    <tr>\n",
       "      <th>2999997</th>\n",
       "      <td>2999997</td>\n",
       "      <td>99997</td>\n",
       "      <td>2999997</td>\n",
       "      <td>2021-05-20 13:18:31.405694</td>\n",
       "      <td>0</td>\n",
       "      <td>1.0</td>\n",
       "      <td>0.0</td>\n",
       "      <td>1.0</td>\n",
       "      <td>1.0</td>\n",
       "      <td>1.0</td>\n",
       "      <td>...</td>\n",
       "      <td>NaN</td>\n",
       "      <td>NaN</td>\n",
       "      <td>NaN</td>\n",
       "      <td>656</td>\n",
       "      <td>-25.480419</td>\n",
       "      <td>NaN</td>\n",
       "      <td>-27.830769</td>\n",
       "      <td>NaN</td>\n",
       "      <td>day</td>\n",
       "      <td>1077346592934</td>\n",
       "    </tr>\n",
       "    <tr>\n",
       "      <th>2999998</th>\n",
       "      <td>2999998</td>\n",
       "      <td>99998</td>\n",
       "      <td>2999998</td>\n",
       "      <td>2021-05-20 13:18:31.725719</td>\n",
       "      <td>0</td>\n",
       "      <td>1.0</td>\n",
       "      <td>1.0</td>\n",
       "      <td>0.0</td>\n",
       "      <td>0.0</td>\n",
       "      <td>1.0</td>\n",
       "      <td>...</td>\n",
       "      <td>NaN</td>\n",
       "      <td>NaN</td>\n",
       "      <td>NaN</td>\n",
       "      <td>656</td>\n",
       "      <td>NaN</td>\n",
       "      <td>NaN</td>\n",
       "      <td>NaN</td>\n",
       "      <td>NaN</td>\n",
       "      <td>day</td>\n",
       "      <td>1077346912959</td>\n",
       "    </tr>\n",
       "    <tr>\n",
       "      <th>2999999</th>\n",
       "      <td>2999999</td>\n",
       "      <td>99999</td>\n",
       "      <td>2999999</td>\n",
       "      <td>2021-05-20 13:18:32.575704</td>\n",
       "      <td>0</td>\n",
       "      <td>1.0</td>\n",
       "      <td>1.0</td>\n",
       "      <td>1.0</td>\n",
       "      <td>1.0</td>\n",
       "      <td>1.0</td>\n",
       "      <td>...</td>\n",
       "      <td>16.831888</td>\n",
       "      <td>NaN</td>\n",
       "      <td>0.294880</td>\n",
       "      <td>656</td>\n",
       "      <td>-30.771501</td>\n",
       "      <td>25.534568</td>\n",
       "      <td>-31.607692</td>\n",
       "      <td>26.453846</td>\n",
       "      <td>day</td>\n",
       "      <td>1077347762944</td>\n",
       "    </tr>\n",
       "  </tbody>\n",
       "</table>\n",
       "<p>3000000 rows × 74 columns</p>\n",
       "</div>"
      ],
      "text/plain": [
       "         Unnamed: 0  index  event_num                  event_time  deadtime  \\\n",
       "0                 0      0          0  2021-05-03 12:40:15.812760         0   \n",
       "1                 1      1          1  2021-05-03 12:40:16.502963         0   \n",
       "2                 2      2          2  2021-05-03 12:40:16.672924         0   \n",
       "3                 3      3          3  2021-05-03 12:40:16.892987         0   \n",
       "4                 4      4          4  2021-05-03 12:40:17.563102         0   \n",
       "...             ...    ...        ...                         ...       ...   \n",
       "2999995     2999995  99995    2999995  2021-05-20 13:18:30.375574         0   \n",
       "2999996     2999996  99996    2999996  2021-05-20 13:18:30.965416         0   \n",
       "2999997     2999997  99997    2999997  2021-05-20 13:18:31.405694         0   \n",
       "2999998     2999998  99998    2999998  2021-05-20 13:18:31.725719         0   \n",
       "2999999     2999999  99999    2999999  2021-05-20 13:18:32.575704         0   \n",
       "\n",
       "         l1hit  l2hit  l3hit  l4hit  r1hit  ...    z_angle  SmallCounter  \\\n",
       "0          1.0    1.0    1.0    1.0    1.0  ...  13.455446           NaN   \n",
       "1          1.0    1.0    1.0    1.0    1.0  ...  12.002813           NaN   \n",
       "2          1.0    1.0    1.0    1.0    1.0  ...  14.672630           NaN   \n",
       "3          1.0    1.0    1.0    1.0    1.0  ...  15.284964           NaN   \n",
       "4          1.0    1.0    1.0    1.0    1.0  ...   4.253100           NaN   \n",
       "...        ...    ...    ...    ...    ...  ...        ...           ...   \n",
       "2999995    0.0    0.0    1.0    1.0    0.0  ...        NaN           NaN   \n",
       "2999996    1.0    1.0    1.0    1.0    1.0  ...   6.035804           NaN   \n",
       "2999997    1.0    0.0    1.0    1.0    1.0  ...        NaN           NaN   \n",
       "2999998    1.0    1.0    0.0    0.0    1.0  ...        NaN           NaN   \n",
       "2999999    1.0    1.0    1.0    1.0    1.0  ...  16.831888           NaN   \n",
       "\n",
       "             speed  Run_Num         xx         yy        xx1        yy1  \\\n",
       "0         0.342978      622  -5.445887 -22.562492  -6.807692 -22.684615   \n",
       "1         0.703353      622 -11.762760 -21.506829 -11.538462 -21.784615   \n",
       "2         0.210716      622  35.347122  13.620282  36.676923  14.884615   \n",
       "3         0.259347      622  24.903617  25.826667  27.746154  29.153846   \n",
       "4        11.038012      622   6.978340  14.482143   7.676923  15.230769   \n",
       "...            ...      ...        ...        ...        ...        ...   \n",
       "2999995        NaN      656        NaN        NaN        NaN        NaN   \n",
       "2999996   0.442759      656  12.892377 -12.244589  13.269231 -13.276923   \n",
       "2999997        NaN      656 -25.480419        NaN -27.830769        NaN   \n",
       "2999998        NaN      656        NaN        NaN        NaN        NaN   \n",
       "2999999   0.294880      656 -30.771501  25.534568 -31.607692  26.453846   \n",
       "\n",
       "         time_of_day           time  \n",
       "0                day              0  \n",
       "1                day         690203  \n",
       "2                day         860164  \n",
       "3                day        1080227  \n",
       "4                day        1750342  \n",
       "...              ...            ...  \n",
       "2999995          day  1077345562814  \n",
       "2999996          day  1077346152656  \n",
       "2999997          day  1077346592934  \n",
       "2999998          day  1077346912959  \n",
       "2999999          day  1077347762944  \n",
       "\n",
       "[3000000 rows x 74 columns]"
      ]
     },
     "execution_count": 2,
     "metadata": {},
     "output_type": "execute_result"
    }
   ],
   "source": [
    "from MuDataFrame import *\n",
    "import numpy as np\n",
    "from scipy import stats\n",
    "\n",
    "mdfo_calib = MuDataFrame(\"/Volumes/DAQ/PhotonTimeProp/dataFiles/calibration_new_set_up.csv\")\n",
    "\n",
    "mdf_calib = mdfo_calib.events_df\n",
    "\n",
    "mdfo_calib.og_df = mdf_calib.copy()\n",
    "mdfo_calib.show()"
   ]
  },
  {
   "cell_type": "markdown",
   "id": "12d4e900",
   "metadata": {},
   "source": [
    "# Getting peak coords"
   ]
  },
  {
   "cell_type": "code",
   "execution_count": 3,
   "id": "e905af7f",
   "metadata": {},
   "outputs": [],
   "source": [
    "def getIntersections(t, curve1, curve2, doPlot=True):\n",
    "    intersections = []\n",
    "    xvals = []\n",
    "    prev_dif = 0\n",
    "    t0, prev_c1, prev_c2 = None, None, None\n",
    "    for t1, c1, c2 in zip(t, curve1, curve2):\n",
    "        new_dif = c2 - c1\n",
    "        if np.abs(new_dif) < 1e-12:  # found an exact zero, this is very unprobable\n",
    "            intersections.append((t1, c1))\n",
    "        elif new_dif * prev_dif < 0:\n",
    "            denom = prev_dif - new_dif\n",
    "            xvals.append((-new_dif * t0 + prev_dif * t1) / denom)\n",
    "            intersections.append(((-new_dif * t0 + prev_dif * t1) / denom,\n",
    "                                  (c1 * prev_c2 - c2 * prev_c1) / denom))\n",
    "        t0, prev_c1, prev_c2, prev_dif = t1, c1, c2, new_dif\n",
    "\n",
    "    if doPlot:\n",
    "        fig, ax = plt.subplots()\n",
    "        ax.plot(t, curve1, 'b-')\n",
    "        ax.plot(t, curve2, 'r-')\n",
    "        ax.plot(*zip(*intersections), 'kx', ms=5)\n",
    "        plt.show()\n",
    "    \n",
    "    diffs = np.diff(xvals)\n",
    "    return xvals"
   ]
  },
  {
   "cell_type": "code",
   "execution_count": 4,
   "id": "be90e6d3",
   "metadata": {},
   "outputs": [
    {
     "data": {
      "image/png": "[encoded data removed]",
      "text/plain": [
       "<Figure size 432x288 with 1 Axes>"
      ]
     },
     "metadata": {
      "needs_background": "light"
     },
     "output_type": "display_data"
    }
   ],
   "source": [
    "from scipy.stats import gaussian_kde\n",
    "mdfo_calib.reload()\n",
    "mdfo_calib.keep4by4Events()\n",
    "data = mdfo_calib.get(\"diffL1\")\n",
    "bandwidth = 0.02\n",
    "density1 = gaussian_kde(data, bw_method=bandwidth)\n",
    "xs = np.linspace(-75,75,150)\n",
    "t = xs\n",
    "curve1 = density1(xs)\n",
    "curve2 = len(curve1) * [0.00135]\n",
    "vals = getIntersections(t, curve1, curve2)\n",
    "L1 = np.reshape(vals,[11,2])\n",
    "L1 = np.flip(L1,0)"
   ]
  },
  {
   "cell_type": "code",
   "execution_count": 5,
   "id": "75642045",
   "metadata": {},
   "outputs": [
    {
     "data": {
      "image/png": "[encoded data removed]",
      "text/plain": [
       "<Figure size 432x288 with 1 Axes>"
      ]
     },
     "metadata": {
      "needs_background": "light"
     },
     "output_type": "display_data"
    }
   ],
   "source": [
    "mdfo_calib.reload()\n",
    "mdfo_calib.keep4by4Events()\n",
    "data2 = mdfo_calib.get(\"diffL2\")\n",
    "bandwidth = 0.02\n",
    "density2 = gaussian_kde(data2, bw_method=bandwidth)\n",
    "xs = np.linspace(-75,75,150)\n",
    "t = xs\n",
    "curve1 = density2(xs)\n",
    "curve2 = len(curve1) * [0.0015]\n",
    "vals2 = getIntersections(t, curve1, curve2)\n",
    "L2 = np.reshape(vals2,[11,2])\n",
    "L2 = np.flip(L2,0)"
   ]
  },
  {
   "cell_type": "code",
   "execution_count": 6,
   "id": "c352f978",
   "metadata": {},
   "outputs": [
    {
     "data": {
      "image/png": "[encoded data removed]",
      "text/plain": [
       "<Figure size 432x288 with 1 Axes>"
      ]
     },
     "metadata": {
      "needs_background": "light"
     },
     "output_type": "display_data"
    }
   ],
   "source": [
    "mdfo_calib.reload()\n",
    "mdfo_calib.keep4by4Events()\n",
    "data3 = mdfo_calib.get(\"diffL3\")\n",
    "bandwidth = 0.025\n",
    "density3 = gaussian_kde(data3, bw_method=bandwidth)\n",
    "xs = np.linspace(-75,75,150)\n",
    "t = xs\n",
    "curve1 = density3(xs)\n",
    "curve2 = len(curve1) * [0.0017]\n",
    "vals3 = getIntersections(t, curve1, curve2)\n",
    "L3 = np.reshape(vals3,[11,2])\n",
    "L3 = np.flip(L3,0)"
   ]
  },
  {
   "cell_type": "code",
   "execution_count": 7,
   "id": "6e991fbd",
   "metadata": {},
   "outputs": [
    {
     "data": {
      "image/png": "[encoded data removed]",
      "text/plain": [
       "<Figure size 432x288 with 1 Axes>"
      ]
     },
     "metadata": {
      "needs_background": "light"
     },
     "output_type": "display_data"
    }
   ],
   "source": [
    "mdfo_calib.reload()\n",
    "mdfo_calib.keep4by4Events()\n",
    "data4 = mdfo_calib.get(\"diffL4\")\n",
    "bandwidth = 0.03\n",
    "density4 = gaussian_kde(data4, bw_method=bandwidth)\n",
    "xs = np.linspace(-75,75,150)\n",
    "t = xs\n",
    "curve1 = density4(xs)\n",
    "curve2 = len(curve1) * [0.0016]\n",
    "vals4 = getIntersections(t, curve1, curve2)\n",
    "L4 = np.reshape(vals4,[11,2])\n",
    "\n",
    "L4 = np.flip(L4,0)"
   ]
  },
  {
   "cell_type": "markdown",
   "id": "2a272a86",
   "metadata": {},
   "source": [
    "# Predictions"
   ]
  },
  {
   "cell_type": "code",
   "execution_count": 31,
   "id": "2479630f",
   "metadata": {},
   "outputs": [
    {
     "data": {
      "image/png": "[encoded data removed]",
      "text/plain": [
       "<Figure size 432x288 with 1 Axes>"
      ]
     },
     "metadata": {
      "needs_background": "light"
     },
     "output_type": "display_data"
    },
    {
     "data": {
      "image/png": "[encoded data removed]",
      "text/plain": [
       "<Figure size 432x288 with 1 Axes>"
      ]
     },
     "metadata": {
      "needs_background": "light"
     },
     "output_type": "display_data"
    }
   ],
   "source": [
    "#pp = PdfPages('multipage.pdf')\n",
    "#pp.savefig()\n",
    "#pp.close()\n",
    "\n",
    "bins = np.arange(0,200)\n",
    "s = stats.describe(TDCS_L1[0])\n",
    "plt.hist(TDCS_L1[0], bins=bins)\n",
    "graphStats = \"Mean = {}   Std = {}\".format(round(s[2],2), round(np.sqrt(s[3]),2))\n",
    "plt.title(graphStats)\n",
    "plt.suptitle(\"Layer 1 Ch1: Layer 2 Ch 1\")\n",
    "plt.show()\n",
    "\n",
    "\n",
    "t = stats.describe(TDCS_L3[0])\n",
    "plt.hist(TDCS_L1[0], bins= bins)\n",
    "graphStats = \"Mean = {}   Std = {}\".format(round(t[2],2), round(np.sqrt(t[3]),2))\n",
    "plt.title(graphStats)\n",
    "plt.suptitle(\"Layer 3 Ch1: Layer 4 Ch 1\")\n",
    "plt.show()"
   ]
  },
  {
   "cell_type": "code",
   "execution_count": 32,
   "id": "eceefaae",
   "metadata": {},
   "outputs": [
    {
     "data": {
      "text/plain": [
       "131.21247089786416"
      ]
     },
     "execution_count": 32,
     "metadata": {},
     "output_type": "execute_result"
    }
   ],
   "source": [
    "t[2]"
   ]
  },
  {
   "cell_type": "code",
   "execution_count": 35,
   "id": "5383d319",
   "metadata": {},
   "outputs": [
    {
     "data": {
      "text/plain": [
       "121"
      ]
     },
     "execution_count": 35,
     "metadata": {},
     "output_type": "execute_result"
    }
   ],
   "source": [
    "len(L3mean)"
   ]
  },
  {
   "cell_type": "code",
   "execution_count": 36,
   "id": "562ba910",
   "metadata": {},
   "outputs": [
    {
     "data": {
      "image/png": "[encoded data removed]",
      "text/plain": [
       "<Figure size 432x288 with 1 Axes>"
      ]
     },
     "metadata": {
      "needs_background": "light"
     },
     "output_type": "display_data"
    },
    {
     "data": {
      "image/png": "[encoded data removed]",
      "text/plain": [
       "<Figure size 432x288 with 1 Axes>"
      ]
     },
     "metadata": {
      "needs_background": "light"
     },
     "output_type": "display_data"
    }
   ],
   "source": [
    "fig = plt.figure()\n",
    "x = np.arange(11)\n",
    "y = L1mean[0:11]\n",
    "yerr = L1std[0:11]\n",
    "\n",
    "axes = plt.gca()\n",
    "axes.set_xlim([0,10.25])\n",
    "axes.set_ylim([100,200])\n",
    "\n",
    "plt.title(\"Distribution of L1 Ch1 onto L2\")\n",
    "plt.errorbar(x, y, xerr=0, yerr=yerr)\n",
    "plt.show()\n",
    "\n",
    "\n",
    "fig = plt.figure()\n",
    "y3 = L3mean[0:11]\n",
    "yerr3 = L3std[0:11]\n",
    "\n",
    "axes = plt.gca()\n",
    "axes.set_xlim([0,10.25])\n",
    "axes.set_ylim([100,200])\n",
    "\n",
    "plt.title(\"Distribution of L3 Ch1 onto L4\")\n",
    "plt.errorbar(x, y3, xerr=0, yerr=yerr3)\n",
    "plt.show()"
   ]
  },
  {
   "cell_type": "code",
   "execution_count": 50,
   "id": "6a050f0f",
   "metadata": {},
   "outputs": [],
   "source": []
  },
  {
   "cell_type": "code",
   "execution_count": 86,
   "id": "f7020a8a",
   "metadata": {},
   "outputs": [
    {
     "data": {
      "image/png": "[encoded data removed]",
      "text/plain": [
       "<Figure size 432x288 with 1 Axes>"
      ]
     },
     "metadata": {
      "needs_background": "light"
     },
     "output_type": "display_data"
    }
   ],
   "source": [
    "res = []\n",
    "for i in range(11):\n",
    "    res.append(abs(y[i]-y_pred[i]))\n",
    "\n",
    "fig = plt.figure()\n",
    "x = np.arange(11)\n",
    "y = L1mean[0:11]\n",
    "yerr = L1std[0:11]\n",
    "\n",
    "axes = plt.gca()\n",
    "axes.set_xlim([0,10.25])\n",
    "axes.set_ylim([125,150])\n",
    "\n",
    "plt.title(\"Distribution of L1 Ch1 onto L2\")\n",
    "plt.plot(x,y, label = \"actual\")\n",
    "#plt.plot(x, y_pred3, label = \"pred\")\n",
    "plt.errorbar(x, y_pred, xerr=0, yerr=res)\n",
    "plt.legend()\n",
    "plt.show()"
   ]
  },
  {
   "cell_type": "code",
   "execution_count": 141,
   "id": "ba178320",
   "metadata": {},
   "outputs": [
    {
     "data": {
      "text/plain": [
       "'\\nfig = plt.figure()\\nx = np.arange(11)\\ny = L3mean[0:11]\\nyerr3 = L3std[0:11]\\n\\naxes = plt.gca()\\naxes.set_xlim([0,10.25])\\naxes.set_ylim([125,150])\\n\\nplt.title(\"Distribution of L3 Ch1 onto L4\")\\nplt.plot(x,y3, label = \"actual\")\\n#plt.plot(x, y_pred3, label = \"pred\")\\nplt.errorbar(x, y_pred3, xerr=0, yerr=res3)\\nplt.legend()\\nplt.show()\\n'"
      ]
     },
     "execution_count": 141,
     "metadata": {},
     "output_type": "execute_result"
    }
   ],
   "source": [
    "\"\"\"\n",
    "fig = plt.figure()\n",
    "x = np.arange(11)\n",
    "y = L3mean[0:11]\n",
    "yerr3 = L3std[0:11]\n",
    "\n",
    "axes = plt.gca()\n",
    "axes.set_xlim([0,10.25])\n",
    "axes.set_ylim([125,150])\n",
    "\n",
    "plt.title(\"Distribution of L3 Ch1 onto L4\")\n",
    "plt.plot(x,y3, label = \"actual\")\n",
    "#plt.plot(x, y_pred3, label = \"pred\")\n",
    "plt.errorbar(x, y_pred3, xerr=0, yerr=res3)\n",
    "plt.legend()\n",
    "plt.show()\n",
    "\"\"\""
   ]
  },
  {
   "cell_type": "code",
   "execution_count": 98,
   "id": "13c418e0",
   "metadata": {},
   "outputs": [
    {
     "data": {
      "image/png": "[encoded data removed]",
      "text/plain": [
       "<Figure size 432x288 with 1 Axes>"
      ]
     },
     "metadata": {
      "needs_background": "light"
     },
     "output_type": "display_data"
    }
   ],
   "source": [
    "\"\"\"\n",
    "resA1 =  [abs(ele) for ele in res]\n",
    "resA3 =  [abs(ele) for ele in res3]\n",
    "\n",
    "plt.title(\"Residule of L1 and L3\")\n",
    "plt.plot(x,resA1, label = \"L1\")\n",
    "plt.plot(x, resA3, label = \"L3\")\n",
    "plt.legend()\n",
    "plt.show()\n",
    "\"\"\""
   ]
  },
  {
   "cell_type": "markdown",
   "id": "0f03de3e",
   "metadata": {},
   "source": [
    "# Predictions\n",
    "### TODO: add option for function type to getYPreds"
   ]
  },
  {
   "cell_type": "code",
   "execution_count": 16,
   "id": "72a4944a",
   "metadata": {},
   "outputs": [],
   "source": [
    "def getChData(data, ch, topPeaks, botPeaks):\n",
    "    i = 0\n",
    "    TDCS_List = []\n",
    "\n",
    "    topDiff = \"diffL\" + str(ch)\n",
    "    botDiff = \"diffL\" + str(ch+1)\n",
    "    final = \"L\" + str(ch)\n",
    "    \n",
    "    for peak in topPeaks:\n",
    "        # isolate the peaks\n",
    "            data.reload()\n",
    "            data.keep4by4Events()\n",
    "            #data.keepEvents(\"z_angle\",9.391,\"<=\")\n",
    "            data.keepEvents(topDiff, peak[1],\"<=\")\n",
    "            data.keepEvents(topDiff, peak[0],\">=\")\n",
    "        # generate the L4 peaks\n",
    "            #L4 = getIndividualPeaks(mdfo_calib, \"diffL4\",thresh=0.002,bw=0.03,doPlot=False)\n",
    "            for each_peak in botPeaks:\n",
    "                data.reload()\n",
    "                data.keep4by4Events()\n",
    "                #data.keepEvents(\"z_angle\",9.391,\"<=\")\n",
    "                data.keepEvents(topDiff,peak[1],\"<=\")\n",
    "                data.keepEvents(topDiff,peak[0],\">=\")\n",
    "\n",
    "                data.keepEvents(botDiff,each_peak[1],\"<=\")\n",
    "                data.keepEvents(botDiff,each_peak[0],\">=\")\n",
    "                # store the tdcs\n",
    "                TDCS_List.append(mdfo_calib.get(final))\n",
    "    return TDCS_List"
   ]
  },
  {
   "cell_type": "code",
   "execution_count": 24,
   "id": "23ee6731",
   "metadata": {},
   "outputs": [
    {
     "data": {
      "text/plain": [
       "142.0"
      ]
     },
     "execution_count": 24,
     "metadata": {},
     "output_type": "execute_result"
    }
   ],
   "source": [
    "TDCS_L1 = getChData(mdfo_calib, 1, L1, L2)\n",
    "TDCS_L3 = getChData(mdfo_calib, 3, L3, L4)"
   ]
  },
  {
   "cell_type": "code",
   "execution_count": 33,
   "id": "1796ff8f",
   "metadata": {},
   "outputs": [],
   "source": [
    "L1mean = []\n",
    "L1std = []\n",
    "L3mean = []\n",
    "L3std = []\n",
    "\n",
    "\n",
    "for i, j in zip(TDCS_L1, TDCS_L3):\n",
    "    temp1 = stats.describe(i)\n",
    "    temp3 = stats.describe(j)\n",
    "    L1mean.append(round(temp1[2],3))\n",
    "    L1std.append(round(np.sqrt(temp1[3]),3))\n",
    "    L3mean.append(round(temp3[2],3))\n",
    "    L3std.append(round(np.sqrt(temp3[3]),3))"
   ]
  },
  {
   "cell_type": "code",
   "execution_count": 128,
   "id": "75a086ac",
   "metadata": {},
   "outputs": [],
   "source": [
    "def getYPreds(meansList):\n",
    "    ch = 0\n",
    "    yPredList = []\n",
    "    res = []\n",
    "    for i in range(11):\n",
    "        x = np.arange(11)\n",
    "        x=x.reshape((11,1))\n",
    "        #print (x)\n",
    "        reg = linear_model.LinearRegression()\n",
    "        #print(L1mean[ch:ch+11], \"\\n\")\n",
    "        reg.fit(x, meansList[ch:ch+11])\n",
    "        yPredList.append(reg.predict(x))\n",
    "        #print(ch,ch+11)\n",
    "        for j in range(11):\n",
    "            res.append(abs(meansList[j]-yPredList[i][j]))\n",
    "        ch += 11\n",
    "    res = np.asarray(res)\n",
    "    res = res.reshape((11,11))\n",
    "    return yPredList, res"
   ]
  },
  {
   "cell_type": "code",
   "execution_count": 138,
   "id": "1ba367eb",
   "metadata": {},
   "outputs": [],
   "source": [
    "L1_yPredList, L1_res = getYPreds(L1mean)\n",
    "L3_yPredList, L3_res = getYPreds(L3mean)"
   ]
  },
  {
   "cell_type": "code",
   "execution_count": 150,
   "id": "b4f82b49",
   "metadata": {},
   "outputs": [
    {
     "data": {
      "image/png": "[encoded data removed]",
      "text/plain": [
       "<Figure size 432x288 with 1 Axes>"
      ]
     },
     "metadata": {
      "needs_background": "light"
     },
     "output_type": "display_data"
    }
   ],
   "source": [
    "for i in range(11):\n",
    "    plt.hist(L1_yPredList[i], bins= bins)\n",
    "#graphStats = \"Mean = {}   Std = {}\".format(round(t[2],2), round(np.sqrt(t[3]),2))\n",
    "plt.title(\"L2 Prediction\")\n",
    "#plt.suptitle(\"Layer 3 Ch1: Layer 4 Ch 1\")\n",
    "plt.show()"
   ]
  },
  {
   "cell_type": "code",
   "execution_count": null,
   "id": "577989bd",
   "metadata": {},
   "outputs": [],
   "source": []
  }
 ],
 "metadata": {
  "kernelspec": {
   "display_name": "Python 3",
   "language": "python",
   "name": "python3"
  },
  "language_info": {
   "codemirror_mode": {
    "name": "ipython",
    "version": 3
   },
   "file_extension": ".py",
   "mimetype": "text/x-python",
   "name": "python",
   "nbconvert_exporter": "python",
   "pygments_lexer": "ipython3",
   "version": "3.7.5"
  }
 },
 "nbformat": 4,
 "nbformat_minor": 5
}
