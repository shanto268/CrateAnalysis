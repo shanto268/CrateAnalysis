{
 "cells": [
  {
   "cell_type": "code",
   "execution_count": 1,
   "id": "c99a5a22",
   "metadata": {},
   "outputs": [],
   "source": [
    "import matplotlib\n",
    "import matplotlib.pyplot as plt\n",
    "from matplotlib.backends.backend_pdf import PdfPages\n",
    "from sklearn.linear_model import LinearRegression\n",
    "from sklearn import linear_model"
   ]
  },
  {
   "cell_type": "code",
   "execution_count": 2,
   "id": "5fccbdb9",
   "metadata": {},
   "outputs": [
    {
     "data": {
      "text/html": [
       "<div>\n",
       "<style scoped>\n",
       "    .dataframe tbody tr th:only-of-type {\n",
       "        vertical-align: middle;\n",
       "    }\n",
       "\n",
       "    .dataframe tbody tr th {\n",
       "        vertical-align: top;\n",
       "    }\n",
       "\n",
       "    .dataframe thead th {\n",
       "        text-align: right;\n",
       "    }\n",
       "</style>\n",
       "<table border=\"1\" class=\"dataframe\">\n",
       "  <thead>\n",
       "    <tr style=\"text-align: right;\">\n",
       "      <th></th>\n",
       "      <th>Unnamed: 0</th>\n",
       "      <th>index</th>\n",
       "      <th>event_num</th>\n",
       "      <th>event_time</th>\n",
       "      <th>deadtime</th>\n",
       "      <th>l1hit</th>\n",
       "      <th>l2hit</th>\n",
       "      <th>l3hit</th>\n",
       "      <th>l4hit</th>\n",
       "      <th>r1hit</th>\n",
       "      <th>...</th>\n",
       "      <th>z_angle</th>\n",
       "      <th>SmallCounter</th>\n",
       "      <th>speed</th>\n",
       "      <th>Run_Num</th>\n",
       "      <th>xx</th>\n",
       "      <th>yy</th>\n",
       "      <th>xx1</th>\n",
       "      <th>yy1</th>\n",
       "      <th>time_of_day</th>\n",
       "      <th>time</th>\n",
       "    </tr>\n",
       "  </thead>\n",
       "  <tbody>\n",
       "    <tr>\n",
       "      <th>0</th>\n",
       "      <td>0</td>\n",
       "      <td>0</td>\n",
       "      <td>0</td>\n",
       "      <td>2021-05-03 12:40:15.812760</td>\n",
       "      <td>0</td>\n",
       "      <td>1.0</td>\n",
       "      <td>1.0</td>\n",
       "      <td>1.0</td>\n",
       "      <td>1.0</td>\n",
       "      <td>1.0</td>\n",
       "      <td>...</td>\n",
       "      <td>13.455446</td>\n",
       "      <td>NaN</td>\n",
       "      <td>0.342978</td>\n",
       "      <td>622</td>\n",
       "      <td>-5.445887</td>\n",
       "      <td>-22.562492</td>\n",
       "      <td>-6.807692</td>\n",
       "      <td>-22.684615</td>\n",
       "      <td>day</td>\n",
       "      <td>0</td>\n",
       "    </tr>\n",
       "    <tr>\n",
       "      <th>1</th>\n",
       "      <td>1</td>\n",
       "      <td>1</td>\n",
       "      <td>1</td>\n",
       "      <td>2021-05-03 12:40:16.502963</td>\n",
       "      <td>0</td>\n",
       "      <td>1.0</td>\n",
       "      <td>1.0</td>\n",
       "      <td>1.0</td>\n",
       "      <td>1.0</td>\n",
       "      <td>1.0</td>\n",
       "      <td>...</td>\n",
       "      <td>12.002813</td>\n",
       "      <td>NaN</td>\n",
       "      <td>0.703353</td>\n",
       "      <td>622</td>\n",
       "      <td>-11.762760</td>\n",
       "      <td>-21.506829</td>\n",
       "      <td>-11.538462</td>\n",
       "      <td>-21.784615</td>\n",
       "      <td>day</td>\n",
       "      <td>690203</td>\n",
       "    </tr>\n",
       "    <tr>\n",
       "      <th>2</th>\n",
       "      <td>2</td>\n",
       "      <td>2</td>\n",
       "      <td>2</td>\n",
       "      <td>2021-05-03 12:40:16.672924</td>\n",
       "      <td>0</td>\n",
       "      <td>1.0</td>\n",
       "      <td>1.0</td>\n",
       "      <td>1.0</td>\n",
       "      <td>1.0</td>\n",
       "      <td>1.0</td>\n",
       "      <td>...</td>\n",
       "      <td>14.672630</td>\n",
       "      <td>NaN</td>\n",
       "      <td>0.210716</td>\n",
       "      <td>622</td>\n",
       "      <td>35.347122</td>\n",
       "      <td>13.620282</td>\n",
       "      <td>36.676923</td>\n",
       "      <td>14.884615</td>\n",
       "      <td>day</td>\n",
       "      <td>860164</td>\n",
       "    </tr>\n",
       "    <tr>\n",
       "      <th>3</th>\n",
       "      <td>3</td>\n",
       "      <td>3</td>\n",
       "      <td>3</td>\n",
       "      <td>2021-05-03 12:40:16.892987</td>\n",
       "      <td>0</td>\n",
       "      <td>1.0</td>\n",
       "      <td>1.0</td>\n",
       "      <td>1.0</td>\n",
       "      <td>1.0</td>\n",
       "      <td>1.0</td>\n",
       "      <td>...</td>\n",
       "      <td>15.284964</td>\n",
       "      <td>NaN</td>\n",
       "      <td>0.259347</td>\n",
       "      <td>622</td>\n",
       "      <td>24.903617</td>\n",
       "      <td>25.826667</td>\n",
       "      <td>27.746154</td>\n",
       "      <td>29.153846</td>\n",
       "      <td>day</td>\n",
       "      <td>1080227</td>\n",
       "    </tr>\n",
       "    <tr>\n",
       "      <th>4</th>\n",
       "      <td>4</td>\n",
       "      <td>4</td>\n",
       "      <td>4</td>\n",
       "      <td>2021-05-03 12:40:17.563102</td>\n",
       "      <td>0</td>\n",
       "      <td>1.0</td>\n",
       "      <td>1.0</td>\n",
       "      <td>1.0</td>\n",
       "      <td>1.0</td>\n",
       "      <td>1.0</td>\n",
       "      <td>...</td>\n",
       "      <td>4.253100</td>\n",
       "      <td>NaN</td>\n",
       "      <td>11.038012</td>\n",
       "      <td>622</td>\n",
       "      <td>6.978340</td>\n",
       "      <td>14.482143</td>\n",
       "      <td>7.676923</td>\n",
       "      <td>15.230769</td>\n",
       "      <td>day</td>\n",
       "      <td>1750342</td>\n",
       "    </tr>\n",
       "    <tr>\n",
       "      <th>...</th>\n",
       "      <td>...</td>\n",
       "      <td>...</td>\n",
       "      <td>...</td>\n",
       "      <td>...</td>\n",
       "      <td>...</td>\n",
       "      <td>...</td>\n",
       "      <td>...</td>\n",
       "      <td>...</td>\n",
       "      <td>...</td>\n",
       "      <td>...</td>\n",
       "      <td>...</td>\n",
       "      <td>...</td>\n",
       "      <td>...</td>\n",
       "      <td>...</td>\n",
       "      <td>...</td>\n",
       "      <td>...</td>\n",
       "      <td>...</td>\n",
       "      <td>...</td>\n",
       "      <td>...</td>\n",
       "      <td>...</td>\n",
       "      <td>...</td>\n",
       "    </tr>\n",
       "    <tr>\n",
       "      <th>2999992</th>\n",
       "      <td>2999992</td>\n",
       "      <td>99992</td>\n",
       "      <td>2999992</td>\n",
       "      <td>2021-05-20 13:18:29.305435</td>\n",
       "      <td>0</td>\n",
       "      <td>1.0</td>\n",
       "      <td>1.0</td>\n",
       "      <td>1.0</td>\n",
       "      <td>1.0</td>\n",
       "      <td>1.0</td>\n",
       "      <td>...</td>\n",
       "      <td>4.471381</td>\n",
       "      <td>NaN</td>\n",
       "      <td>2.208244</td>\n",
       "      <td>656</td>\n",
       "      <td>-24.827750</td>\n",
       "      <td>-14.125268</td>\n",
       "      <td>-25.330769</td>\n",
       "      <td>-14.146154</td>\n",
       "      <td>day</td>\n",
       "      <td>1077344492675</td>\n",
       "    </tr>\n",
       "    <tr>\n",
       "      <th>2999993</th>\n",
       "      <td>2999993</td>\n",
       "      <td>99993</td>\n",
       "      <td>2999993</td>\n",
       "      <td>2021-05-20 13:18:29.875548</td>\n",
       "      <td>0</td>\n",
       "      <td>1.0</td>\n",
       "      <td>1.0</td>\n",
       "      <td>1.0</td>\n",
       "      <td>1.0</td>\n",
       "      <td>1.0</td>\n",
       "      <td>...</td>\n",
       "      <td>15.702291</td>\n",
       "      <td>NaN</td>\n",
       "      <td>0.346495</td>\n",
       "      <td>656</td>\n",
       "      <td>13.468468</td>\n",
       "      <td>-38.856563</td>\n",
       "      <td>13.800000</td>\n",
       "      <td>-37.423077</td>\n",
       "      <td>day</td>\n",
       "      <td>1077345062788</td>\n",
       "    </tr>\n",
       "    <tr>\n",
       "      <th>2999994</th>\n",
       "      <td>2999994</td>\n",
       "      <td>99994</td>\n",
       "      <td>2999994</td>\n",
       "      <td>2021-05-20 13:18:30.125522</td>\n",
       "      <td>0</td>\n",
       "      <td>1.0</td>\n",
       "      <td>1.0</td>\n",
       "      <td>1.0</td>\n",
       "      <td>1.0</td>\n",
       "      <td>1.0</td>\n",
       "      <td>...</td>\n",
       "      <td>13.684312</td>\n",
       "      <td>NaN</td>\n",
       "      <td>0.276322</td>\n",
       "      <td>656</td>\n",
       "      <td>28.348837</td>\n",
       "      <td>-29.674472</td>\n",
       "      <td>28.130769</td>\n",
       "      <td>-29.230769</td>\n",
       "      <td>day</td>\n",
       "      <td>1077345312762</td>\n",
       "    </tr>\n",
       "    <tr>\n",
       "      <th>2999996</th>\n",
       "      <td>2999996</td>\n",
       "      <td>99996</td>\n",
       "      <td>2999996</td>\n",
       "      <td>2021-05-20 13:18:30.965416</td>\n",
       "      <td>0</td>\n",
       "      <td>1.0</td>\n",
       "      <td>1.0</td>\n",
       "      <td>1.0</td>\n",
       "      <td>1.0</td>\n",
       "      <td>1.0</td>\n",
       "      <td>...</td>\n",
       "      <td>6.035804</td>\n",
       "      <td>NaN</td>\n",
       "      <td>0.442759</td>\n",
       "      <td>656</td>\n",
       "      <td>12.892377</td>\n",
       "      <td>-12.244589</td>\n",
       "      <td>13.269231</td>\n",
       "      <td>-13.276923</td>\n",
       "      <td>day</td>\n",
       "      <td>1077346152656</td>\n",
       "    </tr>\n",
       "    <tr>\n",
       "      <th>2999999</th>\n",
       "      <td>2999999</td>\n",
       "      <td>99999</td>\n",
       "      <td>2999999</td>\n",
       "      <td>2021-05-20 13:18:32.575704</td>\n",
       "      <td>0</td>\n",
       "      <td>1.0</td>\n",
       "      <td>1.0</td>\n",
       "      <td>1.0</td>\n",
       "      <td>1.0</td>\n",
       "      <td>1.0</td>\n",
       "      <td>...</td>\n",
       "      <td>16.831888</td>\n",
       "      <td>NaN</td>\n",
       "      <td>0.294880</td>\n",
       "      <td>656</td>\n",
       "      <td>-30.771501</td>\n",
       "      <td>25.534568</td>\n",
       "      <td>-31.607692</td>\n",
       "      <td>26.453846</td>\n",
       "      <td>day</td>\n",
       "      <td>1077347762944</td>\n",
       "    </tr>\n",
       "  </tbody>\n",
       "</table>\n",
       "<p>2257917 rows × 74 columns</p>\n",
       "</div>"
      ],
      "text/plain": [
       "         Unnamed: 0  index  event_num                  event_time  deadtime  \\\n",
       "0                 0      0          0  2021-05-03 12:40:15.812760         0   \n",
       "1                 1      1          1  2021-05-03 12:40:16.502963         0   \n",
       "2                 2      2          2  2021-05-03 12:40:16.672924         0   \n",
       "3                 3      3          3  2021-05-03 12:40:16.892987         0   \n",
       "4                 4      4          4  2021-05-03 12:40:17.563102         0   \n",
       "...             ...    ...        ...                         ...       ...   \n",
       "2999992     2999992  99992    2999992  2021-05-20 13:18:29.305435         0   \n",
       "2999993     2999993  99993    2999993  2021-05-20 13:18:29.875548         0   \n",
       "2999994     2999994  99994    2999994  2021-05-20 13:18:30.125522         0   \n",
       "2999996     2999996  99996    2999996  2021-05-20 13:18:30.965416         0   \n",
       "2999999     2999999  99999    2999999  2021-05-20 13:18:32.575704         0   \n",
       "\n",
       "         l1hit  l2hit  l3hit  l4hit  r1hit  ...    z_angle  SmallCounter  \\\n",
       "0          1.0    1.0    1.0    1.0    1.0  ...  13.455446           NaN   \n",
       "1          1.0    1.0    1.0    1.0    1.0  ...  12.002813           NaN   \n",
       "2          1.0    1.0    1.0    1.0    1.0  ...  14.672630           NaN   \n",
       "3          1.0    1.0    1.0    1.0    1.0  ...  15.284964           NaN   \n",
       "4          1.0    1.0    1.0    1.0    1.0  ...   4.253100           NaN   \n",
       "...        ...    ...    ...    ...    ...  ...        ...           ...   \n",
       "2999992    1.0    1.0    1.0    1.0    1.0  ...   4.471381           NaN   \n",
       "2999993    1.0    1.0    1.0    1.0    1.0  ...  15.702291           NaN   \n",
       "2999994    1.0    1.0    1.0    1.0    1.0  ...  13.684312           NaN   \n",
       "2999996    1.0    1.0    1.0    1.0    1.0  ...   6.035804           NaN   \n",
       "2999999    1.0    1.0    1.0    1.0    1.0  ...  16.831888           NaN   \n",
       "\n",
       "             speed  Run_Num         xx         yy        xx1        yy1  \\\n",
       "0         0.342978      622  -5.445887 -22.562492  -6.807692 -22.684615   \n",
       "1         0.703353      622 -11.762760 -21.506829 -11.538462 -21.784615   \n",
       "2         0.210716      622  35.347122  13.620282  36.676923  14.884615   \n",
       "3         0.259347      622  24.903617  25.826667  27.746154  29.153846   \n",
       "4        11.038012      622   6.978340  14.482143   7.676923  15.230769   \n",
       "...            ...      ...        ...        ...        ...        ...   \n",
       "2999992   2.208244      656 -24.827750 -14.125268 -25.330769 -14.146154   \n",
       "2999993   0.346495      656  13.468468 -38.856563  13.800000 -37.423077   \n",
       "2999994   0.276322      656  28.348837 -29.674472  28.130769 -29.230769   \n",
       "2999996   0.442759      656  12.892377 -12.244589  13.269231 -13.276923   \n",
       "2999999   0.294880      656 -30.771501  25.534568 -31.607692  26.453846   \n",
       "\n",
       "         time_of_day           time  \n",
       "0                day              0  \n",
       "1                day         690203  \n",
       "2                day         860164  \n",
       "3                day        1080227  \n",
       "4                day        1750342  \n",
       "...              ...            ...  \n",
       "2999992          day  1077344492675  \n",
       "2999993          day  1077345062788  \n",
       "2999994          day  1077345312762  \n",
       "2999996          day  1077346152656  \n",
       "2999999          day  1077347762944  \n",
       "\n",
       "[2257917 rows x 74 columns]"
      ]
     },
     "execution_count": 2,
     "metadata": {},
     "output_type": "execute_result"
    }
   ],
   "source": [
    "from MuDataFrame import *\n",
    "import numpy as np\n",
    "from scipy import stats\n",
    "\n",
    "mdfo_calib = MuDataFrame(\"/Volumes/DAQ/PhotonTimeProp/dataFiles/calibration_new_set_up.csv\")\n",
    "\n",
    "mdf_calib = mdfo_calib.events_df\n",
    "mdfo_calib.keep4by4Events()\n",
    "mdfo_calib.og_df = mdf_calib.copy()\n",
    "mdfo_calib.show()"
   ]
  },
  {
   "cell_type": "markdown",
   "id": "12d4e900",
   "metadata": {},
   "source": [
    "# Getting peak coords"
   ]
  },
  {
   "cell_type": "code",
   "execution_count": 3,
   "id": "e905af7f",
   "metadata": {},
   "outputs": [],
   "source": [
    "def getIntersections(t, curve1, curve2, doPlot=True):\n",
    "    intersections = []\n",
    "    xvals = []\n",
    "    prev_dif = 0\n",
    "    t0, prev_c1, prev_c2 = None, None, None\n",
    "    for t1, c1, c2 in zip(t, curve1, curve2):\n",
    "        new_dif = c2 - c1\n",
    "        if np.abs(new_dif) < 1e-12:  # found an exact zero, this is very unprobable\n",
    "            intersections.append((t1, c1))\n",
    "        elif new_dif * prev_dif < 0:\n",
    "            denom = prev_dif - new_dif\n",
    "            xvals.append((-new_dif * t0 + prev_dif * t1) / denom)\n",
    "            intersections.append(((-new_dif * t0 + prev_dif * t1) / denom,\n",
    "                                  (c1 * prev_c2 - c2 * prev_c1) / denom))\n",
    "        t0, prev_c1, prev_c2, prev_dif = t1, c1, c2, new_dif\n",
    "\n",
    "    if doPlot:\n",
    "        fig, ax = plt.subplots()\n",
    "        ax.plot(t, curve1, 'b-')\n",
    "        ax.plot(t, curve2, 'r-')\n",
    "        ax.plot(*zip(*intersections), 'kx', ms=5)\n",
    "        plt.show()\n",
    "    \n",
    "    diffs = np.diff(xvals)\n",
    "    return xvals"
   ]
  },
  {
   "cell_type": "code",
   "execution_count": 4,
   "id": "be90e6d3",
   "metadata": {},
   "outputs": [
    {
     "data": {
      "image/png": "[encoded data removed]",
      "text/plain": [
       "<Figure size 432x288 with 1 Axes>"
      ]
     },
     "metadata": {
      "needs_background": "light"
     },
     "output_type": "display_data"
    }
   ],
   "source": [
    "from scipy.stats import gaussian_kde\n",
    "mdfo_calib.reload()\n",
    "mdfo_calib.keep4by4Events()\n",
    "data = mdfo_calib.get(\"diffL1\")\n",
    "bandwidth = 0.02\n",
    "density1 = gaussian_kde(data, bw_method=bandwidth)\n",
    "xs = np.linspace(-75,75,150)\n",
    "t = xs\n",
    "curve1 = density1(xs)\n",
    "curve2 = len(curve1) * [0.00135]\n",
    "vals = getIntersections(t, curve1, curve2)\n",
    "L1cuts = np.reshape(vals,[11,2])\n",
    "L1cuts = np.flip(L1cuts,0)"
   ]
  },
  {
   "cell_type": "code",
   "execution_count": 5,
   "id": "75642045",
   "metadata": {},
   "outputs": [
    {
     "data": {
      "image/png": "[encoded data removed]",
      "text/plain": [
       "<Figure size 432x288 with 1 Axes>"
      ]
     },
     "metadata": {
      "needs_background": "light"
     },
     "output_type": "display_data"
    }
   ],
   "source": [
    "mdfo_calib.reload()\n",
    "mdfo_calib.keep4by4Events()\n",
    "data2 = mdfo_calib.get(\"diffL2\")\n",
    "bandwidth = 0.02\n",
    "density2 = gaussian_kde(data2, bw_method=bandwidth)\n",
    "xs = np.linspace(-75,75,150)\n",
    "t = xs\n",
    "curve1 = density2(xs)\n",
    "curve2 = len(curve1) * [0.0015]\n",
    "vals2 = getIntersections(t, curve1, curve2)\n",
    "L2cuts = np.reshape(vals2,[11,2])\n",
    "L2cuts = np.flip(L2cuts,0)"
   ]
  },
  {
   "cell_type": "code",
   "execution_count": 6,
   "id": "c352f978",
   "metadata": {},
   "outputs": [
    {
     "data": {
      "image/png": "[encoded data removed]",
      "text/plain": [
       "<Figure size 432x288 with 1 Axes>"
      ]
     },
     "metadata": {
      "needs_background": "light"
     },
     "output_type": "display_data"
    }
   ],
   "source": [
    "mdfo_calib.reload()\n",
    "mdfo_calib.keep4by4Events()\n",
    "data3 = mdfo_calib.get(\"diffL3\")\n",
    "bandwidth = 0.025\n",
    "density3 = gaussian_kde(data3, bw_method=bandwidth)\n",
    "xs = np.linspace(-75,75,150)\n",
    "t = xs\n",
    "curve1 = density3(xs)\n",
    "curve2 = len(curve1) * [0.0017]\n",
    "vals3 = getIntersections(t, curve1, curve2)\n",
    "L3cuts = np.reshape(vals3,[11,2])\n",
    "L3cuts = np.flip(L3cuts,0)"
   ]
  },
  {
   "cell_type": "code",
   "execution_count": 7,
   "id": "6e991fbd",
   "metadata": {},
   "outputs": [
    {
     "data": {
      "image/png": "[encoded data removed]",
      "text/plain": [
       "<Figure size 432x288 with 1 Axes>"
      ]
     },
     "metadata": {
      "needs_background": "light"
     },
     "output_type": "display_data"
    }
   ],
   "source": [
    "mdfo_calib.reload()\n",
    "mdfo_calib.keep4by4Events()\n",
    "data4 = mdfo_calib.get(\"diffL4\")\n",
    "bandwidth = 0.03\n",
    "density4 = gaussian_kde(data4, bw_method=bandwidth)\n",
    "xs = np.linspace(-75,75,150)\n",
    "t = xs\n",
    "curve1 = density4(xs)\n",
    "curve2 = len(curve1) * [0.0016]\n",
    "vals4 = getIntersections(t, curve1, curve2)\n",
    "L4cuts = np.reshape(vals4,[11,2])\n",
    "L4cuts = np.flip(L4cuts,0)"
   ]
  },
  {
   "cell_type": "markdown",
   "id": "0f03de3e",
   "metadata": {},
   "source": [
    "# Predictions\n",
    "### TODO: add option for function type to getYPreds"
   ]
  },
  {
   "cell_type": "code",
   "execution_count": 8,
   "id": "cb5c0e07",
   "metadata": {},
   "outputs": [
    {
     "data": {
      "text/plain": [
       "(array([-3.49018966,  2.49572508]), array([-3.71710597,  3.22040137]))"
      ]
     },
     "execution_count": 8,
     "metadata": {},
     "output_type": "execute_result"
    }
   ],
   "source": [
    "#Peak endpoints for Ch6 in L1/L3\n",
    "L1cuts[5], L3cuts[5]"
   ]
  },
  {
   "cell_type": "code",
   "execution_count": 9,
   "id": "72a4944a",
   "metadata": {},
   "outputs": [],
   "source": [
    "def getChData(data, ch, topPeaks, botPeaks):\n",
    "    i = 0\n",
    "    TDCS_List = []\n",
    "\n",
    "    topDiff = \"diffL\" + str(ch)\n",
    "    botDiff = \"diffL\" + str(ch+1)\n",
    "    final = \"L\" + str(ch)\n",
    "    \n",
    "    #for peak in topPeaks:\n",
    "        # isolate the peaks\n",
    "            #data.reload()\n",
    "            #data.keep4by4Events()\n",
    "            #data.keepEvents(\"z_angle\",9.391,\"<=\")\n",
    "            #data.keepEvents(topDiff, peak[1],\"<=\")\n",
    "            #data.keepEvents(topDiff, peak[0],\">=\")\n",
    "        # generate the L4 peaks\n",
    "            #L4 = getIndividualPeaks(mdfo_calib, \"diffL4\",thresh=0.002,bw=0.03,doPlot=False)\n",
    "    for each_peak in botPeaks:\n",
    "        #print(i)\n",
    "        #i+=1\n",
    "        data.reload()\n",
    "        data.keep4by4Events()\n",
    "        #data.keepEvents(\"z_angle\",9.391,\"<=\")\n",
    "        data.keepEvents(topDiff,topPeaks[1],\"<=\")\n",
    "        data.keepEvents(topDiff,topPeaks[0],\">=\")\n",
    "\n",
    "        data.keepEvents(botDiff,each_peak[1],\"<=\")\n",
    "        data.keepEvents(botDiff,each_peak[0],\">=\")\n",
    "        # store the tdcs\n",
    "        TDCS_List.append(data.get(final))\n",
    "    return TDCS_List"
   ]
  },
  {
   "cell_type": "code",
   "execution_count": 10,
   "id": "23ee6731",
   "metadata": {},
   "outputs": [],
   "source": [
    "#Get TDC dist only from L1/L3 Ch6 and onto each channel in L2/L4 (0-10)\n",
    "TDCS_L1Ch6_L2 = getChData(mdfo_calib, 1, L1cuts[5], L2cuts)\n",
    "TDCS_L3Ch6_L4 = getChData(mdfo_calib, 3, L3cuts[5], L4cuts)"
   ]
  },
  {
   "cell_type": "markdown",
   "id": "d9b73e55",
   "metadata": {},
   "source": [
    "Shanto work"
   ]
  },
  {
   "cell_type": "code",
   "execution_count": 13,
   "id": "5ea69522",
   "metadata": {},
   "outputs": [
    {
     "data": {
      "text/plain": [
       "17547"
      ]
     },
     "execution_count": 13,
     "metadata": {},
     "output_type": "execute_result"
    }
   ],
   "source": [
    "len(TDCS_L1Ch6_L2[1])"
   ]
  },
  {
   "cell_type": "code",
   "execution_count": 14,
   "id": "f3409b95",
   "metadata": {},
   "outputs": [],
   "source": [
    "yrange = [5*i-2.5 for i in range(1,12)]"
   ]
  },
  {
   "cell_type": "code",
   "execution_count": 15,
   "id": "09c12fb3",
   "metadata": {},
   "outputs": [
    {
     "data": {
      "image/png": "[encoded data removed]",
      "text/plain": [
       "<Figure size 432x288 with 1 Axes>"
      ]
     },
     "metadata": {
      "needs_background": "light"
     },
     "output_type": "display_data"
    }
   ],
   "source": [
    "plt.plot(yrange,L1Ch6_L2means,'--o')\n",
    "plt.show()"
   ]
  },
  {
   "cell_type": "markdown",
   "id": "19457f70",
   "metadata": {},
   "source": [
    "Shanto work end"
   ]
  },
  {
   "cell_type": "code",
   "execution_count": 11,
   "id": "1796ff8f",
   "metadata": {},
   "outputs": [],
   "source": [
    "#Get TDC means of L1/L3 Ch6 onto each channel in L2/L4\n",
    "L1Ch6_L2means = []\n",
    "L1Ch6_L2stds = []\n",
    "\n",
    "L3Ch6_L4means = []\n",
    "L3Ch6_L4stds = []\n",
    "\n",
    "\n",
    "for i, j in zip(TDCS_L1Ch6_L2, TDCS_L3Ch6_L4):\n",
    "    temp1 = stats.describe(i)\n",
    "    temp3 = stats.describe(j)\n",
    "    L1Ch6_L2means.append(round(temp1[2],3))\n",
    "    L1Ch6_L2stds.append(round(np.sqrt(temp1[3]),3))\n",
    "    L3Ch6_L4means.append(round(temp3[2],3))\n",
    "    L3Ch6_L4stds.append(round(np.sqrt(temp3[3]),3))"
   ]
  },
  {
   "cell_type": "code",
   "execution_count": 12,
   "id": "08537327",
   "metadata": {},
   "outputs": [
    {
     "data": {
      "text/plain": [
       "('TDC means of Layer 1 Ch6  onto Layer 2',\n",
       " [102.603,\n",
       "  102.844,\n",
       "  103.681,\n",
       "  104.864,\n",
       "  105.881,\n",
       "  106.724,\n",
       "  108.0,\n",
       "  108.794,\n",
       "  109.904,\n",
       "  111.153,\n",
       "  112.298],\n",
       " 'TDC means of Layer 3 Ch6 onto Layer 4',\n",
       " [93.853,\n",
       "  94.603,\n",
       "  95.286,\n",
       "  95.94,\n",
       "  96.979,\n",
       "  97.432,\n",
       "  97.952,\n",
       "  98.143,\n",
       "  98.391,\n",
       "  99.226,\n",
       "  99.759])"
      ]
     },
     "execution_count": 12,
     "metadata": {},
     "output_type": "execute_result"
    }
   ],
   "source": [
    "\"TDC means of Layer 1 Ch6  onto Layer 2\", L1Ch6_L2means, \"TDC means of Layer 3 Ch6 onto Layer 4\", L3Ch6_L4means"
   ]
  },
  {
   "cell_type": "markdown",
   "id": "620e07a8",
   "metadata": {},
   "source": [
    "### Get mean TDC for L1/L3 for each channel to represent channel for prediction"
   ]
  },
  {
   "cell_type": "code",
   "execution_count": 16,
   "id": "b6befb8e",
   "metadata": {},
   "outputs": [],
   "source": [
    "#get TDC means for each channel in L1/L3 --> independent variable for regression\n",
    "def getSingleLayerData(data, layer, peaks):\n",
    "    diff = \"diffL\" + str(layer)\n",
    "    final = \"L\" + str(layer)\n",
    "    TDCS_List = []\n",
    "    for each_peak in peaks:\n",
    "        data.reload()\n",
    "        data.keep4by4Events()\n",
    "        #data.keepEvents(\"z_angle\",9.391,\"<=\")\n",
    "        data.keepEvents(diff, each_peak[1],\"<=\")\n",
    "        data.keepEvents(diff, each_peak[0],\">=\")\n",
    "        # store the tdcs\n",
    "        TDCS_List.append(data.get(diff))\n",
    "    return TDCS_List"
   ]
  },
  {
   "cell_type": "code",
   "execution_count": 17,
   "id": "2b657641",
   "metadata": {},
   "outputs": [],
   "source": [
    "L1_TDCraw = getSingleLayerData(mdfo_calib, 1, L1cuts)\n",
    "L3_TDCraw = getSingleLayerData(mdfo_calib, 3, L3cuts)"
   ]
  },
  {
   "cell_type": "code",
   "execution_count": 18,
   "id": "c6bfeab3",
   "metadata": {},
   "outputs": [],
   "source": [
    "L1_means = []\n",
    "L3_means = []\n",
    "\n",
    "for i, j in zip(L1_TDCraw, L3_TDCraw):\n",
    "    temp1 = stats.describe(i)\n",
    "    temp3 = stats.describe(j)\n",
    "    L1_means.append(round(temp1[2],3))\n",
    "    L3_means.append(round(temp3[2],3))"
   ]
  },
  {
   "cell_type": "code",
   "execution_count": 19,
   "id": "a6cde98a",
   "metadata": {},
   "outputs": [
    {
     "data": {
      "text/plain": [
       "([61.328,\n",
       "  48.644,\n",
       "  35.723,\n",
       "  24.234,\n",
       "  11.289,\n",
       "  -0.11,\n",
       "  -12.136,\n",
       "  -24.983,\n",
       "  -36.024,\n",
       "  -48.144,\n",
       "  -60.908],\n",
       " [93.853,\n",
       "  94.603,\n",
       "  95.286,\n",
       "  95.94,\n",
       "  96.979,\n",
       "  97.432,\n",
       "  97.952,\n",
       "  98.143,\n",
       "  98.391,\n",
       "  99.226,\n",
       "  99.759])"
      ]
     },
     "execution_count": 19,
     "metadata": {},
     "output_type": "execute_result"
    }
   ],
   "source": [
    "L3_means, L3Ch6_L4means"
   ]
  },
  {
   "cell_type": "code",
   "execution_count": 20,
   "id": "57e28e83",
   "metadata": {},
   "outputs": [],
   "source": [
    "L1_means = np.asarray(L1_means)\n",
    "L1_means = L1_means.reshape((11,1))\n",
    "\n",
    "L3_means = np.asarray(L3_means)\n",
    "L3_means = L3_means.reshape((11,1))"
   ]
  },
  {
   "cell_type": "code",
   "execution_count": 21,
   "id": "75a086ac",
   "metadata": {},
   "outputs": [],
   "source": [
    "#get predictions for a discrete x (cuts made on each channel) and corresponding mean TDC values\n",
    "def getYPreds(Xmeans, Ymeans):\n",
    "    #ch = 0\n",
    "    Xmeans = np.array(Xmeans).reshape(11,1)\n",
    "    yPredList = []\n",
    "    eqn_vars = [] #[coefficient, intercept]\n",
    "    x = np.arange(11)\n",
    "    x=x.reshape((11,1))\n",
    "    reg = linear_model.LinearRegression()\n",
    "    reg.fit(Xmeans, Ymeans)\n",
    "    yPredList.append(reg.predict(x))\n",
    "    #for j in range(11):\n",
    "        #res.append(abs(meansList[j]-yPredList[i][j]))\n",
    "        #ch += 11\n",
    "    return yPredList, reg"
   ]
  },
  {
   "cell_type": "code",
   "execution_count": 22,
   "id": "1ba367eb",
   "metadata": {},
   "outputs": [],
   "source": [
    "L1_PredSample, L1Ch6_reg = getYPreds(yrange, L1Ch6_L2means)\n",
    "L3_PredSample, L3Ch6_reg = getYPreds(yrange, L3Ch6_L4means)"
   ]
  },
  {
   "cell_type": "code",
   "execution_count": 23,
   "id": "09d60ea2",
   "metadata": {},
   "outputs": [
    {
     "data": {
      "text/plain": [
       "[array([101.45895909, 101.65961182, 101.86026455, 102.06091727,\n",
       "        102.26157   , 102.46222273, 102.66287545, 102.86352818,\n",
       "        103.06418091, 103.26483364, 103.46548636])]"
      ]
     },
     "execution_count": 23,
     "metadata": {},
     "output_type": "execute_result"
    }
   ],
   "source": [
    "L1_PredSample"
   ]
  },
  {
   "cell_type": "code",
   "execution_count": 24,
   "id": "80d8b8be",
   "metadata": {},
   "outputs": [
    {
     "data": {
      "text/plain": [
       "('Layer 1 parameters',\n",
       " array([0.20065273]),\n",
       " 101.4589590909091,\n",
       " 'Layer 3 parameters',\n",
       " array([0.11402909]),\n",
       " 93.91547272727271)"
      ]
     },
     "execution_count": 24,
     "metadata": {},
     "output_type": "execute_result"
    }
   ],
   "source": [
    "# y = L1_eqn[0] * x + L1_eqn[1]\n",
    "# y = L1Ch6_coef_ * x + L1Ch6_fit.intercept_\n",
    "\"Layer 1 parameters\", L1Ch6_reg.coef_, L1Ch6_reg.intercept_, \"Layer 3 parameters\", L3Ch6_reg.coef_, L3Ch6_reg.intercept_,"
   ]
  },
  {
   "cell_type": "code",
   "execution_count": 25,
   "id": "64e0e7c2",
   "metadata": {},
   "outputs": [],
   "source": [
    "Y2PredList = []\n",
    "\n",
    "mdfo_calib.reload()\n",
    "mdfo_calib.keep4by4Events()\n",
    "\n",
    "for i in mdfo_calib.events_df.L1.values:\n",
    "    Y2PredList.append((L1Ch6_reg.intercept_ - i)/L1Ch6_reg.coef_)"
   ]
  },
  {
   "cell_type": "code",
   "execution_count": 26,
   "id": "d1c5819f",
   "metadata": {},
   "outputs": [
    {
     "data": {
      "text/plain": [
       "10.0"
      ]
     },
     "execution_count": 26,
     "metadata": {},
     "output_type": "execute_result"
    }
   ],
   "source": [
    "mdfo_calib.events_df.diffL2.values[10]"
   ]
  },
  {
   "cell_type": "code",
   "execution_count": 27,
   "id": "3b1f65c0",
   "metadata": {},
   "outputs": [
    {
     "data": {
      "text/plain": [
       "array([-277.30727156])"
      ]
     },
     "execution_count": 27,
     "metadata": {},
     "output_type": "execute_result"
    }
   ],
   "source": [
    "Y2PredList[10]*(130/55)"
   ]
  },
  {
   "cell_type": "code",
   "execution_count": null,
   "id": "ff45b58e",
   "metadata": {},
   "outputs": [],
   "source": [
    "diffList = (mdfo_calib.events_df.diffL2.values - np.array(Y2PredList))/mdfo_calib.events_df.diffL2.values"
   ]
  },
  {
   "cell_type": "code",
   "execution_count": null,
   "id": "21d506f5",
   "metadata": {},
   "outputs": [],
   "source": [
    "plt.hist(diffList)"
   ]
  },
  {
   "cell_type": "code",
   "execution_count": 43,
   "id": "7d5e2bc6",
   "metadata": {},
   "outputs": [
    {
     "data": {
      "text/plain": [
       "-865.0"
      ]
     },
     "execution_count": 43,
     "metadata": {},
     "output_type": "execute_result"
    }
   ],
   "source": [
    "#plt.hist(mdfo_calib.events_df.diffL2.values,bins=11,range=(-90,90))\n",
    "#plt.show()\n",
    "min(mdfo_calib.events_df.diffL2.values)"
   ]
  },
  {
   "cell_type": "code",
   "execution_count": 41,
   "id": "94d51217",
   "metadata": {},
   "outputs": [
    {
     "data": {
      "text/plain": [
       "array([-4527.92769507])"
      ]
     },
     "execution_count": 41,
     "metadata": {},
     "output_type": "execute_result"
    }
   ],
   "source": [
    "min(Y2PredList)\n",
    "#plt.hist(Y2PredList)\n",
    "#plt.show()"
   ]
  },
  {
   "cell_type": "code",
   "execution_count": null,
   "id": "577989bd",
   "metadata": {},
   "outputs": [],
   "source": [
    "#len(mdfo_calib.events_df.L1.values)\n",
    "mdfo_calib.events_df.L1.values[0]"
   ]
  },
  {
   "cell_type": "markdown",
   "id": "a6c1a8c0",
   "metadata": {},
   "source": [
    "# scratchwork"
   ]
  },
  {
   "cell_type": "code",
   "execution_count": null,
   "id": "ba178320",
   "metadata": {},
   "outputs": [],
   "source": [
    "\"\"\"\n",
    "fig = plt.figure()\n",
    "x = np.arange(11)\n",
    "y = L3mean[0:11]\n",
    "yerr3 = L3std[0:11]\n",
    "\n",
    "axes = plt.gca()\n",
    "axes.set_xlim([0,10.25])\n",
    "axes.set_ylim([125,150])\n",
    "\n",
    "plt.title(\"Distribution of L3 Ch1 onto L4\")\n",
    "plt.plot(x,y3, label = \"actual\")\n",
    "#plt.plot(x, y_pred3, label = \"pred\")\n",
    "plt.errorbar(x, y_pred3, xerr=0, yerr=res3)\n",
    "plt.legend()\n",
    "plt.show()\n",
    "\"\"\""
   ]
  },
  {
   "cell_type": "code",
   "execution_count": null,
   "id": "562ba910",
   "metadata": {},
   "outputs": [],
   "source": [
    "\"\"\"\n",
    "fig = plt.figure()\n",
    "x = np.arange(11)\n",
    "y = L1mean[0:11]\n",
    "yerr = L1std[0:11]\n",
    "\n",
    "axes = plt.gca()\n",
    "axes.set_xlim([0,10.25])\n",
    "axes.set_ylim([100,200])\n",
    "\n",
    "plt.title(\"Distribution of L1 Ch1 onto L2\")\n",
    "plt.errorbar(x, y, xerr=0, yerr=yerr)\n",
    "plt.show()\n",
    "\n",
    "\n",
    "fig = plt.figure()\n",
    "y3 = L3mean[0:11]\n",
    "yerr3 = L3std[0:11]\n",
    "\n",
    "axes = plt.gca()\n",
    "axes.set_xlim([0,10.25])\n",
    "axes.set_ylim([100,200])\n",
    "\n",
    "plt.title(\"Distribution of L3 Ch1 onto L4\")\n",
    "plt.errorbar(x, y3, xerr=0, yerr=yerr3)\n",
    "plt.show()\n",
    "\"\"\""
   ]
  },
  {
   "cell_type": "code",
   "execution_count": null,
   "id": "2479630f",
   "metadata": {},
   "outputs": [],
   "source": [
    "#pp = PdfPages('multipage.pdf')\n",
    "#pp.savefig()\n",
    "#pp.close()\n",
    "'''\n",
    "bins = np.arange(0,200)\n",
    "s = stats.describe(TDCS_L1[0])\n",
    "plt.hist(TDCS_L1[0], bins=bins)\n",
    "graphStats = \"Mean = {}   Std = {}\".format(round(s[2],2), round(np.sqrt(s[3]),2))\n",
    "plt.title(graphStats)\n",
    "plt.suptitle(\"Layer 1 Ch1: Layer 2 Ch 1\")\n",
    "plt.show()\n",
    "\n",
    "\n",
    "t = stats.describe(TDCS_L3[0])\n",
    "plt.hist(TDCS_L1[0], bins= bins)\n",
    "graphStats = \"Mean = {}   Std = {}\".format(round(t[2],2), round(np.sqrt(t[3]),2))\n",
    "plt.title(graphStats)\n",
    "plt.suptitle(\"Layer 3 Ch1: Layer 4 Ch 1\")\n",
    "plt.show()\n",
    "'''"
   ]
  },
  {
   "cell_type": "code",
   "execution_count": null,
   "id": "f7020a8a",
   "metadata": {},
   "outputs": [],
   "source": [
    "\"\"\"\n",
    "res = []\n",
    "for i in range(11):\n",
    "    res.append(abs(y[i]-y_pred[i]))\n",
    "\n",
    "fig = plt.figure()\n",
    "x = np.arange(11)\n",
    "y = L1mean[0:11]\n",
    "yerr = L1std[0:11]\n",
    "\n",
    "axes = plt.gca()\n",
    "axes.set_xlim([0,10.25])\n",
    "axes.set_ylim([125,150])\n",
    "\n",
    "plt.title(\"Distribution of L1 Ch1 onto L2\")\n",
    "plt.plot(x,y, label = \"actual\")\n",
    "#plt.plot(x, y_pred3, label = \"pred\")\n",
    "plt.errorbar(x, y_pred, xerr=0, yerr=res)\n",
    "plt.legend()\n",
    "plt.show()\n",
    "\"\"\""
   ]
  },
  {
   "cell_type": "code",
   "execution_count": null,
   "id": "13c418e0",
   "metadata": {},
   "outputs": [],
   "source": [
    "\"\"\"\n",
    "resA1 =  [abs(ele) for ele in res]\n",
    "resA3 =  [abs(ele) for ele in res3]\n",
    "\n",
    "plt.title(\"Residule of L1 and L3\")\n",
    "plt.plot(x,resA1, label = \"L1\")\n",
    "plt.plot(x, resA3, label = \"L3\")\n",
    "plt.legend()\n",
    "plt.show()\n",
    "\"\"\""
   ]
  },
  {
   "cell_type": "code",
   "execution_count": null,
   "id": "b4f82b49",
   "metadata": {},
   "outputs": [],
   "source": [
    "\"\"\"\n",
    "for i in range(11):\n",
    "    plt.hist(L1_yPredList[i], bins= bins)\n",
    "#graphStats = \"Mean = {}   Std = {}\".format(round(t[2],2), round(np.sqrt(t[3]),2))\n",
    "plt.title(\"L2 Prediction\")\n",
    "#plt.suptitle(\"Layer 3 Ch1: Layer 4 Ch 1\")\n",
    "plt.show()\n",
    "\"\"\""
   ]
  },
  {
   "cell_type": "code",
   "execution_count": null,
   "id": "ec06335d",
   "metadata": {},
   "outputs": [],
   "source": []
  }
 ],
 "metadata": {
  "kernelspec": {
   "display_name": "Python 3",
   "language": "python",
   "name": "python3"
  },
  "language_info": {
   "codemirror_mode": {
    "name": "ipython",
    "version": 3
   },
   "file_extension": ".py",
   "mimetype": "text/x-python",
   "name": "python",
   "nbconvert_exporter": "python",
   "pygments_lexer": "ipython3",
   "version": "3.7.5"
  }
 },
 "nbformat": 4,
 "nbformat_minor": 5
}
